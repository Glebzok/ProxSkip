{
 "cells": [
  {
   "cell_type": "code",
   "execution_count": 1,
   "metadata": {
    "colab": {
     "base_uri": "https://localhost:8080/"
    },
    "id": "HAzyeyeyivwH",
    "outputId": "e92cc6b7-ac7e-475b-ddf0-3c581bb2a314"
   },
   "outputs": [
    {
     "name": "stdout",
     "output_type": "stream",
     "text": [
      "Collecting git+https://github.com/konstmish/opt_methods.git\n",
      "  Cloning https://github.com/konstmish/opt_methods.git to /private/var/folders/1r/dhtw1ntj2klfnlqmdcmdbtcm71p3bh/T/pip-req-build-mlqqw3p7\n",
      "Requirement already satisfied (use --upgrade to upgrade): opt-methods==0.1.1 from git+https://github.com/konstmish/opt_methods.git in /opt/anaconda3/lib/python3.8/site-packages\n",
      "Building wheels for collected packages: opt-methods\n",
      "  Building wheel for opt-methods (setup.py) ... \u001b[?25ldone\n",
      "\u001b[?25h  Created wheel for opt-methods: filename=opt_methods-0.1.1-py3-none-any.whl size=53038 sha256=ac5d3b242212025ab2c016991b7ece196820cd5f5e3bdcd7fe79e2cf8f1afda6\n",
      "  Stored in directory: /private/var/folders/1r/dhtw1ntj2klfnlqmdcmdbtcm71p3bh/T/pip-ephem-wheel-cache-wc3ytv_y/wheels/bf/b4/48/3c91e0f1794f4eeba87acece649fcbd94f4b9a93674874633b\n",
      "Successfully built opt-methods\n"
     ]
    }
   ],
   "source": [
    "!pip install git+https://github.com/konstmish/opt_methods.git"
   ]
  },
  {
   "cell_type": "code",
   "execution_count": 2,
   "metadata": {
    "colab": {
     "base_uri": "https://localhost:8080/"
    },
    "id": "dEcNMoYujO_g",
    "outputId": "a22942d0-45ae-49b8-eaad-6da6f5b0cc06"
   },
   "outputs": [
    {
     "name": "stdout",
     "output_type": "stream",
     "text": [
      "Requirement already up-to-date: ray in /opt/anaconda3/lib/python3.8/site-packages (1.13.0)\n",
      "Requirement already satisfied, skipping upgrade: click<=8.0.4,>=7.0 in /opt/anaconda3/lib/python3.8/site-packages (from ray) (7.1.2)\n",
      "Requirement already satisfied, skipping upgrade: aiosignal in /opt/anaconda3/lib/python3.8/site-packages (from ray) (1.2.0)\n",
      "Requirement already satisfied, skipping upgrade: msgpack<2.0.0,>=1.0.0 in /opt/anaconda3/lib/python3.8/site-packages (from ray) (1.0.0)\n",
      "Requirement already satisfied, skipping upgrade: virtualenv in /opt/anaconda3/lib/python3.8/site-packages (from ray) (20.14.1)\n",
      "Requirement already satisfied, skipping upgrade: filelock in /opt/anaconda3/lib/python3.8/site-packages (from ray) (3.0.12)\n",
      "Requirement already satisfied, skipping upgrade: requests in /opt/anaconda3/lib/python3.8/site-packages (from ray) (2.24.0)\n",
      "Requirement already satisfied, skipping upgrade: numpy>=1.16; python_version < \"3.9\" in /opt/anaconda3/lib/python3.8/site-packages (from ray) (1.19.2)\n",
      "Requirement already satisfied, skipping upgrade: pyyaml in /opt/anaconda3/lib/python3.8/site-packages (from ray) (5.3.1)\n",
      "Requirement already satisfied, skipping upgrade: jsonschema in /opt/anaconda3/lib/python3.8/site-packages (from ray) (3.2.0)\n",
      "Requirement already satisfied, skipping upgrade: protobuf<4.0.0,>=3.15.3 in /opt/anaconda3/lib/python3.8/site-packages (from ray) (3.18.0)\n",
      "Requirement already satisfied, skipping upgrade: grpcio<=1.43.0,>=1.28.1 in /opt/anaconda3/lib/python3.8/site-packages (from ray) (1.43.0)\n",
      "Requirement already satisfied, skipping upgrade: frozenlist in /opt/anaconda3/lib/python3.8/site-packages (from ray) (1.3.0)\n",
      "Requirement already satisfied, skipping upgrade: attrs in /opt/anaconda3/lib/python3.8/site-packages (from ray) (20.3.0)\n",
      "Requirement already satisfied, skipping upgrade: six<2,>=1.9.0 in /opt/anaconda3/lib/python3.8/site-packages (from virtualenv->ray) (1.15.0)\n",
      "Requirement already satisfied, skipping upgrade: distlib<1,>=0.3.1 in /opt/anaconda3/lib/python3.8/site-packages (from virtualenv->ray) (0.3.4)\n",
      "Requirement already satisfied, skipping upgrade: platformdirs<3,>=2 in /opt/anaconda3/lib/python3.8/site-packages (from virtualenv->ray) (2.5.2)\n",
      "Requirement already satisfied, skipping upgrade: certifi>=2017.4.17 in /opt/anaconda3/lib/python3.8/site-packages (from requests->ray) (2020.6.20)\n",
      "Requirement already satisfied, skipping upgrade: idna<3,>=2.5 in /opt/anaconda3/lib/python3.8/site-packages (from requests->ray) (2.10)\n",
      "Requirement already satisfied, skipping upgrade: urllib3!=1.25.0,!=1.25.1,<1.26,>=1.21.1 in /opt/anaconda3/lib/python3.8/site-packages (from requests->ray) (1.25.11)\n",
      "Requirement already satisfied, skipping upgrade: chardet<4,>=3.0.2 in /opt/anaconda3/lib/python3.8/site-packages (from requests->ray) (3.0.4)\n",
      "Requirement already satisfied, skipping upgrade: pyrsistent>=0.14.0 in /opt/anaconda3/lib/python3.8/site-packages (from jsonschema->ray) (0.17.3)\n",
      "Requirement already satisfied, skipping upgrade: setuptools in /opt/anaconda3/lib/python3.8/site-packages (from jsonschema->ray) (50.3.1.post20201107)\n"
     ]
    }
   ],
   "source": [
    "!pip install -U ray"
   ]
  },
  {
   "cell_type": "code",
   "execution_count": 3,
   "metadata": {
    "id": "D_ulQQc9jIrx"
   },
   "outputs": [],
   "source": [
    "import matplotlib\n",
    "import numpy as np\n",
    "import psutil\n",
    "import ray\n",
    "import seaborn as sns\n",
    "\n",
    "import matplotlib.pyplot as plt\n",
    "import numpy.linalg as la\n",
    "from scipy.sparse import csc_matrix, csr_matrix\n",
    "from sklearn.datasets import load_svmlight_file, fetch_rcv1\n",
    "\n",
    "from optmethods.datasets import get_dataset\n",
    "from optmethods.first_order import Adgd, Gd, Nesterov, RestNest\n",
    "from optmethods.loss import LogisticRegression\n",
    "from optmethods.utils import get_trace, relative_round\n",
    "\n",
    "sns.set(style=\"whitegrid\", context=\"talk\", font_scale=1.2, palette=sns.color_palette(\"bright\"), color_codes=False)\n",
    "matplotlib.rcParams['pdf.fonttype'] = 42\n",
    "matplotlib.rcParams['ps.fonttype'] = 42\n",
    "matplotlib.rcParams['font.family'] = 'sans-serif'\n",
    "matplotlib.rcParams['font.sans-serif'] = 'DejaVu Sans'\n",
    "matplotlib.rcParams['mathtext.fontset'] = 'cm'\n",
    "matplotlib.rcParams['figure.figsize'] = (9, 6)\n",
    "# Multiple plots in one figure: code below\n",
    "# import matplotlib.backends.backend_pdf as bf\n",
    "# <code for plt>\n",
    "# pdf = bf.PdfPages(\"./output.pdf\")\n",
    "# for fig in xrange(1, plt.figure().number):\n",
    "#         pdf.savefig( fig )\n",
    "# pdf.close()"
   ]
  },
  {
   "cell_type": "code",
   "execution_count": 4,
   "metadata": {
    "id": "aN_WVLzJi3vP"
   },
   "outputs": [],
   "source": [
    "num_cpus = psutil.cpu_count(logical=False)\n",
    "# ray.init(num_cpus=num_cpus)"
   ]
  },
  {
   "cell_type": "markdown",
   "metadata": {
    "id": "eentqz5FkZtV"
   },
   "source": [
    "## Get data and define problem"
   ]
  },
  {
   "cell_type": "code",
   "execution_count": 7,
   "metadata": {
    "colab": {
     "base_uri": "https://localhost:8080/"
    },
    "id": "3hzL7NKAi4RH",
    "outputId": "434154f8-14f1-494e-bb9a-08696b6b8b01"
   },
   "outputs": [
    {
     "name": "stdout",
     "output_type": "stream",
     "text": [
      "Computing the smoothness constant via SVD, it may take a few minutes...\n",
      "0.6611558746661758 6.611558746661757e-05\n"
     ]
    }
   ],
   "source": [
    "import sklearn.datasets\n",
    "import urllib.request\n",
    "w8a_url = \"https://www.csie.ntu.edu.tw/~cjlin/libsvmtools/datasets/binary/w8a\"\n",
    "a9a_url = \"https://www.csie.ntu.edu.tw/~cjlin/libsvmtools/datasets/binary/a9a\"\n",
    "data_path = './w8a'\n",
    "f = urllib.request.urlretrieve(w8a_url, data_path)\n",
    "# f = urllib.request.urlretrieve(a9a_url, data_path)\n",
    "A, b = sklearn.datasets.load_svmlight_file(data_path)\n",
    "\n",
    "n, dim = A.shape\n",
    "if n % num_cpus != 0:\n",
    "    A = A[:n - (n % num_cpus)]\n",
    "    b = b[:n - (n % num_cpus)]\n",
    "b_unique = np.unique(b)\n",
    "if (b_unique == [1, 2]).all():\n",
    "    # Transform labels {1, 2} to {0, 1}\n",
    "    b = b - 1\n",
    "elif (b_unique == [-1, 1]).all():\n",
    "    # Transform labels {-1, 1} to {0, 1}\n",
    "    b = (b+1) / 2\n",
    "else:\n",
    "    # replace class labels with 0's and 1's\n",
    "    b = 1. * (b == b[0])\n",
    "# A = A.toarray()\n",
    "l1 = 0\n",
    "loss = LogisticRegression(A, b, l1=l1, l2=0)\n",
    "n, dim = A.shape\n",
    "if n <= 20000 or dim <= 20000:\n",
    "    print('Computing the smoothness constant via SVD, it may take a few minutes...')\n",
    "L = loss.smoothness\n",
    "# l2 = 0\n",
    "l2 = 1e-4 * L\n",
    "loss.l2 = l2\n",
    "# x0 = csc_matrix((dim, 1))\n",
    "x0 = np.zeros(dim)\n",
    "n_epoch = 100\n",
    "# it_max = (n_epoch * n) // batch_size\n",
    "trace_len = 300\n",
    "\n",
    "print(L, l2)"
   ]
  },
  {
   "cell_type": "markdown",
   "metadata": {
    "id": "Ebqm_RYbkejf"
   },
   "source": [
    "## Solve problem by Nesterov's method"
   ]
  },
  {
   "cell_type": "code",
   "execution_count": 8,
   "metadata": {
    "colab": {
     "base_uri": "https://localhost:8080/",
     "height": 389
    },
    "id": "7QxXgy56i4vq",
    "outputId": "7060dae0-c0cb-4ffc-de99-f84bf7ab0fda"
   },
   "outputs": [
    {
     "data": {
      "image/png": "[encoded data removed]",
      "text/plain": [
       "<Figure size 648x432 with 1 Axes>"
      ]
     },
     "metadata": {},
     "output_type": "display_data"
    }
   ],
   "source": [
    "rest = RestNest(loss=loss, doubling=True)\n",
    "rest_tr = rest.run(x0=x0, it_max=10000)\n",
    "rest_tr.compute_loss_of_iterates()\n",
    "rest.trace.plot_losses()\n",
    "plt.yscale('log')"
   ]
  },
  {
   "cell_type": "markdown",
   "metadata": {
    "id": "teevtNIPkPPy"
   },
   "source": [
    "## Define local methods"
   ]
  },
  {
   "cell_type": "markdown",
   "metadata": {
    "id": "0O78aFoMkUR-"
   },
   "source": [
    "### Local SGD"
   ]
  },
  {
   "cell_type": "code",
   "execution_count": 9,
   "metadata": {
    "id": "l3m85O7TkNwN"
   },
   "outputs": [],
   "source": [
    "from optmethods.optimizer import StochasticOptimizer\n",
    "\n",
    "\n",
    "@ray.remote\n",
    "class Worker:\n",
    "    def __init__(self, shuffle=True, prox_skip=False, loss=None, it_local=None, batch_size=1):\n",
    "        self.loss = loss\n",
    "        self.shuffle = shuffle\n",
    "        self.prox_skip = prox_skip\n",
    "        self.it_local = it_local\n",
    "        self.batch_size = batch_size\n",
    "        self.c = None\n",
    "        self.h = None\n",
    "        self.rng_skip = np.random.default_rng(42) # random number generator for random synchronizations\n",
    "    \n",
    "    def run_local(self, x, lr):\n",
    "        self.x = x * 1.\n",
    "        if self.shuffle:\n",
    "            self.run_local_shuffle(lr)\n",
    "        elif self.prox_skip:\n",
    "            print(f\"running prox skip with x={x}\")\n",
    "            self.run_prox_skip(lr)\n",
    "        else:\n",
    "            self.run_local_sgd(lr)\n",
    "        return self.x\n",
    "    \n",
    "    def run_local_shuffle(self, lr):\n",
    "        permutation = np.random.permutation(self.loss.n)\n",
    "        i = 0\n",
    "        while i < self.loss.n:\n",
    "            i_max = min(self.loss.n, i + self.batch_size)\n",
    "            idx = permutation[i:i_max]\n",
    "            self.x -= lr * self.loss.stochastic_gradient(self.x, idx=idx)\n",
    "            i += self.batch_size\n",
    "    \n",
    "    def run_local_sgd(self, lr):\n",
    "        for i in range(self.it_local):\n",
    "            if self.batch_size is None:\n",
    "                self.x -= lr * self.loss.gradient(self.x)\n",
    "            else:\n",
    "                self.x -= lr * self.loss.stochastic_gradient(self.x, batch_size=self.batch_size)\n",
    "    \n",
    "    def run_scaffold(self, x, lr, c):\n",
    "        # as in the original scaffold paper, we use their Option II\n",
    "        self.x = x * 1.\n",
    "        if self.c is None:\n",
    "            self.c = self.x * 0. #initialize zero vector of the same dimension\n",
    "        for i in range(self.it_local):\n",
    "            if self.batch_size is None:\n",
    "                g = self.loss.gradient(self.x)\n",
    "            else:\n",
    "                g = self.loss.stochastic_gradient(self.x, batch_size=self.batch_size)\n",
    "            self.x -= lr * (g - self.c + c)\n",
    "        self.c += 1 / (self.it_local * lr) * (x - self.x) - c\n",
    "        return self.x\n",
    "\n",
    "    def run_prox_skip(self, lr):\n",
    "        p = 1 / self.it_local\n",
    "        if self.h is None:\n",
    "            # first iteration\n",
    "            self.h = self.x * 0. # initialize zero vector of the same dimension\n",
    "        else:\n",
    "            # update the gradient estimate \n",
    "            self.h += p / self.lr * (self.x - self.x_before_averaing)\n",
    "        it_local = self.rng_skip.geometric(p=p) # since all workers use the same random seed, this number is the same for all of them\n",
    "\n",
    "        for i in range(it_local):\n",
    "            if self.batch_size is None:\n",
    "                g = self.loss.gradient(self.x)\n",
    "            else:\n",
    "                g = self.loss.stochastic_gradient(self.x, batch_size=self.batch_size)\n",
    "            self.x -= lr * (g - self.h)\n",
    "        self.x_before_averaing = self.x * 1.\n",
    "    \n",
    "    def get_control_var(self):\n",
    "        return self.c\n",
    "\n",
    "\n",
    "class LocalSgd(StochasticOptimizer):\n",
    "    \"\"\"\n",
    "    Stochastic gradient descent with decreasing or constant learning rate.\n",
    "    \n",
    "    Arguments:\n",
    "        lr (float, optional): an estimate of the inverse smoothness constant\n",
    "        lr_decay_coef (float, optional): the coefficient in front of the number of finished iterations\n",
    "            in the denominator of step-size. For strongly convex problems, a good value\n",
    "            is mu/2, where mu is the strong convexity constant\n",
    "        lr_decay_power (float, optional): the power to exponentiate the number of finished iterations\n",
    "            in the denominator of step-size. For strongly convex problems, a good value is 1 (default: 1)\n",
    "        it_start_decay (int, optional): how many iterations the step-size is kept constant\n",
    "            By default, will be set to have about 2.5% of iterations with the step-size equal to lr0\n",
    "        batch_size (int, optional): the number of samples from the function to be used at each iteration\n",
    "    \"\"\"\n",
    "    def __init__(self, it_local, n_workers=None, cohort_size=None, iid=False, lr0=None, lr_max=np.inf, lr_decay_coef=0,\n",
    "                 lr_decay_power=1, it_start_decay=None, batch_size=1, losses=None, *args, **kwargs):\n",
    "        super(LocalSgd, self).__init__(*args, **kwargs)\n",
    "        self.it_local = it_local\n",
    "        if n_workers is None:\n",
    "            n_workers = psutil.cpu_count(logical=False)\n",
    "        if cohort_size is None:\n",
    "            cohort_size = n_workers\n",
    "        self.n_workers = n_workers\n",
    "        self.cohort_size = cohort_size\n",
    "        self.iid = iid\n",
    "        self.lr0 = lr0\n",
    "        self.lr_max = lr_max\n",
    "        self.lr_decay_coef = lr_decay_coef\n",
    "        self.lr_decay_power = lr_decay_power\n",
    "        self.it_start_decay = it_start_decay\n",
    "        self.batch_size = batch_size\n",
    "        self.losses = losses\n",
    "        \n",
    "    def step(self):\n",
    "        denom_const = 1 / self.lr0\n",
    "        lr_decayed = 1 / (denom_const + self.it_local*self.lr_decay_coef*max(0, self.it-self.it_start_decay)**self.lr_decay_power)\n",
    "        if lr_decayed < 0:\n",
    "            lr_decayed = np.inf\n",
    "        self.lr = min(lr_decayed, self.lr_max)\n",
    "        x_id = ray.put(self.x)\n",
    "        \n",
    "        if self.cohort_size == self.n_workers:\n",
    "            self.x = np.mean(ray.get([worker.run_local.remote(x_id, self.lr) for worker in self.workers]), axis=0)\n",
    "        else:\n",
    "            cohort = np.random.choice(self.n_workers, self.cohort_size, replace=False)\n",
    "            self.x = np.mean(ray.get([self.workers[i].run_local.remote(x_id, self.lr) for i in cohort]), axis=0)\n",
    "    \n",
    "    def init_run(self, *args, **kwargs):\n",
    "        super(LocalSgd, self).init_run(*args, **kwargs)\n",
    "        if self.it_start_decay is None and np.isfinite(self.it_max):\n",
    "            self.it_start_decay = self.it_max // 40 if np.isfinite(self.it_max) else 0\n",
    "        if self.lr0 is None:\n",
    "            self.lr0 = 1 / self.loss.batch_smoothness(batch_size)\n",
    "        if self.iid:\n",
    "            loss_id = ray.put(self.loss)\n",
    "            self.workers = [Worker.remote(shuffle=False, loss=loss_id, it_local=self.it_local, batch_size=self.batch_size) for _ in range(self.n_workers)]\n",
    "        else:\n",
    "            loss_ids = [ray.put(self.losses[i]) for i in range(self.n_workers)]\n",
    "            self.workers = [Worker.remote(shuffle=False, loss=loss, it_local=self.it_local, batch_size=self.batch_size) for loss in loss_ids]\n",
    "        \n",
    "    def update_trace(self, first_iterations=10):\n",
    "        super(LocalSgd, self).update_trace()\n",
    "        \n",
    "    def terminate_workers(self):\n",
    "        for worker in self.workers:\n",
    "            ray.kill(worker)"
   ]
  },
  {
   "cell_type": "markdown",
   "metadata": {
    "id": "IgbaUWC7lN1u"
   },
   "source": [
    "### FedRR"
   ]
  },
  {
   "cell_type": "code",
   "execution_count": 10,
   "metadata": {
    "id": "hQTuEMdmlKm1"
   },
   "outputs": [],
   "source": [
    "import math\n",
    "\n",
    "class LocalShuffling(StochasticOptimizer):\n",
    "    \"\"\"\n",
    "    Shuffling-based stochastic gradient descent with decreasing or constant learning rate.\n",
    "    For a formal description and convergence guarantees, see\n",
    "        https://arxiv.org/abs/2006.05988\n",
    "    \n",
    "    The method is sensitive to finishing the final epoch, so it will terminate earlier \n",
    "    than it_max if it_max is not divisible by the number of steps per epoch.\n",
    "    \n",
    "    Arguments:\n",
    "        reshuffle (bool, optional): whether to get a new permuation for every new epoch.\n",
    "            For convex problems, only a single permutation should suffice and it can run faster (default: False)\n",
    "        prox_every_it (bool, optional): whether to use proximal operation every iteration \n",
    "            or only at the end of an epoch. Theory supports the latter. Only used if the loss includes\n",
    "            a proximal regularizer (default: False)\n",
    "        lr0 (float, optional): an estimate of the inverse smoothness constant, this step-size\n",
    "            is used for the first epoch_start_decay epochs. If not given, it will be set\n",
    "            with the value in the loss.\n",
    "        lr_max (float, optional): a maximal step-size never to be exceeded (default: np.inf)\n",
    "        lr_decay_coef (float, optional): the coefficient in front of the number of finished epochs\n",
    "            in the denominator of step-size. For strongly convex problems, a good value\n",
    "            is mu/3, where mu is the strong convexity constant\n",
    "        lr_decay_power (float, optional): the power to exponentiate the number of finished epochs\n",
    "            in the denominator of step-size. For strongly convex problems, a good value is 1 (default: 1)\n",
    "        epoch_start_decay (int, optional): how many epochs the step-size is kept constant\n",
    "            By default, will be set to have about 2.5% of iterations with the step-size equal to lr0\n",
    "        batch_size (int, optional): the number of samples from the function to be used at each iteration\n",
    "    \"\"\"\n",
    "    def __init__(self, n_workers=None, iid=False, reshuffle=False, lr0=None, lr_max=np.inf, lr_decay_coef=0,\n",
    "                 lr_decay_power=1, epoch_start_decay=1, batch_size=1, \n",
    "                 losses=None, jumping=0, cohort_size=None, *args, **kwargs):\n",
    "        super(LocalShuffling, self).__init__(*args, **kwargs)\n",
    "        if n_workers is None:\n",
    "            n_workers = psutil.cpu_count(logical=False)\n",
    "        if cohort_size is None:\n",
    "            cohort_size = n_workers\n",
    "        self.n_workers = n_workers\n",
    "        self.cohort_size = cohort_size\n",
    "        self.iid = iid\n",
    "        self.reshuffle = reshuffle\n",
    "        self.lr0 = lr0\n",
    "        self.lr_max = lr_max\n",
    "        self.lr_decay_coef = lr_decay_coef\n",
    "        self.lr_decay_power = lr_decay_power\n",
    "        self.epoch_start_decay = epoch_start_decay\n",
    "        self.batch_size = batch_size\n",
    "        self.losses = losses\n",
    "        self.jumping = jumping\n",
    "        \n",
    "        if self.iid:\n",
    "            self.steps_per_epoch = math.ceil(self.loss.n/batch_size)\n",
    "        else:\n",
    "            self.steps_per_epoch = math.ceil(self.loss.n/batch_size/n_workers)\n",
    "        if epoch_start_decay is None and np.isfinite(self.epoch_max):\n",
    "            self.epoch_start_decay = 1 + self.epoch_max // 40\n",
    "        elif epoch_start_decay is None:\n",
    "            self.epoch_start_decay = 1\n",
    "        \n",
    "    def step(self):\n",
    "        if self.it%self.steps_per_epoch == 0 and self.reshuffle:\n",
    "            # Start new epoch\n",
    "            self.permutation = np.random.permutation(self.loss.n)\n",
    "            self.i = 0\n",
    "            self.sampled_permutations += 1\n",
    "        idx_perm = np.arange(self.i, min(self.loss.n, self.i+self.batch_size))\n",
    "        idx = self.permutation[idx_perm]\n",
    "        self.i += self.batch_size\n",
    "        # since the objective is 1/n sum_{i=1}^n f_i(x) + l2/2*||x||^2\n",
    "        # any incomplete minibatch should be normalized by batch_size\n",
    "        normalization = self.loss.n / self.steps_per_epoch\n",
    "        self.grad = self.loss.stochastic_gradient(self.x, idx=idx, normalization=normalization)\n",
    "        denom_const = 1 / self.lr0\n",
    "        lr_decayed = 1 / (denom_const + self.loss.n/self.batch_size*self.lr_decay_coef*max(0, self.finished_epochs-self.epoch_start_decay)**self.lr_decay_power)\n",
    "        self.lr = min(lr_decayed, self.lr_max)\n",
    "        x_id = ray.put(self.x)\n",
    "        if self.cohort_size == self.n_workers:\n",
    "            x_new = np.mean(ray.get([worker.run_local.remote(x_id, self.lr) for worker in self.workers]), axis=0)\n",
    "        else:\n",
    "            cohort = np.random.choice(self.n_workers, self.cohort_size, replace=False)\n",
    "            x_new = np.mean(ray.get([self.workers[i].run_local.remote(x_id, self.lr) for i in cohort]), axis=0)\n",
    "        if self.jumping:\n",
    "            full_grad_estim = (self.x - x_new) / self.lr\n",
    "            self.gd_lr = self.lr * (1 + self.jumping)\n",
    "            self.x = self.x - self.gd_lr * full_grad_estim\n",
    "            self.jumping_sum += self.jumping_coef\n",
    "        else:\n",
    "            self.x = x_new\n",
    "        self.finished_epochs += 1\n",
    "    \n",
    "    def init_run(self, *args, **kwargs):\n",
    "        super(LocalShuffling, self).init_run(*args, **kwargs)\n",
    "        if self.lr0 is None:\n",
    "            self.lr0 = 1 / self.loss.batch_smoothness(batch_size)\n",
    "        self.finished_epochs = 0\n",
    "        self.permutation = np.random.permutation(self.loss.n)\n",
    "        self.sampled_permutations = 1\n",
    "        self.epoch_max = self.it_max // self.steps_per_epoch\n",
    "        if self.iid:\n",
    "            loss_id = ray.put(self.loss)\n",
    "            self.workers = [Worker.remote(shuffle=True, loss=loss_id, it_local=None, batch_size=self.batch_size) for _ in range(self.n_workers)]\n",
    "        else:\n",
    "            loss_ids = [ray.put(self.losses[i]) for i in range(self.n_workers)]\n",
    "            self.workers = [Worker.remote(shuffle=True, loss=loss, it_local=None, batch_size=self.batch_size) for loss in loss_ids]\n",
    "        self.jumping_sum = 0\n",
    "        self.gd_lr = None\n",
    "        \n",
    "    def terminate_workers(self):\n",
    "        for worker in self.workers:\n",
    "            ray.kill(worker)"
   ]
  },
  {
   "cell_type": "markdown",
   "metadata": {
    "id": "T4gAjNNSpdf5"
   },
   "source": [
    "### Scaffold"
   ]
  },
  {
   "cell_type": "code",
   "execution_count": 11,
   "metadata": {
    "id": "hKtE5dTYpfW1"
   },
   "outputs": [],
   "source": [
    "class Scaffold(StochasticOptimizer):\n",
    "    \"\"\"\n",
    "    Scaffold (local SGD with variance control).\n",
    "    \n",
    "    Arguments:\n",
    "        lr (float, optional): an estimate of the inverse smoothness constant\n",
    "        lr_decay_coef (float, optional): the coefficient in front of the number of finished iterations\n",
    "            in the denominator of step-size. For strongly convex problems, a good value\n",
    "            is mu/2, where mu is the strong convexity constant\n",
    "        lr_decay_power (float, optional): the power to exponentiate the number of finished iterations\n",
    "            in the denominator of step-size. For strongly convex problems, a good value is 1 (default: 1)\n",
    "        it_start_decay (int, optional): how many iterations the step-size is kept constant\n",
    "            By default, will be set to have about 2.5% of iterations with the step-size equal to lr0\n",
    "        batch_size (int, optional): the number of samples from the function to be used at each iteration\n",
    "    \"\"\"\n",
    "    def __init__(self, it_local, n_workers=None, iid=False, lr0=None, lr_max=np.inf, \n",
    "                 lr_decay_coef=0, lr_decay_power=1, it_start_decay=None,\n",
    "                 batch_size=1, losses=None, global_lr=1., cohort_size=None, *args, **kwargs):\n",
    "        super(Scaffold, self).__init__(*args, **kwargs)\n",
    "        self.it_local = it_local\n",
    "        if n_workers is None:\n",
    "            n_workers = psutil.cpu_count(logical=False)\n",
    "        if cohort_size is None:\n",
    "            cohort_size = n_workers\n",
    "        self.n_workers = n_workers\n",
    "        self.cohort_size = cohort_size\n",
    "        self.iid = iid\n",
    "        self.lr0 = lr0\n",
    "        self.lr_max = lr_max\n",
    "        self.lr_decay_coef = lr_decay_coef\n",
    "        self.lr_decay_power = lr_decay_power\n",
    "        self.it_start_decay = it_start_decay\n",
    "        self.batch_size = batch_size\n",
    "        self.losses = losses\n",
    "        self.global_lr = global_lr\n",
    "        self.trace.cs = []\n",
    "        \n",
    "    def step(self):\n",
    "        denom_const = 1 / self.lr0\n",
    "        lr_decayed = 1 / (denom_const + self.it_local*self.lr_decay_coef*max(0, self.it-self.it_start_decay)**self.lr_decay_power)\n",
    "        if lr_decayed < 0:\n",
    "            lr_decayed = np.inf \n",
    "        self.lr = min(lr_decayed, self.lr_max)\n",
    "        x_id = ray.put(self.x)\n",
    "        c_id = ray.put(self.c)\n",
    "        if self.cohort_size == self.n_workers:\n",
    "            x_new = np.mean(ray.get([worker.run_scaffold.remote(x_id, self.lr, c_id) for worker in self.workers]), axis=0)\n",
    "            c_new = np.mean(ray.get([worker.get_control_var.remote() for worker in self.workers]), axis=0)\n",
    "        else:\n",
    "            cohort = np.random.choice(self.n_workers, self.cohort_size, replace=False)\n",
    "            x_new = np.mean(ray.get([self.workers[i].run_scaffold.remote(x_id, self.lr, c_id) for i in cohort]), axis=0)\n",
    "            c_new = np.mean(ray.get([self.workers[i].get_control_var.remote() for i in cohort]), axis=0)\n",
    "        if self.global_lr == 1:\n",
    "            self.x = x_new\n",
    "        else:\n",
    "            self.x += self.global_lr * (x_new - self.x)\n",
    "        self.c += self.cohort_size / self.n_workers * (c_new - self.c)\n",
    "    \n",
    "    def init_run(self, *args, **kwargs):\n",
    "        super(Scaffold, self).init_run(*args, **kwargs)\n",
    "        if self.it_start_decay is None and np.isfinite(self.it_max):\n",
    "            self.it_start_decay = self.it_max // 40 if np.isfinite(self.it_max) else 0\n",
    "        self.c = self.x * 0\n",
    "        if self.iid:\n",
    "            loss_id = ray.put(self.loss)\n",
    "            self.workers = [Worker.remote(shuffle=False, loss=loss_id, it_local=self.it_local, batch_size=self.batch_size) for _ in range(self.n_workers)]\n",
    "        else:\n",
    "            loss_ids = [ray.put(self.losses[i]) for i in range(self.n_workers)]\n",
    "            self.workers = [Worker.remote(shuffle=False, loss=loss, it_local=self.it_local, batch_size=self.batch_size) for loss in loss_ids]\n",
    "        \n",
    "    def terminate_workers(self):\n",
    "        for worker in self.workers:\n",
    "            ray.kill(worker)\n",
    "            \n",
    "    def update_trace(self, first_iterations=10):\n",
    "        super(Scaffold, self).update_trace()\n",
    "        self.trace.cs.append(copy.deepcopy(self.c))\n"
   ]
  },
  {
   "cell_type": "markdown",
   "metadata": {
    "id": "8SUSgZuEkEYX"
   },
   "source": [
    "## FedLin"
   ]
  },
  {
   "cell_type": "code",
   "execution_count": 12,
   "metadata": {
    "id": "vIAyzBQ-kDx0"
   },
   "outputs": [],
   "source": [
    "class Fedlin(StochasticOptimizer):\n",
    "    \"\"\"\n",
    "    Fedlin (local SGD with variance control and linear convergence).\n",
    "    \n",
    "    Arguments:\n",
    "        lr (float, optional): an estimate of the inverse smoothness constant\n",
    "        lr_decay_coef (float, optional): the coefficient in front of the number of finished iterations\n",
    "            in the denominator of step-size. For strongly convex problems, a good value\n",
    "            is mu/2, where mu is the strong convexity constant\n",
    "        lr_decay_power (float, optional): the power to exponentiate the number of finished iterations\n",
    "            in the denominator of step-size. For strongly convex problems, a good value is 1 (default: 1)\n",
    "        it_start_decay (int, optional): how many iterations the step-size is kept constant\n",
    "            By default, will be set to have about 2.5% of iterations with the step-size equal to lr0\n",
    "        batch_size (int, optional): the number of samples from the function to be used at each iteration\n",
    "    \"\"\"\n",
    "    def __init__(self, it_local, n_workers=None, iid=False, lr0=None, lr_max=np.inf, \n",
    "                 lr_decay_coef=0, lr_decay_power=1, it_start_decay=None,\n",
    "                 batch_size=1, losses=None, global_lr=1., cohort_size=None, *args, **kwargs):\n",
    "        super(Fedlin, self).__init__(*args, **kwargs)\n",
    "        self.it_local = it_local\n",
    "        if n_workers is None:\n",
    "            n_workers = psutil.cpu_count(logical=False)\n",
    "        if cohort_size is None:\n",
    "            cohort_size = n_workers\n",
    "        self.n_workers = n_workers\n",
    "        self.cohort_size = cohort_size\n",
    "        self.iid = iid\n",
    "        self.lr0 = lr0\n",
    "        self.lr_max = lr_max\n",
    "        self.lr_decay_coef = lr_decay_coef\n",
    "        self.lr_decay_power = lr_decay_power\n",
    "        self.it_start_decay = it_start_decay\n",
    "        self.batch_size = batch_size\n",
    "        self.losses = losses\n",
    "        self.global_lr = global_lr\n",
    "        self.g = None\n",
    "        self.trace.gs = []\n",
    "        \n",
    "    def step(self):\n",
    "        denom_const = 1 / self.lr0\n",
    "        lr_decayed = 1 / (denom_const + self.it_local*self.lr_decay_coef*max(0, self.it-self.it_start_decay)**self.lr_decay_power)\n",
    "        if lr_decayed < 0:\n",
    "            lr_decayed = np.inf \n",
    "        self.lr = min(lr_decayed, self.lr_max)\n",
    "        x_id = ray.put(self.x)\n",
    "        if self.cohort_size != self.n_workers:\n",
    "            raise ValueError(\"There is no theory for FedLin with partial participation. This feature is not implemented.\")\n",
    "            cohort = np.random.choice(self.n_workers, self.cohort_size, replace=False)\n",
    "        g = np.mean(ray.get([worker.get_fedlin_grad.remote(x_id) for worker in self.workers]), axis=0)\n",
    "        g_id = ray.put(g)\n",
    "        if self.cohort_size == self.n_workers:\n",
    "            self.x = np.mean(ray.get([worker.run_fedlin.remote(x_id, self.lr, g_id) for worker in self.workers]), axis=0)\n",
    "            self.g = ray.get([worker.get_g.remote() for worker in self.workers])  \n",
    "        else:\n",
    "            self.x = np.mean(ray.get([self.workers[i].run_fedlin.remote(x_id, self.lr, c_id) for i in cohort]), axis=0)\n",
    "            self.g = ray.get([worker.get_g.remote() for worker in self.workers])\n",
    "    def init_run(self, *args, **kwargs):\n",
    "        super(Fedlin, self).init_run(*args, **kwargs)\n",
    "        if self.it_start_decay is None and np.isfinite(self.it_max):\n",
    "            self.it_start_decay = self.it_max // 40 if np.isfinite(self.it_max) else 0\n",
    "        if self.iid:\n",
    "            loss_id = ray.put(self.loss)\n",
    "            self.workers = [Worker.remote(shuffle=False, loss=loss_id, it_local=self.it_local, batch_size=self.batch_size) for _ in range(self.n_workers)]\n",
    "        else:\n",
    "            loss_ids = [ray.put(self.losses[i]) for i in range(self.n_workers)]\n",
    "            self.workers = [Worker.remote(shuffle=False, loss=loss, it_local=self.it_local, batch_size=self.batch_size) for loss in loss_ids]\n",
    "        \n",
    "    def terminate_workers(self):\n",
    "        for worker in self.workers:\n",
    "            ray.kill(worker)\n",
    "            \n",
    "    def update_trace(self, first_iterations=10):\n",
    "        super(Fedlin, self).update_trace()\n",
    "        self.trace.gs.append(copy.deepcopy(self.g))\n",
    "            \n",
    "            \n"
   ]
  },
  {
   "cell_type": "code",
   "execution_count": 13,
   "metadata": {},
   "outputs": [],
   "source": [
    "class S_local_GD(StochasticOptimizer):\n",
    "    \"\"\"\n",
    "    S_local_GD (local SGD with variance control and linear convergence).\n",
    "    \n",
    "    Arguments:\n",
    "        lr (float, optional): an estimate of the inverse smoothness constant\n",
    "        lr_decay_coef (float, optional): the coefficient in front of the number of finished iterations\n",
    "            in the denominator of step-size. For strongly convex problems, a good value\n",
    "            is mu/2, where mu is the strong convexity constant\n",
    "        lr_decay_power (float, optional): the power to exponentiate the number of finished iterations\n",
    "            in the denominator of step-size. For strongly convex problems, a good value is 1 (default: 1)\n",
    "        it_start_decay (int, optional): how many iterations the step-size is kept constant\n",
    "            By default, will be set to have about 2.5% of iterations with the step-size equal to lr0\n",
    "        batch_size (int, optional): the number of samples from the function to be used at each iteration\n",
    "    \"\"\"\n",
    "    def __init__(self, it_local, n_workers=None, iid=False, lr0=None, lr_max=np.inf, \n",
    "                 lr_decay_coef=0, lr_decay_power=1, it_start_decay=None,\n",
    "                 batch_size=1, losses=None, global_lr=1., cohort_size=None, *args, **kwargs):\n",
    "        super(S_local_GD, self).__init__(*args, **kwargs)\n",
    "        self.it_local = it_local\n",
    "        if n_workers is None:\n",
    "            n_workers = psutil.cpu_count(logical=False)\n",
    "        if cohort_size is None:\n",
    "            cohort_size = n_workers\n",
    "        self.n_workers = n_workers\n",
    "        self.cohort_size = cohort_size\n",
    "        self.iid = iid\n",
    "        self.lr0 = lr0\n",
    "        self.lr_max = lr_max\n",
    "        self.lr_decay_coef = lr_decay_coef\n",
    "        self.lr_decay_power = lr_decay_power\n",
    "        self.it_start_decay = it_start_decay\n",
    "        self.batch_size = batch_size\n",
    "        self.losses = losses\n",
    "        self.global_lr = global_lr\n",
    "        self.g = None\n",
    "        self.trace.gs = []\n",
    "        \n",
    "    def step(self):\n",
    "        denom_const = 1 / self.lr0\n",
    "        lr_decayed = 1 / (denom_const + self.it_local*self.lr_decay_coef*max(0, self.it-self.it_start_decay)**self.lr_decay_power)\n",
    "        if lr_decayed < 0:\n",
    "            lr_decayed = np.inf \n",
    "        self.lr = min(lr_decayed, self.lr_max)\n",
    "        x_id = ray.put(self.x)\n",
    "        if self.cohort_size != self.n_workers:\n",
    "            raise ValueError(\"There is no theory for FedLin with partial participation. This feature is not implemented.\")\n",
    "            cohort = np.random.choice(self.n_workers, self.cohort_size, replace=False)\n",
    "        g = np.mean(ray.get([worker.get_fedlin_grad.remote(x_id) for worker in self.workers]), axis=0)\n",
    "        g_id = ray.put(g)\n",
    "        if self.cohort_size == self.n_workers:\n",
    "            self.x = np.mean(ray.get([worker.run_slocalgd.remote(x_id, self.lr, g_id) for worker in self.workers]), axis=0)\n",
    "            self.g = ray.get([worker.get_g.remote() for worker in self.workers])  \n",
    "        else:\n",
    "            self.x = np.mean(ray.get([self.workers[i].run_slocalgd.remote(x_id, self.lr, c_id) for i in cohort]), axis=0)\n",
    "            self.g = ray.get([worker.get_g.remote() for worker in self.workers])\n",
    "    def init_run(self, *args, **kwargs):\n",
    "        super(S_local_GD, self).init_run(*args, **kwargs)\n",
    "        if self.it_start_decay is None and np.isfinite(self.it_max):\n",
    "            self.it_start_decay = self.it_max // 40 if np.isfinite(self.it_max) else 0\n",
    "        if self.iid:\n",
    "            loss_id = ray.put(self.loss)\n",
    "            self.workers = [Worker.remote(shuffle=False, loss=loss_id, it_local=self.it_local, batch_size=self.batch_size) for _ in range(self.n_workers)]\n",
    "        else:\n",
    "            loss_ids = [ray.put(self.losses[i]) for i in range(self.n_workers)]\n",
    "            self.workers = [Worker.remote(shuffle=False, loss=loss, it_local=self.it_local, batch_size=self.batch_size) for loss in loss_ids]\n",
    "        \n",
    "    def terminate_workers(self):\n",
    "        for worker in self.workers:\n",
    "            ray.kill(worker)\n",
    "            \n",
    "    def update_trace(self, first_iterations=10):\n",
    "        super(S_local_GD, self).update_trace()\n",
    "        self.trace.gs.append(copy.deepcopy(self.g))\n",
    "            \n",
    "            \n",
    "\n"
   ]
  },
  {
   "cell_type": "markdown",
   "metadata": {
    "id": "Yph9Hgl3zcId"
   },
   "source": [
    "# Non-iid"
   ]
  },
  {
   "cell_type": "code",
   "execution_count": 21,
   "metadata": {
    "id": "Qgtv3nsH53_S"
   },
   "outputs": [],
   "source": [
    "cohort_size = 20 # CHANGE IF YOU WANT PARTIAL PARTICIPATION\n",
    "n_workers = 20\n",
    "n_seeds = 1\n",
    "batch_size = None"
   ]
  },
  {
   "cell_type": "code",
   "execution_count": 15,
   "metadata": {
    "colab": {
     "base_uri": "https://localhost:8080/"
    },
    "id": "iVFPQNTAzbKb",
    "outputId": "3194691d-0d16-43cb-967d-eca0e26aa039"
   },
   "outputs": [
    {
     "name": "stderr",
     "output_type": "stream",
     "text": [
      "/opt/anaconda3/lib/python3.8/site-packages/optmethods/loss/logistic_regression.py:44: UserWarning: The labels have only one unique value.\n",
      "  warnings.warn('The labels have only one unique value.')\n"
     ]
    }
   ],
   "source": [
    "# permutation = A[:, 0].A.squeeze().argsort()\n",
    "permutation = b.squeeze().argsort()\n",
    "\n",
    "losses = []\n",
    "idx = [0] + [(n * i) // n_workers for i in range(1, n_workers)] + [n]\n",
    "for i in range(n_workers):\n",
    "    idx_i = permutation[idx[i] : idx[i+1]]\n",
    "    # idx_i = range(idx[i], idx[i + 1])\n",
    "    loss_i = LogisticRegression(A[idx_i].A, b[idx_i], l1=0, l2=l2)\n",
    "    loss_i.computed_grads = 0\n",
    "    losses.append(loss_i)"
   ]
  },
  {
   "cell_type": "code",
   "execution_count": 16,
   "metadata": {
    "colab": {
     "base_uri": "https://localhost:8080/"
    },
    "id": "hp_s7Koz5ABp",
    "outputId": "f0973417-af19-4c6f-e807-b1d3b0dcb156"
   },
   "outputs": [
    {
     "name": "stdout",
     "output_type": "stream",
     "text": [
      "0.0027321010728551124\n"
     ]
    }
   ],
   "source": [
    "grad_norms = [np.linalg.norm(loss_i.gradient(loss.x_opt))**2 for loss_i in losses]\n",
    "print(np.mean(grad_norms))"
   ]
  },
  {
   "cell_type": "code",
   "execution_count": 17,
   "metadata": {
    "id": "nKWkvnATzu_D"
   },
   "outputs": [],
   "source": [
    "@ray.remote\n",
    "class Worker:\n",
    "    def __init__(self, shuffle=True, prox_skip=False, loss=None, it_local=None, batch_size=1):\n",
    "        self.loss = loss\n",
    "        self.shuffle = shuffle\n",
    "        self.prox_skip = prox_skip\n",
    "        self.it_local = it_local\n",
    "        self.batch_size = batch_size\n",
    "        self.c = None\n",
    "        self.h = None\n",
    "        self.rng_skip = np.random.default_rng(42) # random number generator for random synchronizations\n",
    "    \n",
    "    def run_local(self, x, lr):\n",
    "        self.x = x * 1.\n",
    "        if self.shuffle:\n",
    "            self.run_local_shuffle(lr)\n",
    "        elif self.prox_skip:\n",
    "            self.run_prox_skip(lr)\n",
    "        else:\n",
    "            self.run_local_sgd(lr)\n",
    "        return self.x\n",
    "    \n",
    "    def run_local_shuffle(self, lr):\n",
    "        permutation = np.random.permutation(self.loss.n)\n",
    "        i = 0\n",
    "        while i < self.loss.n:\n",
    "            i_max = min(self.loss.n, i + self.batch_size)\n",
    "            idx = permutation[i:i_max]\n",
    "            self.x -= lr * self.loss.stochastic_gradient(self.x, idx=idx)\n",
    "            i += self.batch_size\n",
    "    \n",
    "    def run_local_sgd(self, lr):\n",
    "        for i in range(self.it_local):\n",
    "            if self.batch_size is None:\n",
    "                self.x -= lr * self.loss.gradient(self.x)\n",
    "            else:\n",
    "                self.x -= lr * self.loss.stochastic_gradient(self.x, batch_size=self.batch_size)\n",
    "    \n",
    "    def run_scaffold(self, x, lr, c):\n",
    "        # as in the original scaffold paper, we use their Option II\n",
    "        self.x = x * 1.\n",
    "        if self.c is None:\n",
    "            self.c = self.x * 0. #initialize zero vector of the same dimension\n",
    "        for i in range(self.it_local):\n",
    "            if self.batch_size is None:\n",
    "                g = self.loss.gradient(self.x)\n",
    "            else:\n",
    "                g = self.loss.stochastic_gradient(self.x, batch_size=self.batch_size)\n",
    "            self.x -= lr * (g - self.c + c)\n",
    "        self.c += 1 / (self.it_local * lr) * (x - self.x) - c\n",
    "        return self.x\n",
    "\n",
    "    def run_prox_skip(self, lr):\n",
    "        p = 1 / self.it_local\n",
    "        if self.h is None:\n",
    "            # first iteration\n",
    "            self.h = self.x * 0. # initialize zero vector of the same dimension\n",
    "        else:\n",
    "            # update the gradient estimate \n",
    "            self.h += p / lr * (self.x - self.x_before_averaing)\n",
    "        it_local = self.rng_skip.geometric(p=p) # since all workers use the same random seed, this number is the same for all of them\n",
    "\n",
    "        for i in range(it_local):\n",
    "            if self.batch_size is None:\n",
    "                g = self.loss.gradient(self.x)\n",
    "            else:\n",
    "                g = self.loss.stochastic_gradient(self.x, batch_size=self.batch_size)\n",
    "            self.x -= lr * (g - self.h)\n",
    "        self.x_before_averaing = self.x * 1.\n",
    "\n",
    "    def run_fedlin(self, x, lr, g):\n",
    "        self.x = x * 1.\n",
    "        for i in range(self.it_local):\n",
    "            if self.batch_size is None:\n",
    "                grad = self.loss.gradient(self.x)\n",
    "            else:\n",
    "                grad = self.loss.stochastic_gradient(self.x, batch_size=self.batch_size)\n",
    "            self.x -= lr * (grad - self.g + g)\n",
    "        return self.x\n",
    "    \n",
    "    def run_slocalgd(self, x, lr, g):\n",
    "        self.x = x * 1.\n",
    "        p = 1 / self.it_local\n",
    "        it_local = self.rng_skip.geometric(p=p)\n",
    "        for i in range(self.it_local):\n",
    "            if self.batch_size is None:\n",
    "                grad = self.loss.gradient(self.x)\n",
    "            else:\n",
    "                grad = self.loss.stochastic_gradient(self.x, batch_size=self.batch_size)\n",
    "            self.x -= lr * (grad - self.g + g)\n",
    "        return self.x\n",
    "    \n",
    "    def get_control_var(self):\n",
    "        return self.c\n",
    "    \n",
    "    def get_h(self):\n",
    "        return self.h\n",
    "    \n",
    "    def get_g(self):\n",
    "        return self.g\n",
    "    \n",
    "    def get_fedlin_grad(self, x):\n",
    "        if self.batch_size is None:\n",
    "            self.g = self.loss.gradient(x)\n",
    "        else:\n",
    "            self.g = self.loss.stochastic_gradient(x, batch_size=self.batch_size)\n",
    "        return self.g"
   ]
  },
  {
   "cell_type": "code",
   "execution_count": 18,
   "metadata": {
    "id": "ht76OAyxO6uw"
   },
   "outputs": [],
   "source": [
    "class ProxSkip(StochasticOptimizer):\n",
    "    \"\"\"\n",
    "    Stochastic gradient descent with decreasing or constant learning rate.\n",
    "    \n",
    "    Arguments:\n",
    "        lr (float, optional): an estimate of the inverse smoothness constant\n",
    "        lr_decay_coef (float, optional): the coefficient in front of the number of finished iterations\n",
    "            in the denominator of step-size. For strongly convex problems, a good value\n",
    "            is mu/2, where mu is the strong convexity constant\n",
    "        lr_decay_power (float, optional): the power to exponentiate the number of finished iterations\n",
    "            in the denominator of step-size. For strongly convex problems, a good value is 1 (default: 1)\n",
    "        it_start_decay (int, optional): how many iterations the step-size is kept constant\n",
    "            By default, will be set to have about 2.5% of iterations with the step-size equal to lr0\n",
    "        batch_size (int, optional): the number of samples from the function to be used at each iteration\n",
    "    \"\"\"\n",
    "    def __init__(self, it_local, n_workers=None, cohort_size=None, iid=False, lr0=None, lr_max=np.inf, lr_decay_coef=0,\n",
    "                 lr_decay_power=1, it_start_decay=None, batch_size=1, losses=None, *args, **kwargs):\n",
    "        super(ProxSkip, self).__init__(*args, **kwargs)\n",
    "        self.it_local = it_local\n",
    "        if n_workers is None:\n",
    "            n_workers = psutil.cpu_count(logical=False)\n",
    "        if cohort_size is None:\n",
    "            cohort_size = n_workers\n",
    "        self.n_workers = n_workers\n",
    "        self.cohort_size = cohort_size\n",
    "        self.iid = iid\n",
    "        self.lr0 = lr0\n",
    "        self.lr_max = lr_max\n",
    "        self.lr_decay_coef = lr_decay_coef\n",
    "        self.lr_decay_power = lr_decay_power\n",
    "        self.it_start_decay = it_start_decay\n",
    "        self.batch_size = batch_size\n",
    "        self.losses = losses\n",
    "        self.trace.hs = []\n",
    "        self.h = None\n",
    "        \n",
    "    def step(self):\n",
    "        denom_const = 1 / self.lr0\n",
    "        lr_decayed = 1 / (denom_const + self.it_local*self.lr_decay_coef*max(0, self.it-self.it_start_decay)**self.lr_decay_power)\n",
    "        if lr_decayed < 0:\n",
    "            lr_decayed = np.inf\n",
    "        self.lr = min(lr_decayed, self.lr_max)\n",
    "        x_id = ray.put(self.x)\n",
    "        \n",
    "        if self.cohort_size == self.n_workers:\n",
    "            self.x = np.mean(ray.get([worker.run_local.remote(x_id, self.lr) for worker in self.workers]), axis=0)\n",
    "        else:\n",
    "            cohort = np.random.choice(self.n_workers, self.cohort_size, replace=False)\n",
    "            self.x = np.mean(ray.get([self.workers[i].run_local.remote(x_id, self.lr) for i in cohort]), axis=0)\n",
    "    \n",
    "    def init_run(self, *args, **kwargs):\n",
    "        super(ProxSkip, self).init_run(*args, **kwargs)\n",
    "        if self.it_start_decay is None and np.isfinite(self.it_max):\n",
    "            self.it_start_decay = self.it_max // 40 if np.isfinite(self.it_max) else 0\n",
    "        if self.lr0 is None:\n",
    "            self.lr0 = 1 / self.loss.batch_smoothness(batch_size)\n",
    "        if self.iid:\n",
    "            loss_id = ray.put(self.loss)\n",
    "            self.workers = [Worker.remote(shuffle=False, prox_skip=True, loss=loss_id, it_local=self.it_local, batch_size=self.batch_size) for _ in range(self.n_workers)]\n",
    "        else:\n",
    "            loss_ids = [ray.put(self.losses[i]) for i in range(self.n_workers)]\n",
    "            self.workers = [Worker.remote(shuffle=False, prox_skip=True, loss=loss, it_local=self.it_local, batch_size=self.batch_size) for loss in loss_ids]\n",
    "        \n",
    "    def update_trace(self, first_iterations=10):\n",
    "        super(ProxSkip, self).update_trace()\n",
    "        self.trace.hs.append(copy.deepcopy(h))\n",
    "        \n",
    "    def terminate_workers(self):\n",
    "        for worker in self.workers:\n",
    "            ray.kill(worker)"
   ]
  },
  {
   "cell_type": "code",
   "execution_count": 19,
   "metadata": {
    "colab": {
     "base_uri": "https://localhost:8080/"
    },
    "id": "CkpyZZUwKOtm",
    "outputId": "aeaaa64b-9164-49ca-98e2-673d7608e333"
   },
   "outputs": [
    {
     "data": {
      "text/plain": [
       "0.6611558746661758"
      ]
     },
     "execution_count": 19,
     "metadata": {},
     "output_type": "execute_result"
    }
   ],
   "source": [
    "loss.smoothness"
   ]
  },
  {
   "cell_type": "code",
   "execution_count": 20,
   "metadata": {
    "id": "xazcrCsDC9iV"
   },
   "outputs": [],
   "source": [
    "class ProxSkip(StochasticOptimizer):\n",
    "    \"\"\"\n",
    "    Stochastic gradient descent with decreasing or constant learning rate.\n",
    "    \n",
    "    Arguments:\n",
    "        lr (float, optional): an estimate of the inverse smoothness constant\n",
    "        lr_decay_coef (float, optional): the coefficient in front of the number of finished iterations\n",
    "            in the denominator of step-size. For strongly convex problems, a good value\n",
    "            is mu/2, where mu is the strong convexity constant\n",
    "        lr_decay_power (float, optional): the power to exponentiate the number of finished iterations\n",
    "            in the denominator of step-size. For strongly convex problems, a good value is 1 (default: 1)\n",
    "        it_start_decay (int, optional): how many iterations the step-size is kept constant\n",
    "            By default, will be set to have about 2.5% of iterations with the step-size equal to lr0\n",
    "        batch_size (int, optional): the number of samples from the function to be used at each iteration\n",
    "    \"\"\"\n",
    "    def __init__(self, it_local, n_workers=None, cohort_size=None, iid=False, lr0=None, lr_max=np.inf, lr_decay_coef=0,\n",
    "                 lr_decay_power=1, it_start_decay=None, batch_size=1, losses=None, *args, **kwargs):\n",
    "        super(ProxSkip, self).__init__(*args, **kwargs)\n",
    "        self.it_local = it_local\n",
    "        if n_workers is None:\n",
    "            n_workers = psutil.cpu_count(logical=False)\n",
    "        if cohort_size is None:\n",
    "            cohort_size = n_workers\n",
    "        self.n_workers = n_workers\n",
    "        self.cohort_size = cohort_size\n",
    "        self.iid = iid\n",
    "        self.lr0 = lr0\n",
    "        self.lr_max = lr_max\n",
    "        self.lr_decay_coef = lr_decay_coef\n",
    "        self.lr_decay_power = lr_decay_power\n",
    "        self.it_start_decay = it_start_decay\n",
    "        self.batch_size = batch_size\n",
    "        self.losses = losses\n",
    "        self.trace.hs = []\n",
    "        \n",
    "        \n",
    "\n",
    "             \n",
    "    def step(self):\n",
    "        denom_const = 1 / self.lr0\n",
    "        lr_decayed = 1 / (denom_const + self.it_local*self.lr_decay_coef*max(0, self.it-self.it_start_decay)**self.lr_decay_power)\n",
    "        if lr_decayed < 0:\n",
    "            lr_decayed = np.inf\n",
    "        self.lr = min(lr_decayed, self.lr_max)\n",
    "        x_id = ray.put(self.x)\n",
    "        \n",
    "        if self.cohort_size == self.n_workers:\n",
    "            self.x = np.mean(ray.get([worker.run_local.remote(x_id, self.lr) for worker in self.workers]), axis=0)\n",
    "            self.h = ray.get([worker.get_h.remote() for worker in self.workers])       \n",
    "        else:\n",
    "            cohort = np.random.choice(self.n_workers, self.cohort_size, replace=False)\n",
    "            self.x = np.mean(ray.get([self.workers[i].run_local.remote(x_id, self.lr) for i in cohort]), axis=0)\n",
    "            self.h = ray.get([worker.get_h.remote() for worker in self.workers])       \n",
    "    \n",
    "    def init_run(self, *args, **kwargs):\n",
    "        super(ProxSkip, self).init_run(*args, **kwargs)\n",
    "        if self.it_start_decay is None and np.isfinite(self.it_max):\n",
    "            self.it_start_decay = self.it_max // 40 if np.isfinite(self.it_max) else 0\n",
    "        if self.lr0 is None:\n",
    "            self.lr0 = 1 / self.loss.batch_smoothness(batch_size)\n",
    "        if self.iid:\n",
    "            loss_id = ray.put(self.loss)\n",
    "            self.workers = [Worker.remote(shuffle=False, prox_skip=True, loss=loss_id, it_local=self.it_local, batch_size=self.batch_size) for _ in range(self.n_workers)]\n",
    "        else:\n",
    "            loss_ids = [ray.put(self.losses[i]) for i in range(self.n_workers)]\n",
    "            self.workers = [Worker.remote(shuffle=False, prox_skip=True, loss=loss, it_local=self.it_local, batch_size=self.batch_size) for loss in loss_ids]\n",
    "        \n",
    "    def update_trace(self, first_iterations=10):\n",
    "        super(ProxSkip, self).update_trace()\n",
    "        self.trace.hs.append(copy.deepcopy(self.h))\n",
    "        \n",
    "    def terminate_workers(self):\n",
    "        for worker in self.workers:\n",
    "            ray.kill(worker)"
   ]
  },
  {
   "cell_type": "code",
   "execution_count": 22,
   "metadata": {},
   "outputs": [],
   "source": [
    "if batch_size is not None:\n",
    "    it_local = 100\n",
    "    skip_lr0 = 1 / loss.batch_smoothness(batch_size=batch_size) \n",
    "    it_max = 2000\n",
    "    skip_decay_coef = l2 / 2\n",
    "else:\n",
    "    it_local = 100 # same as for other methods\n",
    "    skip_lr0 = 1 / (loss.smoothness)\n",
    "    it_max = 2000 # same as before\n",
    "    skip_decay_coef = 0. # With full gradients, we don't need to decrease the stepsize\n",
    "\n"
   ]
  },
  {
   "cell_type": "code",
   "execution_count": 27,
   "metadata": {},
   "outputs": [],
   "source": [
    "import copy"
   ]
  },
  {
   "cell_type": "code",
   "execution_count": 28,
   "metadata": {},
   "outputs": [
    {
     "name": "stderr",
     "output_type": "stream",
     "text": [
      "2022-06-17 04:04:24,484\tWARNING worker.py:1404 -- WARNING: 34 PYTHON worker processes have been started on node: 4398c13e6d79dc3a2d529cca302f7602b02912d6181290ba36d95473 with address: 127.0.0.1. This could be a result of using a large number of actors, or due to tasks blocked in ray.get() calls (see https://github.com/ray-project/ray/issues/3644 for some discussion of workarounds).\n"
     ]
    }
   ],
   "source": [
    "skip_lr_max = skip_lr0\n",
    "skip = ProxSkip(loss=loss, n_workers=n_workers, cohort_size=cohort_size, it_local=it_local, \n",
    "               lr_max=skip_lr_max, lr0=skip_lr0, lr_decay_coef=skip_decay_coef, \n",
    "               it_start_decay=0, n_seeds=n_seeds, batch_size=batch_size, trace_len=200, iid=False, losses=losses)\n",
    "skip.run(x0=x0, it_max=it_max)\n",
    "# sgd.trace.convert_its_to_epochs(batch_size=batch_size*it_local)\n",
    "skip.trace.compute_loss_of_iterates()\n",
    "skip.terminate_workers()"
   ]
  },
  {
   "cell_type": "code",
   "execution_count": 29,
   "metadata": {},
   "outputs": [],
   "source": [
    "if batch_size is not None:\n",
    "    it_local = 100\n",
    "    skip_lr0 = 1 / loss.batch_smoothness(batch_size=batch_size) \n",
    "    it_max = 2000\n",
    "    skip_decay_coef = l2 / 2\n",
    "else:\n",
    "    it_local = 100 # same as for other methods\n",
    "    skip_lr0 = 1 / (loss.smoothness*it_local)\n",
    "    it_max =2000 # same as before\n",
    "    skip_decay_coef = 0. # With full gradients, we don't need to decrease the stepsize\n",
    "\n",
    "skip_lr_max = skip_lr0\n",
    "fedlin1 = Fedlin(loss=loss, n_workers=n_workers, cohort_size=cohort_size, it_local=it_local, \n",
    "               lr_max=skip_lr_max, lr0=skip_lr0, lr_decay_coef=skip_decay_coef, \n",
    "               it_start_decay=0, n_seeds=n_seeds, batch_size=batch_size, trace_len=200, iid=False, losses=losses)\n",
    "fedlin1.run(x0=x0, it_max=it_max)\n",
    "# sgd.trace.convert_its_to_epochs(batch_size=batch_size*it_local)\n",
    "fedlin1.trace.compute_loss_of_iterates()\n",
    "fedlin1.terminate_workers()"
   ]
  },
  {
   "cell_type": "code",
   "execution_count": 30,
   "metadata": {},
   "outputs": [],
   "source": [
    "if batch_size is not None:\n",
    "    it_local = 100\n",
    "    skip_lr0 = 1 / loss.batch_smoothness(batch_size=batch_size) \n",
    "    it_max = 2000\n",
    "    skip_decay_coef = l2 / 2\n",
    "else:\n",
    "    it_local = 100 # same as for other methods\n",
    "    skip_lr0 = 1 / (loss.smoothness*it_local)\n",
    "    it_max = 2000 # same as before\n",
    "    skip_decay_coef = 0. # With full gradients, we don't need to decrease the stepsize\n",
    "\n",
    "skip_lr_max = skip_lr0\n",
    "scaf = Scaffold(loss=loss, n_workers=n_workers, cohort_size=cohort_size, it_local=it_local, \n",
    "               lr_max=skip_lr_max, lr0=skip_lr0, lr_decay_coef=skip_decay_coef, \n",
    "               it_start_decay=0, n_seeds=n_seeds, batch_size=batch_size, trace_len=200, iid=False, losses=losses)\n",
    "scaf.run(x0=x0, it_max=it_max)\n",
    "# sgd.trace.convert_its_to_epochs(batch_size=batch_size*it_local)\n",
    "scaf.trace.compute_loss_of_iterates()\n",
    "scaf.terminate_workers()"
   ]
  },
  {
   "cell_type": "code",
   "execution_count": 31,
   "metadata": {},
   "outputs": [],
   "source": [
    "if batch_size is not None:\n",
    "    it_local = 100\n",
    "    skip_lr0 = 1 / loss.batch_smoothness(batch_size=batch_size) \n",
    "    it_max = 2000\n",
    "    skip_decay_coef = l2 / 2\n",
    "else:\n",
    "    it_local = 100 # same as for other methods\n",
    "    skip_lr0 = 1 / (loss.smoothness*it_local)\n",
    "    it_max =2000 # same as before\n",
    "    skip_decay_coef = 0. # With full gradients, we don't need to decrease the stepsize\n",
    "\n",
    "skip_lr_max = skip_lr0\n",
    "slocalgd = S_local_GD(loss=loss, n_workers=n_workers, cohort_size=cohort_size, it_local=it_local, \n",
    "               lr_max=skip_lr_max, lr0=skip_lr0, lr_decay_coef=skip_decay_coef, \n",
    "               it_start_decay=0, n_seeds=n_seeds, batch_size=batch_size, trace_len=200, iid=False, losses=losses)\n",
    "slocalgd.run(x0=x0, it_max=it_max)\n",
    "# sgd.trace.convert_its_to_epochs(batch_size=batch_size*it_local)\n",
    "slocalgd.trace.compute_loss_of_iterates()\n",
    "slocalgd.terminate_workers()"
   ]
  },
  {
   "cell_type": "code",
   "execution_count": 61,
   "metadata": {},
   "outputs": [],
   "source": [
    "cohort_size = 15 # CHANGE IF YOU WANT PARTIAL PARTICIPATION\n",
    "n_workers = 15\n",
    "n_seeds = 1\n",
    "batch_size = 2000"
   ]
  },
  {
   "cell_type": "code",
   "execution_count": 62,
   "metadata": {},
   "outputs": [
    {
     "name": "stderr",
     "output_type": "stream",
     "text": [
      "/opt/anaconda3/lib/python3.8/site-packages/optmethods/loss/logistic_regression.py:44: UserWarning: The labels have only one unique value.\n",
      "  warnings.warn('The labels have only one unique value.')\n"
     ]
    }
   ],
   "source": [
    "# permutation = A[:, 0].A.squeeze().argsort()\n",
    "permutation = b.squeeze().argsort()\n",
    "\n",
    "losses = []\n",
    "idx = [0] + [(n * i) // n_workers for i in range(1, n_workers)] + [n]\n",
    "for i in range(n_workers):\n",
    "    idx_i = permutation[idx[i] : idx[i+1]]\n",
    "    # idx_i = range(idx[i], idx[i + 1])\n",
    "    loss_i = LogisticRegression(A[idx_i].A, b[idx_i], l1=0, l2=l2)\n",
    "    loss_i.computed_grads = 0\n",
    "    losses.append(loss_i)"
   ]
  },
  {
   "cell_type": "code",
   "execution_count": 63,
   "metadata": {},
   "outputs": [],
   "source": [
    "if batch_size is not None:\n",
    "    it_local = 100\n",
    "    skip_lr0 = 1 / loss.batch_smoothness(batch_size=batch_size) \n",
    "    it_max = 2000\n",
    "    skip_decay_coef = l2 / 2\n",
    "else:\n",
    "    it_local = 30 # same as for other methods\n",
    "    skip_lr0 = 1 / (loss.smoothness)\n",
    "    it_max = 300 # same as before\n",
    "    skip_decay_coef = 0. # With full gradients, we don't need to decrease the stepsize\n",
    "\n",
    "skip_lr_max = skip_lr0\n",
    "skip1 = ProxSkip(loss=loss, n_workers=n_workers, cohort_size=cohort_size, it_local=it_local, \n",
    "               lr_max=skip_lr_max, lr0=skip_lr0, lr_decay_coef=skip_decay_coef, \n",
    "               it_start_decay=0, n_seeds=n_seeds, batch_size=batch_size, trace_len=200, iid=False, losses=losses)\n",
    "skip1.run(x0=x0, it_max=it_max)\n",
    "# sgd.trace.convert_its_to_epochs(batch_size=batch_size*it_local)\n",
    "skip1.trace.compute_loss_of_iterates()\n",
    "skip1.terminate_workers()"
   ]
  },
  {
   "cell_type": "code",
   "execution_count": 79,
   "metadata": {},
   "outputs": [
    {
     "data": {
      "image/png": "[encoded data removed]",
      "text/plain": [
       "<Figure size 648x432 with 1 Axes>"
      ]
     },
     "metadata": {},
     "output_type": "display_data"
    }
   ],
   "source": [
    "skip1.trace.plot_losses(label='ProxSkip:M=15', marker='*', color='red')\n",
    "skip.trace.plot_losses(label='ProxSkip:M=20', marker='*', color='blue')\n",
    "skip2.trace.plot_losses(label='ProxSkip:M=10', marker='*', color='green')\n",
    "skip3.trace.plot_losses(label='ProxSkip:M=5', marker='*', color='orange')\n",
    "skip4.trace.plot_losses(label='ProxSkip:M=1', marker='*', color='black')\n",
    "plt.yscale('log')\n",
    "plt.ylabel(r'$f(x)-f_*$')\n",
    "plt.xlabel('Communication rounds')\n",
    "plt.legend()\n",
    "plt.savefig('linear_speedup.pdf')"
   ]
  },
  {
   "cell_type": "code",
   "execution_count": 172,
   "metadata": {},
   "outputs": [],
   "source": [
    "cohort_size = 40 # CHANGE IF YOU WANT PARTIAL PARTICIPATION\n",
    "n_workers = 40\n",
    "n_seeds = 1\n",
    "batch_size = 2000\n",
    "permutation = b.squeeze().argsort()\n",
    "\n",
    "losses = []\n",
    "idx = [0] + [(n * i) // n_workers for i in range(1, n_workers)] + [n]\n",
    "for i in range(n_workers):\n",
    "    idx_i = permutation[idx[i] : idx[i+1]]\n",
    "    # idx_i = range(idx[i], idx[i + 1])\n",
    "    loss_i = LogisticRegression(A[idx_i].A, b[idx_i], l1=0, l2=l2)\n",
    "    loss_i.computed_grads = 0\n",
    "    losses.append(loss_i)"
   ]
  },
  {
   "cell_type": "code",
   "execution_count": 66,
   "metadata": {},
   "outputs": [],
   "source": [
    "cohort_size = 10 # CHANGE IF YOU WANT PARTIAL PARTICIPATION\n",
    "n_workers = 10\n",
    "n_seeds = 1\n",
    "batch_size = 2000"
   ]
  },
  {
   "cell_type": "code",
   "execution_count": 67,
   "metadata": {},
   "outputs": [
    {
     "name": "stderr",
     "output_type": "stream",
     "text": [
      "/opt/anaconda3/lib/python3.8/site-packages/optmethods/loss/logistic_regression.py:44: UserWarning: The labels have only one unique value.\n",
      "  warnings.warn('The labels have only one unique value.')\n"
     ]
    }
   ],
   "source": [
    "# permutation = A[:, 0].A.squeeze().argsort()\n",
    "permutation = b.squeeze().argsort()\n",
    "\n",
    "losses = []\n",
    "idx = [0] + [(n * i) // n_workers for i in range(1, n_workers)] + [n]\n",
    "for i in range(n_workers):\n",
    "    idx_i = permutation[idx[i] : idx[i+1]]\n",
    "    # idx_i = range(idx[i], idx[i + 1])\n",
    "    loss_i = LogisticRegression(A[idx_i].A, b[idx_i], l1=0, l2=l2)\n",
    "    loss_i.computed_grads = 0\n",
    "    losses.append(loss_i)"
   ]
  },
  {
   "cell_type": "code",
   "execution_count": 68,
   "metadata": {},
   "outputs": [],
   "source": [
    "if batch_size is not None:\n",
    "    it_local = 100\n",
    "    skip_lr0 = 1 / loss.batch_smoothness(batch_size=batch_size) \n",
    "    it_max = 2000\n",
    "    skip_decay_coef = l2 / 2\n",
    "else:\n",
    "    it_local = 30 # same as for other methods\n",
    "    skip_lr0 = 1 / (loss.smoothness)\n",
    "    it_max = 300 # same as before\n",
    "    skip_decay_coef = 0. # With full gradients, we don't need to decrease the stepsize\n",
    "\n",
    "skip_lr_max = skip_lr0\n",
    "skip2 = ProxSkip(loss=loss, n_workers=n_workers, cohort_size=cohort_size, it_local=it_local, \n",
    "               lr_max=skip_lr_max, lr0=skip_lr0, lr_decay_coef=skip_decay_coef, \n",
    "               it_start_decay=0, n_seeds=n_seeds, batch_size=batch_size, trace_len=200, iid=False, losses=losses)\n",
    "skip2.run(x0=x0, it_max=it_max)\n",
    "# sgd.trace.convert_its_to_epochs(batch_size=batch_size*it_local)\n",
    "skip2.trace.compute_loss_of_iterates()\n",
    "skip2.terminate_workers()"
   ]
  },
  {
   "cell_type": "code",
   "execution_count": 71,
   "metadata": {},
   "outputs": [],
   "source": [
    "cohort_size = 5 # CHANGE IF YOU WANT PARTIAL PARTICIPATION\n",
    "n_workers = 5\n",
    "n_seeds = 1\n",
    "batch_size = 2000"
   ]
  },
  {
   "cell_type": "code",
   "execution_count": 72,
   "metadata": {},
   "outputs": [
    {
     "name": "stderr",
     "output_type": "stream",
     "text": [
      "/opt/anaconda3/lib/python3.8/site-packages/optmethods/loss/logistic_regression.py:44: UserWarning: The labels have only one unique value.\n",
      "  warnings.warn('The labels have only one unique value.')\n"
     ]
    }
   ],
   "source": [
    "# permutation = A[:, 0].A.squeeze().argsort()\n",
    "permutation = b.squeeze().argsort()\n",
    "\n",
    "losses = []\n",
    "idx = [0] + [(n * i) // n_workers for i in range(1, n_workers)] + [n]\n",
    "for i in range(n_workers):\n",
    "    idx_i = permutation[idx[i] : idx[i+1]]\n",
    "    # idx_i = range(idx[i], idx[i + 1])\n",
    "    loss_i = LogisticRegression(A[idx_i].A, b[idx_i], l1=0, l2=l2)\n",
    "    loss_i.computed_grads = 0\n",
    "    losses.append(loss_i)"
   ]
  },
  {
   "cell_type": "code",
   "execution_count": 73,
   "metadata": {},
   "outputs": [],
   "source": [
    "if batch_size is not None:\n",
    "    it_local = 100\n",
    "    skip_lr0 = 1 / loss.batch_smoothness(batch_size=batch_size) \n",
    "    it_max = 2000\n",
    "    skip_decay_coef = l2 / 2\n",
    "else:\n",
    "    it_local = 30 # same as for other methods\n",
    "    skip_lr0 = 1 / (loss.smoothness)\n",
    "    it_max = 300 # same as before\n",
    "    skip_decay_coef = 0. # With full gradients, we don't need to decrease the stepsize\n",
    "\n",
    "skip_lr_max = skip_lr0\n",
    "skip3 = ProxSkip(loss=loss, n_workers=n_workers, cohort_size=cohort_size, it_local=it_local, \n",
    "               lr_max=skip_lr_max, lr0=skip_lr0, lr_decay_coef=skip_decay_coef, \n",
    "               it_start_decay=0, n_seeds=n_seeds, batch_size=batch_size, trace_len=200, iid=False, losses=losses)\n",
    "skip3.run(x0=x0, it_max=it_max)\n",
    "# sgd.trace.convert_its_to_epochs(batch_size=batch_size*it_local)\n",
    "skip3.trace.compute_loss_of_iterates()\n",
    "skip3.terminate_workers()"
   ]
  },
  {
   "cell_type": "code",
   "execution_count": null,
   "metadata": {},
   "outputs": [],
   "source": [
    "cohort_size = 1 # CHANGE IF YOU WANT PARTIAL PARTICIPATION\n",
    "n_workers = 1\n",
    "n_seeds = 1\n",
    "batch_size = 2000"
   ]
  },
  {
   "cell_type": "code",
   "execution_count": 75,
   "metadata": {},
   "outputs": [
    {
     "name": "stderr",
     "output_type": "stream",
     "text": [
      "/opt/anaconda3/lib/python3.8/site-packages/optmethods/loss/logistic_regression.py:44: UserWarning: The labels have only one unique value.\n",
      "  warnings.warn('The labels have only one unique value.')\n"
     ]
    }
   ],
   "source": [
    "# permutation = A[:, 0].A.squeeze().argsort()\n",
    "permutation = b.squeeze().argsort()\n",
    "\n",
    "losses = []\n",
    "idx = [0] + [(n * i) // n_workers for i in range(1, n_workers)] + [n]\n",
    "for i in range(n_workers):\n",
    "    idx_i = permutation[idx[i] : idx[i+1]]\n",
    "    # idx_i = range(idx[i], idx[i + 1])\n",
    "    loss_i = LogisticRegression(A[idx_i].A, b[idx_i], l1=0, l2=l2)\n",
    "    loss_i.computed_grads = 0\n",
    "    losses.append(loss_i)"
   ]
  },
  {
   "cell_type": "code",
   "execution_count": 76,
   "metadata": {},
   "outputs": [],
   "source": [
    "if batch_size is not None:\n",
    "    it_local = 100\n",
    "    skip_lr0 = 1 / loss.batch_smoothness(batch_size=batch_size) \n",
    "    it_max = 2000\n",
    "    skip_decay_coef = l2 / 2\n",
    "else:\n",
    "    it_local = 30 # same as for other methods\n",
    "    skip_lr0 = 1 / (loss.smoothness)\n",
    "    it_max = 300 # same as before\n",
    "    skip_decay_coef = 0. # With full gradients, we don't need to decrease the stepsize\n",
    "\n",
    "skip_lr_max = skip_lr0\n",
    "skip4 = ProxSkip(loss=loss, n_workers=n_workers, cohort_size=cohort_size, it_local=it_local, \n",
    "               lr_max=skip_lr_max, lr0=skip_lr0, lr_decay_coef=skip_decay_coef, \n",
    "               it_start_decay=0, n_seeds=n_seeds, batch_size=batch_size, trace_len=200, iid=False, losses=losses)\n",
    "skip4.run(x0=x0, it_max=it_max)\n",
    "# sgd.trace.convert_its_to_epochs(batch_size=batch_size*it_local)\n",
    "skip4.trace.compute_loss_of_iterates()\n",
    "skip4.terminate_workers()"
   ]
  },
  {
   "cell_type": "code",
   "execution_count": null,
   "metadata": {},
   "outputs": [],
   "source": []
  }
 ],
 "metadata": {
  "colab": {
   "collapsed_sections": [],
   "name": "fed-learning.ipynb",
   "provenance": []
  },
  "kernelspec": {
   "display_name": "Python 3",
   "language": "python",
   "name": "python3"
  },
  "language_info": {
   "codemirror_mode": {
    "name": "ipython",
    "version": 3
   },
   "file_extension": ".py",
   "mimetype": "text/x-python",
   "name": "python",
   "nbconvert_exporter": "python",
   "pygments_lexer": "ipython3",
   "version": "3.8.5"
  }
 },
 "nbformat": 4,
 "nbformat_minor": 1
}
