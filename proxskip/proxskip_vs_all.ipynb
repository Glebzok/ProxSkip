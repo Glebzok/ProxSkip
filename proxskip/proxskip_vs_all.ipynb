{
 "cells": [
  {
   "cell_type": "code",
   "execution_count": 1,
   "metadata": {},
   "outputs": [],
   "source": [
    "import psutil\n",
    "from optmethods.first_order import RestNest\n",
    "from data import W8a_dataset\n",
    "\n",
    "from methods.local_sgd import *\n",
    "from methods.fedlin import *\n",
    "from methods.s_local_gd import *\n",
    "from methods.scaffold import *\n",
    "from methods.proxskip import *"
   ]
  },
  {
   "cell_type": "code",
   "execution_count": 1,
   "metadata": {},
   "outputs": [],
   "source": [
    "import matplotlib\n",
    "import matplotlib.pyplot as plt\n",
    "import seaborn as sns\n",
    "import numpy as np\n",
    "\n",
    "sns.set(style=\"whitegrid\", context=\"talk\", font_scale=1.2, palette=sns.color_palette(\"bright\"), color_codes=False)\n",
    "matplotlib.rcParams['pdf.fonttype'] = 42\n",
    "matplotlib.rcParams['ps.fonttype'] = 42\n",
    "matplotlib.rcParams['font.family'] = 'sans-serif'\n",
    "matplotlib.rcParams['font.sans-serif'] = 'DejaVu Sans'\n",
    "matplotlib.rcParams['mathtext.fontset'] = 'cm'\n",
    "matplotlib.rcParams['figure.figsize'] = (11, 7)"
   ]
  },
  {
   "cell_type": "code",
   "execution_count": 3,
   "metadata": {},
   "outputs": [
    {
     "name": "stdout",
     "output_type": "stream",
     "text": [
      "16\n"
     ]
    }
   ],
   "source": [
    "num_cpus = psutil.cpu_count(logical=False)\n",
    "print(num_cpus)"
   ]
  },
  {
   "cell_type": "code",
   "execution_count": 4,
   "metadata": {},
   "outputs": [
    {
     "name": "stdout",
     "output_type": "stream",
     "text": [
      "Computing the smoothness constant via SVD, it may take a few minutes...\n",
      "L: 0.6610997571596956, l2: 6.610997571596957e-05\n"
     ]
    }
   ],
   "source": [
    "dataset = W8a_dataset(num_cpus)"
   ]
  },
  {
   "cell_type": "markdown",
   "metadata": {},
   "source": [
    "# Nesterov's Method"
   ]
  },
  {
   "cell_type": "code",
   "execution_count": 5,
   "metadata": {},
   "outputs": [
    {
     "data": {
      "application/json": {
       "ascii": false,
       "bar_format": null,
       "colour": null,
       "elapsed": 0.02126026153564453,
       "initial": 0,
       "n": 0,
       "ncols": null,
       "nrows": 29,
       "postfix": null,
       "prefix": "",
       "rate": null,
       "total": 10000,
       "unit": "it",
       "unit_divisor": 1000,
       "unit_scale": false
      },
      "application/vnd.jupyter.widget-view+json": {
       "model_id": "6a9208d6fe8e477998417917d360f36b",
       "version_major": 2,
       "version_minor": 0
      },
      "text/plain": [
       "  0%|          | 0/10000 [00:00<?, ?it/s]"
      ]
     },
     "metadata": {},
     "output_type": "display_data"
    },
    {
     "data": {
      "image/png": "[encoded data removed]",
      "text/plain": [
       "<Figure size 432x288 with 1 Axes>"
      ]
     },
     "metadata": {
      "needs_background": "light"
     },
     "output_type": "display_data"
    }
   ],
   "source": [
    "loss, x0,  _, _ = dataset.get_full_data()\n",
    "rest = RestNest(loss=loss, doubling=True)\n",
    "rest_tr = rest.run(x0=x0, it_max=10000)\n",
    "rest_tr.compute_loss_of_iterates()\n",
    "rest.trace.plot_losses()\n",
    "\n",
    "plt.yscale('log')"
   ]
  },
  {
   "cell_type": "markdown",
   "metadata": {},
   "source": [
    "# Non-iid"
   ]
  },
  {
   "cell_type": "code",
   "execution_count": 6,
   "metadata": {},
   "outputs": [],
   "source": [
    "cohort_size = 20 # CHANGE IF YOU WANT PARTIAL PARTICIPATION\n",
    "n_workers = 20\n",
    "n_seeds = 1\n",
    "batch_size = None\n",
    "\n",
    "L = loss.smoothness\n",
    "l2 = 1e-4 * L"
   ]
  },
  {
   "cell_type": "code",
   "execution_count": 7,
   "metadata": {},
   "outputs": [],
   "source": [
    "GLOBAL_it_max_ = 1000"
   ]
  },
  {
   "cell_type": "code",
   "execution_count": 8,
   "metadata": {},
   "outputs": [
    {
     "name": "stdout",
     "output_type": "stream",
     "text": [
      "0.0027313946205275337\n"
     ]
    },
    {
     "name": "stderr",
     "output_type": "stream",
     "text": [
      "/home/v_trofinov/anaconda3/lib/python3.9/site-packages/optmethods/loss/logistic_regression.py:44: UserWarning: The labels have only one unique value.\n",
      "  warnings.warn('The labels have only one unique value.')\n"
     ]
    }
   ],
   "source": [
    "losses = dataset.get_splitted_data(n_workers)\n",
    "grad_norms = [np.linalg.norm(loss_i.gradient(loss.x_opt))**2 for loss_i in losses]\n",
    "print(np.mean(grad_norms))"
   ]
  },
  {
   "cell_type": "markdown",
   "metadata": {},
   "source": [
    "### Local GD"
   ]
  },
  {
   "cell_type": "code",
   "execution_count": 9,
   "metadata": {},
   "outputs": [
    {
     "name": "stderr",
     "output_type": "stream",
     "text": [
      "2023-12-21 19:42:42,905\tINFO worker.py:1673 -- Started a local Ray instance.\n"
     ]
    },
    {
     "data": {
      "application/json": {
       "ascii": false,
       "bar_format": null,
       "colour": null,
       "elapsed": 0.019871950149536133,
       "initial": 0,
       "n": 0,
       "ncols": null,
       "nrows": 29,
       "postfix": null,
       "prefix": "",
       "rate": null,
       "total": 1000,
       "unit": "it",
       "unit_divisor": 1000,
       "unit_scale": false
      },
      "application/vnd.jupyter.widget-view+json": {
       "model_id": "f20752ad0b934ac3ba0a16b7847c9dee",
       "version_major": 2,
       "version_minor": 0
      },
      "text/plain": [
       "  0%|          | 0/1000 [00:00<?, ?it/s]"
      ]
     },
     "metadata": {},
     "output_type": "display_data"
    }
   ],
   "source": [
    "if batch_size is not None:\n",
    "    it_local = 100\n",
    "    skip_lr0 = 1 / loss.batch_smoothness(batch_size=batch_size) \n",
    "    it_max = GLOBAL_it_max_\n",
    "    skip_decay_coef = l2 / 2\n",
    "else:\n",
    "    it_local = 100 # same as for other methods\n",
    "    skip_lr0 = 1 / (loss.smoothness*it_local)\n",
    "    it_max = GLOBAL_it_max_ # same as before\n",
    "    skip_decay_coef = 0. # With full gradients, we don't need to decrease the stepsize\n",
    "\n",
    "skip_lr_max = skip_lr0\n",
    "localgd1 = LocalSgd(loss=loss, n_workers=n_workers, cohort_size=cohort_size, it_local=it_local, \n",
    "               lr_max=skip_lr_max, lr0=skip_lr0, lr_decay_coef=skip_decay_coef, \n",
    "               it_start_decay=0, n_seeds=n_seeds, batch_size=batch_size, trace_len=200, iid=False, losses=losses)\n",
    "localgd1.run(x0=x0, it_max=it_max)\n",
    "# sgd.trace.convert_its_to_epochs(batch_size=batch_size*it_local)\n",
    "localgd1.trace.compute_loss_of_iterates()\n",
    "localgd1.terminate_workers()"
   ]
  },
  {
   "cell_type": "markdown",
   "metadata": {},
   "source": [
    "### FedLin"
   ]
  },
  {
   "cell_type": "code",
   "execution_count": 10,
   "metadata": {},
   "outputs": [
    {
     "data": {
      "application/json": {
       "ascii": false,
       "bar_format": null,
       "colour": null,
       "elapsed": 0.023824453353881836,
       "initial": 0,
       "n": 0,
       "ncols": null,
       "nrows": 29,
       "postfix": null,
       "prefix": "",
       "rate": null,
       "total": 1000,
       "unit": "it",
       "unit_divisor": 1000,
       "unit_scale": false
      },
      "application/vnd.jupyter.widget-view+json": {
       "model_id": "ceeec9c51b0740fda9e18d975dbd7424",
       "version_major": 2,
       "version_minor": 0
      },
      "text/plain": [
       "  0%|          | 0/1000 [00:00<?, ?it/s]"
      ]
     },
     "metadata": {},
     "output_type": "display_data"
    }
   ],
   "source": [
    "if batch_size is not None:\n",
    "    it_local = 100\n",
    "    skip_lr0 = 1 / loss.batch_smoothness(batch_size=batch_size) \n",
    "    it_max = GLOBAL_it_max_\n",
    "    skip_decay_coef = l2 / 2\n",
    "else:\n",
    "    it_local = 100 # same as for other methods\n",
    "    skip_lr0 = 1 / (loss.smoothness*it_local)\n",
    "    it_max = GLOBAL_it_max_ # same as before\n",
    "    skip_decay_coef = 0. # With full gradients, we don't need to decrease the stepsize\n",
    "\n",
    "skip_lr_max = skip_lr0\n",
    "fedlin1 = Fedlin(loss=loss, n_workers=n_workers, cohort_size=cohort_size, it_local=it_local, \n",
    "               lr_max=skip_lr_max, lr0=skip_lr0, lr_decay_coef=skip_decay_coef, \n",
    "               it_start_decay=0, n_seeds=n_seeds, batch_size=batch_size, trace_len=200, iid=False, losses=losses)\n",
    "fedlin1.run(x0=x0, it_max=it_max)\n",
    "# sgd.trace.convert_its_to_epochs(batch_size=batch_size*it_local)\n",
    "fedlin1.trace.compute_loss_of_iterates()\n",
    "fedlin1.terminate_workers()"
   ]
  },
  {
   "cell_type": "markdown",
   "metadata": {},
   "source": [
    "### Scaffold"
   ]
  },
  {
   "cell_type": "code",
   "execution_count": 11,
   "metadata": {},
   "outputs": [
    {
     "data": {
      "application/json": {
       "ascii": false,
       "bar_format": null,
       "colour": null,
       "elapsed": 0.022608041763305664,
       "initial": 0,
       "n": 0,
       "ncols": null,
       "nrows": 29,
       "postfix": null,
       "prefix": "",
       "rate": null,
       "total": 1000,
       "unit": "it",
       "unit_divisor": 1000,
       "unit_scale": false
      },
      "application/vnd.jupyter.widget-view+json": {
       "model_id": "d466e6d7e893413a9831ff57d849b0b3",
       "version_major": 2,
       "version_minor": 0
      },
      "text/plain": [
       "  0%|          | 0/1000 [00:00<?, ?it/s]"
      ]
     },
     "metadata": {},
     "output_type": "display_data"
    }
   ],
   "source": [
    "if batch_size is not None:\n",
    "    it_local = 100\n",
    "    skip_lr0 = 1 / loss.batch_smoothness(batch_size=batch_size) \n",
    "    it_max = GLOBAL_it_max_\n",
    "    skip_decay_coef = l2 / 2\n",
    "else:\n",
    "    it_local = 100 # same as for other methods\n",
    "    skip_lr0 = 1 / (loss.smoothness*it_local)\n",
    "    it_max = GLOBAL_it_max_ # same as before\n",
    "    skip_decay_coef = 0. # With full gradients, we don't need to decrease the stepsize\n",
    "\n",
    "skip_lr_max = skip_lr0\n",
    "scaf = Scaffold(loss=loss, n_workers=n_workers, cohort_size=cohort_size, it_local=it_local, \n",
    "               lr_max=skip_lr_max, lr0=skip_lr0, lr_decay_coef=skip_decay_coef, \n",
    "               it_start_decay=0, n_seeds=n_seeds, batch_size=batch_size, trace_len=200, iid=False, losses=losses)\n",
    "scaf.run(x0=x0, it_max=it_max)\n",
    "# sgd.trace.convert_its_to_epochs(batch_size=batch_size*it_local)\n",
    "scaf.trace.compute_loss_of_iterates()\n",
    "scaf.terminate_workers()"
   ]
  },
  {
   "cell_type": "markdown",
   "metadata": {},
   "source": [
    "### S-local-GD"
   ]
  },
  {
   "cell_type": "code",
   "execution_count": 12,
   "metadata": {},
   "outputs": [
    {
     "data": {
      "application/json": {
       "ascii": false,
       "bar_format": null,
       "colour": null,
       "elapsed": 0.028595447540283203,
       "initial": 0,
       "n": 0,
       "ncols": null,
       "nrows": 29,
       "postfix": null,
       "prefix": "",
       "rate": null,
       "total": 1000,
       "unit": "it",
       "unit_divisor": 1000,
       "unit_scale": false
      },
      "application/vnd.jupyter.widget-view+json": {
       "model_id": "f0d1ff93104043c3b83f504442d7f416",
       "version_major": 2,
       "version_minor": 0
      },
      "text/plain": [
       "  0%|          | 0/1000 [00:00<?, ?it/s]"
      ]
     },
     "metadata": {},
     "output_type": "display_data"
    }
   ],
   "source": [
    "if batch_size is not None:\n",
    "    it_local = 100\n",
    "    skip_lr0 = 1 / loss.batch_smoothness(batch_size=batch_size) \n",
    "    it_max = GLOBAL_it_max_\n",
    "    skip_decay_coef = l2 / 2\n",
    "else:\n",
    "    it_local = 100 # same as for other methods\n",
    "    skip_lr0 = 1 / (loss.smoothness*it_local)\n",
    "    it_max = GLOBAL_it_max_ # same as before\n",
    "    skip_decay_coef = 0. # With full gradients, we don't need to decrease the stepsize\n",
    "\n",
    "skip_lr_max = skip_lr0\n",
    "slocalgd = S_local_GD(loss=loss, n_workers=n_workers, cohort_size=cohort_size, it_local=it_local, \n",
    "               lr_max=skip_lr_max, lr0=skip_lr0, lr_decay_coef=skip_decay_coef, \n",
    "               it_start_decay=0, n_seeds=n_seeds, batch_size=batch_size, trace_len=200, iid=False, losses=losses)\n",
    "slocalgd.run(x0=x0, it_max=it_max)\n",
    "# sgd.trace.convert_its_to_epochs(batch_size=batch_size*it_local)\n",
    "slocalgd.trace.compute_loss_of_iterates()\n",
    "slocalgd.terminate_workers()"
   ]
  },
  {
   "cell_type": "markdown",
   "metadata": {},
   "source": [
    "### ProxSkip"
   ]
  },
  {
   "cell_type": "code",
   "execution_count": 15,
   "metadata": {},
   "outputs": [
    {
     "data": {
      "application/json": {
       "ascii": false,
       "bar_format": null,
       "colour": null,
       "elapsed": 0.02174830436706543,
       "initial": 0,
       "n": 0,
       "ncols": null,
       "nrows": 29,
       "postfix": null,
       "prefix": "",
       "rate": null,
       "total": 1000,
       "unit": "it",
       "unit_divisor": 1000,
       "unit_scale": false
      },
      "application/vnd.jupyter.widget-view+json": {
       "model_id": "7cd778bb87b6493a8094214d7ec037ad",
       "version_major": 2,
       "version_minor": 0
      },
      "text/plain": [
       "  0%|          | 0/1000 [00:00<?, ?it/s]"
      ]
     },
     "metadata": {},
     "output_type": "display_data"
    }
   ],
   "source": [
    "if batch_size is not None:\n",
    "    it_local = 100\n",
    "    skip_lr0 = 1 / loss.batch_smoothness(batch_size=batch_size) \n",
    "    it_max = GLOBAL_it_max_\n",
    "    skip_decay_coef = l2 / 2\n",
    "    proba = np.sqrt(loss.l2 / loss.batch_smoothness(batch_size=batch_size))\n",
    "else:\n",
    "    it_local = 100 # same as for other methods\n",
    "    skip_lr0 = 1 / (loss.smoothness)\n",
    "    it_max = GLOBAL_it_max_ # same as before\n",
    "    skip_decay_coef = 0. # With full gradients, we don't need to decrease the stepsize\n",
    "    proba = np.sqrt(loss.l2 / loss.smoothness)\n",
    "\n",
    "\n",
    "skip_lr_max = skip_lr0\n",
    "skip = ProxSkip(loss=loss, n_workers=n_workers, cohort_size=cohort_size, it_local=it_local, \n",
    "               lr_max=skip_lr_max, lr0=skip_lr0, lr_decay_coef=skip_decay_coef, \n",
    "               it_start_decay=0, n_seeds=n_seeds, batch_size=batch_size, trace_len=200, iid=False, losses=losses)\n",
    "\n",
    "skip.proba = proba\n",
    "\n",
    "skip.run(x0=x0, it_max=it_max)\n",
    "# sgd.trace.convert_its_to_epochs(batch_size=batch_size*it_local)\n",
    "skip.trace.compute_loss_of_iterates()\n",
    "skip.terminate_workers()"
   ]
  },
  {
   "cell_type": "markdown",
   "metadata": {},
   "source": [
    "### Plots"
   ]
  },
  {
   "cell_type": "code",
   "execution_count": 2,
   "metadata": {},
   "outputs": [
    {
     "ename": "NameError",
     "evalue": "name 'skip' is not defined",
     "output_type": "error",
     "traceback": [
      "\u001b[0;31m---------------------------------------------------------------------------\u001b[0m",
      "\u001b[0;31mNameError\u001b[0m                                 Traceback (most recent call last)",
      "\u001b[0;32m/tmp/ipykernel_13571/2733215129.py\u001b[0m in \u001b[0;36m<module>\u001b[0;34m\u001b[0m\n\u001b[0;32m----> 1\u001b[0;31m \u001b[0mskip\u001b[0m\u001b[0;34m.\u001b[0m\u001b[0mtrace\u001b[0m\u001b[0;34m.\u001b[0m\u001b[0mplot_losses\u001b[0m\u001b[0;34m(\u001b[0m\u001b[0mlabel\u001b[0m\u001b[0;34m=\u001b[0m\u001b[0;34m'ProxSkip'\u001b[0m\u001b[0;34m,\u001b[0m \u001b[0mmarker\u001b[0m\u001b[0;34m=\u001b[0m\u001b[0;34m'*'\u001b[0m\u001b[0;34m,\u001b[0m \u001b[0mcolor\u001b[0m\u001b[0;34m=\u001b[0m\u001b[0;34m'red'\u001b[0m\u001b[0;34m)\u001b[0m\u001b[0;34m\u001b[0m\u001b[0;34m\u001b[0m\u001b[0m\n\u001b[0m\u001b[1;32m      2\u001b[0m \u001b[0mslocalgd\u001b[0m\u001b[0;34m.\u001b[0m\u001b[0mtrace\u001b[0m\u001b[0;34m.\u001b[0m\u001b[0mplot_losses\u001b[0m\u001b[0;34m(\u001b[0m\u001b[0mlabel\u001b[0m\u001b[0;34m=\u001b[0m\u001b[0;34m'S-local-GD'\u001b[0m\u001b[0;34m,\u001b[0m \u001b[0mmarker\u001b[0m\u001b[0;34m=\u001b[0m\u001b[0;34m'*'\u001b[0m\u001b[0;34m,\u001b[0m \u001b[0mcolor\u001b[0m\u001b[0;34m=\u001b[0m\u001b[0;34m'blue'\u001b[0m\u001b[0;34m)\u001b[0m\u001b[0;34m\u001b[0m\u001b[0;34m\u001b[0m\u001b[0m\n\u001b[1;32m      3\u001b[0m \u001b[0mscaf\u001b[0m\u001b[0;34m.\u001b[0m\u001b[0mtrace\u001b[0m\u001b[0;34m.\u001b[0m\u001b[0mplot_losses\u001b[0m\u001b[0;34m(\u001b[0m\u001b[0mlabel\u001b[0m\u001b[0;34m=\u001b[0m\u001b[0;34m'SCAFFOLD'\u001b[0m\u001b[0;34m,\u001b[0m \u001b[0mmarker\u001b[0m\u001b[0;34m=\u001b[0m\u001b[0;34m'*'\u001b[0m\u001b[0;34m,\u001b[0m \u001b[0mcolor\u001b[0m\u001b[0;34m=\u001b[0m\u001b[0;34m'green'\u001b[0m\u001b[0;34m)\u001b[0m\u001b[0;34m\u001b[0m\u001b[0;34m\u001b[0m\u001b[0m\n\u001b[1;32m      4\u001b[0m \u001b[0mfedlin1\u001b[0m\u001b[0;34m.\u001b[0m\u001b[0mtrace\u001b[0m\u001b[0;34m.\u001b[0m\u001b[0mplot_losses\u001b[0m\u001b[0;34m(\u001b[0m\u001b[0mlabel\u001b[0m\u001b[0;34m=\u001b[0m\u001b[0;34m'FedLin'\u001b[0m\u001b[0;34m,\u001b[0m \u001b[0mmarker\u001b[0m\u001b[0;34m=\u001b[0m\u001b[0;34m'*'\u001b[0m\u001b[0;34m,\u001b[0m \u001b[0mcolor\u001b[0m\u001b[0;34m=\u001b[0m\u001b[0;34m'orange'\u001b[0m\u001b[0;34m)\u001b[0m\u001b[0;34m\u001b[0m\u001b[0;34m\u001b[0m\u001b[0m\n\u001b[1;32m      5\u001b[0m \u001b[0mlocalgd1\u001b[0m\u001b[0;34m.\u001b[0m\u001b[0mtrace\u001b[0m\u001b[0;34m.\u001b[0m\u001b[0mplot_losses\u001b[0m\u001b[0;34m(\u001b[0m\u001b[0mlabel\u001b[0m\u001b[0;34m=\u001b[0m\u001b[0;34m'Local GD'\u001b[0m\u001b[0;34m,\u001b[0m \u001b[0mmarker\u001b[0m\u001b[0;34m=\u001b[0m\u001b[0;34m'*'\u001b[0m\u001b[0;34m,\u001b[0m \u001b[0mcolor\u001b[0m\u001b[0;34m=\u001b[0m\u001b[0;34m'black'\u001b[0m\u001b[0;34m)\u001b[0m\u001b[0;34m\u001b[0m\u001b[0;34m\u001b[0m\u001b[0m\n",
      "\u001b[0;31mNameError\u001b[0m: name 'skip' is not defined"
     ]
    }
   ],
   "source": [
    "skip.trace.plot_losses(label='ProxSkip', marker='*', color='red')\n",
    "slocalgd.trace.plot_losses(label='S-local-GD', marker='*', color='blue')\n",
    "scaf.trace.plot_losses(label='SCAFFOLD', marker='*', color='green')\n",
    "fedlin1.trace.plot_losses(label='FedLin', marker='*', color='orange')\n",
    "localgd1.trace.plot_losses(label='Local GD', marker='*', color='black')\n",
    "plt.yscale('log')\n",
    "plt.ylabel(r'$f(x)-f_*$')\n",
    "plt.xlabel('Communication rounds')\n",
    "plt.legend()\n",
    "plt.savefig('GD_comparison.pdf')"
   ]
  },
  {
   "cell_type": "code",
   "execution_count": null,
   "metadata": {},
   "outputs": [],
   "source": []
  }
 ],
 "metadata": {
  "kernelspec": {
   "display_name": "Python 3 (ipykernel)",
   "language": "python",
   "name": "python3"
  },
  "language_info": {
   "codemirror_mode": {
    "name": "ipython",
    "version": 3
   },
   "file_extension": ".py",
   "mimetype": "text/x-python",
   "name": "python",
   "nbconvert_exporter": "python",
   "pygments_lexer": "ipython3",
   "version": "3.9.7"
  }
 },
 "nbformat": 4,
 "nbformat_minor": 4
}
