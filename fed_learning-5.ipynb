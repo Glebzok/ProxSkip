{
 "cells": [
  {
   "cell_type": "code",
   "execution_count": 1,
   "metadata": {
    "colab": {
     "base_uri": "https://localhost:8080/"
    },
    "id": "HAzyeyeyivwH",
    "outputId": "e92cc6b7-ac7e-475b-ddf0-3c581bb2a314"
   },
   "outputs": [
    {
     "name": "stdout",
     "output_type": "stream",
     "text": [
      "Collecting git+https://github.com/konstmish/opt_methods.git\n",
      "  Cloning https://github.com/konstmish/opt_methods.git to /private/var/folders/1r/dhtw1ntj2klfnlqmdcmdbtcm71p3bh/T/pip-req-build-s5eeo08u\n",
      "Requirement already satisfied (use --upgrade to upgrade): opt-methods==0.1.1 from git+https://github.com/konstmish/opt_methods.git in /opt/anaconda3/lib/python3.8/site-packages\n",
      "Building wheels for collected packages: opt-methods\n",
      "  Building wheel for opt-methods (setup.py) ... \u001b[?25ldone\n",
      "\u001b[?25h  Created wheel for opt-methods: filename=opt_methods-0.1.1-py3-none-any.whl size=53038 sha256=4e5189f3b513b278f626288aa21bf4e078a8c8084c53625690ab20892e1a06d8\n",
      "  Stored in directory: /private/var/folders/1r/dhtw1ntj2klfnlqmdcmdbtcm71p3bh/T/pip-ephem-wheel-cache-21sk_jyt/wheels/bf/b4/48/3c91e0f1794f4eeba87acece649fcbd94f4b9a93674874633b\n",
      "Successfully built opt-methods\n"
     ]
    }
   ],
   "source": [
    "!pip install git+https://github.com/konstmish/opt_methods.git"
   ]
  },
  {
   "cell_type": "code",
   "execution_count": 2,
   "metadata": {
    "colab": {
     "base_uri": "https://localhost:8080/"
    },
    "id": "dEcNMoYujO_g",
    "outputId": "a22942d0-45ae-49b8-eaad-6da6f5b0cc06"
   },
   "outputs": [
    {
     "name": "stdout",
     "output_type": "stream",
     "text": [
      "Requirement already up-to-date: ray in /opt/anaconda3/lib/python3.8/site-packages (1.12.1)\n",
      "Requirement already satisfied, skipping upgrade: click>=7.0 in /opt/anaconda3/lib/python3.8/site-packages (from ray) (7.1.2)\n",
      "Requirement already satisfied, skipping upgrade: msgpack<2.0.0,>=1.0.0 in /opt/anaconda3/lib/python3.8/site-packages (from ray) (1.0.0)\n",
      "Requirement already satisfied, skipping upgrade: filelock in /opt/anaconda3/lib/python3.8/site-packages (from ray) (3.0.12)\n",
      "Requirement already satisfied, skipping upgrade: pyyaml in /opt/anaconda3/lib/python3.8/site-packages (from ray) (5.3.1)\n",
      "Requirement already satisfied, skipping upgrade: aiosignal in /opt/anaconda3/lib/python3.8/site-packages (from ray) (1.2.0)\n",
      "Requirement already satisfied, skipping upgrade: frozenlist in /opt/anaconda3/lib/python3.8/site-packages (from ray) (1.3.0)\n",
      "Requirement already satisfied, skipping upgrade: protobuf>=3.15.3 in /opt/anaconda3/lib/python3.8/site-packages (from ray) (3.18.0)\n",
      "Requirement already satisfied, skipping upgrade: requests in /opt/anaconda3/lib/python3.8/site-packages (from ray) (2.24.0)\n",
      "Requirement already satisfied, skipping upgrade: numpy>=1.16; python_version < \"3.9\" in /opt/anaconda3/lib/python3.8/site-packages (from ray) (1.19.2)\n",
      "Requirement already satisfied, skipping upgrade: attrs in /opt/anaconda3/lib/python3.8/site-packages (from ray) (20.3.0)\n",
      "Requirement already satisfied, skipping upgrade: virtualenv in /opt/anaconda3/lib/python3.8/site-packages (from ray) (20.14.1)\n",
      "Requirement already satisfied, skipping upgrade: grpcio<=1.43.0,>=1.28.1 in /opt/anaconda3/lib/python3.8/site-packages (from ray) (1.43.0)\n",
      "Requirement already satisfied, skipping upgrade: jsonschema in /opt/anaconda3/lib/python3.8/site-packages (from ray) (3.2.0)\n",
      "Requirement already satisfied, skipping upgrade: certifi>=2017.4.17 in /opt/anaconda3/lib/python3.8/site-packages (from requests->ray) (2020.6.20)\n",
      "Requirement already satisfied, skipping upgrade: idna<3,>=2.5 in /opt/anaconda3/lib/python3.8/site-packages (from requests->ray) (2.10)\n",
      "Requirement already satisfied, skipping upgrade: chardet<4,>=3.0.2 in /opt/anaconda3/lib/python3.8/site-packages (from requests->ray) (3.0.4)\n",
      "Requirement already satisfied, skipping upgrade: urllib3!=1.25.0,!=1.25.1,<1.26,>=1.21.1 in /opt/anaconda3/lib/python3.8/site-packages (from requests->ray) (1.25.11)\n",
      "Requirement already satisfied, skipping upgrade: six<2,>=1.9.0 in /opt/anaconda3/lib/python3.8/site-packages (from virtualenv->ray) (1.15.0)\n",
      "Requirement already satisfied, skipping upgrade: distlib<1,>=0.3.1 in /opt/anaconda3/lib/python3.8/site-packages (from virtualenv->ray) (0.3.4)\n",
      "Requirement already satisfied, skipping upgrade: platformdirs<3,>=2 in /opt/anaconda3/lib/python3.8/site-packages (from virtualenv->ray) (2.5.2)\n",
      "Requirement already satisfied, skipping upgrade: pyrsistent>=0.14.0 in /opt/anaconda3/lib/python3.8/site-packages (from jsonschema->ray) (0.17.3)\n",
      "Requirement already satisfied, skipping upgrade: setuptools in /opt/anaconda3/lib/python3.8/site-packages (from jsonschema->ray) (50.3.1.post20201107)\n"
     ]
    }
   ],
   "source": [
    "!pip install -U ray"
   ]
  },
  {
   "cell_type": "code",
   "execution_count": 3,
   "metadata": {
    "id": "D_ulQQc9jIrx"
   },
   "outputs": [],
   "source": [
    "import matplotlib\n",
    "import numpy as np\n",
    "import psutil\n",
    "import ray\n",
    "import seaborn as sns\n",
    "\n",
    "import matplotlib.pyplot as plt\n",
    "import numpy.linalg as la\n",
    "from scipy.sparse import csc_matrix, csr_matrix\n",
    "from sklearn.datasets import load_svmlight_file, fetch_rcv1\n",
    "\n",
    "from optmethods.datasets import get_dataset\n",
    "from optmethods.first_order import Adgd, Gd, Nesterov, RestNest\n",
    "from optmethods.loss import LogisticRegression\n",
    "from optmethods.utils import get_trace, relative_round\n",
    "\n",
    "sns.set(style=\"whitegrid\", context=\"talk\", font_scale=1.2, palette=sns.color_palette(\"bright\"), color_codes=False)\n",
    "matplotlib.rcParams['pdf.fonttype'] = 42\n",
    "matplotlib.rcParams['ps.fonttype'] = 42\n",
    "matplotlib.rcParams['font.family'] = 'sans-serif'\n",
    "matplotlib.rcParams['font.sans-serif'] = 'DejaVu Sans'\n",
    "matplotlib.rcParams['mathtext.fontset'] = 'cm'\n",
    "matplotlib.rcParams['figure.figsize'] = (9, 6)\n",
    "# Multiple plots in one figure: code below\n",
    "# import matplotlib.backends.backend_pdf as bf\n",
    "# <code for plt>\n",
    "# pdf = bf.PdfPages(\"./output.pdf\")\n",
    "# for fig in xrange(1, plt.figure().number):\n",
    "#         pdf.savefig( fig )\n",
    "# pdf.close()"
   ]
  },
  {
   "cell_type": "code",
   "execution_count": 4,
   "metadata": {
    "id": "aN_WVLzJi3vP"
   },
   "outputs": [],
   "source": [
    "num_cpus = psutil.cpu_count(logical=False)\n",
    "# ray.init(num_cpus=num_cpus)"
   ]
  },
  {
   "cell_type": "markdown",
   "metadata": {
    "id": "eentqz5FkZtV"
   },
   "source": [
    "## Get data and define problem"
   ]
  },
  {
   "cell_type": "code",
   "execution_count": 5,
   "metadata": {
    "colab": {
     "base_uri": "https://localhost:8080/"
    },
    "id": "3hzL7NKAi4RH",
    "outputId": "434154f8-14f1-494e-bb9a-08696b6b8b01"
   },
   "outputs": [
    {
     "name": "stdout",
     "output_type": "stream",
     "text": [
      "Computing the smoothness constant via SVD, it may take a few minutes...\n",
      "0.6611558746661748 0.0006611558746661747\n"
     ]
    }
   ],
   "source": [
    "import sklearn.datasets\n",
    "import urllib.request\n",
    "w8a_url = \"https://www.csie.ntu.edu.tw/~cjlin/libsvmtools/datasets/binary/w8a\"\n",
    "a9a_url = \"https://www.csie.ntu.edu.tw/~cjlin/libsvmtools/datasets/binary/a9a\"\n",
    "data_path = './w8a'\n",
    "f = urllib.request.urlretrieve(w8a_url, data_path)\n",
    "# f = urllib.request.urlretrieve(a9a_url, data_path)\n",
    "A, b = sklearn.datasets.load_svmlight_file(data_path)\n",
    "\n",
    "n, dim = A.shape\n",
    "if n % num_cpus != 0:\n",
    "    A = A[:n - (n % num_cpus)]\n",
    "    b = b[:n - (n % num_cpus)]\n",
    "b_unique = np.unique(b)\n",
    "if (b_unique == [1, 2]).all():\n",
    "    # Transform labels {1, 2} to {0, 1}\n",
    "    b = b - 1\n",
    "elif (b_unique == [-1, 1]).all():\n",
    "    # Transform labels {-1, 1} to {0, 1}\n",
    "    b = (b+1) / 2\n",
    "else:\n",
    "    # replace class labels with 0's and 1's\n",
    "    b = 1. * (b == b[0])\n",
    "# A = A.toarray()\n",
    "l1 = 0\n",
    "loss = LogisticRegression(A, b, l1=l1, l2=0)\n",
    "n, dim = A.shape\n",
    "if n <= 20000 or dim <= 20000:\n",
    "    print('Computing the smoothness constant via SVD, it may take a few minutes...')\n",
    "L = loss.smoothness\n",
    "# l2 = 0\n",
    "l2 = 1e-3 * L\n",
    "loss.l2 = l2\n",
    "# x0 = csc_matrix((dim, 1))\n",
    "x0 = np.zeros(dim)\n",
    "n_epoch = 100\n",
    "# it_max = (n_epoch * n) // batch_size\n",
    "trace_len = 300\n",
    "\n",
    "print(L, l2)"
   ]
  },
  {
   "cell_type": "markdown",
   "metadata": {
    "id": "Ebqm_RYbkejf"
   },
   "source": [
    "## Solve problem by Nesterov's method"
   ]
  },
  {
   "cell_type": "code",
   "execution_count": 7,
   "metadata": {
    "colab": {
     "base_uri": "https://localhost:8080/",
     "height": 389
    },
    "id": "7QxXgy56i4vq",
    "outputId": "7060dae0-c0cb-4ffc-de99-f84bf7ab0fda"
   },
   "outputs": [
    {
     "data": {
      "image/png": "[encoded data removed]",
      "text/plain": [
       "<Figure size 648x432 with 1 Axes>"
      ]
     },
     "metadata": {},
     "output_type": "display_data"
    }
   ],
   "source": [
    "rest = RestNest(loss=loss, doubling=True)\n",
    "rest_tr = rest.run(x0=x0, it_max=1000)\n",
    "rest_tr.compute_loss_of_iterates()\n",
    "rest.trace.plot_losses()\n",
    "plt.yscale('log')"
   ]
  },
  {
   "cell_type": "markdown",
   "metadata": {
    "id": "teevtNIPkPPy"
   },
   "source": [
    "## Define local methods"
   ]
  },
  {
   "cell_type": "markdown",
   "metadata": {
    "id": "0O78aFoMkUR-"
   },
   "source": [
    "### Local SGD"
   ]
  },
  {
   "cell_type": "code",
   "execution_count": 8,
   "metadata": {
    "id": "l3m85O7TkNwN"
   },
   "outputs": [],
   "source": [
    "from optmethods.optimizer import StochasticOptimizer\n",
    "\n",
    "\n",
    "@ray.remote\n",
    "class Worker:\n",
    "    def __init__(self, shuffle=True, prox_skip=False, loss=None, it_local=None, batch_size=1):\n",
    "        self.loss = loss\n",
    "        self.shuffle = shuffle\n",
    "        self.prox_skip = prox_skip\n",
    "        self.it_local = it_local\n",
    "        self.batch_size = batch_size\n",
    "        self.c = None\n",
    "        self.h = None\n",
    "        self.rng_skip = np.random.default_rng(42) # random number generator for random synchronizations\n",
    "    \n",
    "    def run_local(self, x, lr):\n",
    "        self.x = x * 1.\n",
    "        if self.shuffle:\n",
    "            self.run_local_shuffle(lr)\n",
    "        elif self.prox_skip:\n",
    "            print(f\"running prox skip with x={x}\")\n",
    "            self.run_prox_skip(lr)\n",
    "        else:\n",
    "            self.run_local_sgd(lr)\n",
    "        return self.x\n",
    "    \n",
    "    def run_local_shuffle(self, lr):\n",
    "        permutation = np.random.permutation(self.loss.n)\n",
    "        i = 0\n",
    "        while i < self.loss.n:\n",
    "            i_max = min(self.loss.n, i + self.batch_size)\n",
    "            idx = permutation[i:i_max]\n",
    "            self.x -= lr * self.loss.stochastic_gradient(self.x, idx=idx)\n",
    "            i += self.batch_size\n",
    "    \n",
    "    def run_local_sgd(self, lr):\n",
    "        for i in range(self.it_local):\n",
    "            if self.batch_size is None:\n",
    "                self.x -= lr * self.loss.gradient(self.x)\n",
    "            else:\n",
    "                self.x -= lr * self.loss.stochastic_gradient(self.x, batch_size=self.batch_size)\n",
    "    \n",
    "    def run_scaffold(self, x, lr, c):\n",
    "        # as in the original scaffold paper, we use their Option II\n",
    "        self.x = x * 1.\n",
    "        if self.c is None:\n",
    "            self.c = self.x * 0. #initialize zero vector of the same dimension\n",
    "        for i in range(self.it_local):\n",
    "            if self.batch_size is None:\n",
    "                g = self.loss.gradient(self.x)\n",
    "            else:\n",
    "                g = self.loss.stochastic_gradient(self.x, batch_size=self.batch_size)\n",
    "            self.x -= lr * (g - self.c + c)\n",
    "        self.c += 1 / (self.it_local * lr) * (x - self.x) - c\n",
    "        return self.x\n",
    "\n",
    "    def run_prox_skip(self, lr):\n",
    "        p = 1 / self.it_local\n",
    "        if self.h is None:\n",
    "            # first iteration\n",
    "            self.h = self.x * 0. # initialize zero vector of the same dimension\n",
    "        else:\n",
    "            # update the gradient estimate \n",
    "            self.h += p / self.lr * (self.x - self.x_before_averaing)\n",
    "        it_local = self.rng_skip.geometric(p=p) # since all workers use the same random seed, this number is the same for all of them\n",
    "\n",
    "        for i in range(it_local):\n",
    "            if self.batch_size is None:\n",
    "                g = self.loss.gradient(self.x)\n",
    "            else:\n",
    "                g = self.loss.stochastic_gradient(self.x, batch_size=self.batch_size)\n",
    "            self.x -= lr * (g - self.h)\n",
    "        self.x_before_averaing = self.x * 1.\n",
    "    \n",
    "    def get_control_var(self):\n",
    "        return self.c\n",
    "\n",
    "\n",
    "class LocalSgd(StochasticOptimizer):\n",
    "    \"\"\"\n",
    "    Stochastic gradient descent with decreasing or constant learning rate.\n",
    "    \n",
    "    Arguments:\n",
    "        lr (float, optional): an estimate of the inverse smoothness constant\n",
    "        lr_decay_coef (float, optional): the coefficient in front of the number of finished iterations\n",
    "            in the denominator of step-size. For strongly convex problems, a good value\n",
    "            is mu/2, where mu is the strong convexity constant\n",
    "        lr_decay_power (float, optional): the power to exponentiate the number of finished iterations\n",
    "            in the denominator of step-size. For strongly convex problems, a good value is 1 (default: 1)\n",
    "        it_start_decay (int, optional): how many iterations the step-size is kept constant\n",
    "            By default, will be set to have about 2.5% of iterations with the step-size equal to lr0\n",
    "        batch_size (int, optional): the number of samples from the function to be used at each iteration\n",
    "    \"\"\"\n",
    "    def __init__(self, it_local, n_workers=None, cohort_size=None, iid=False, lr0=None, lr_max=np.inf, lr_decay_coef=0,\n",
    "                 lr_decay_power=1, it_start_decay=None, batch_size=1, losses=None, *args, **kwargs):\n",
    "        super(LocalSgd, self).__init__(*args, **kwargs)\n",
    "        self.it_local = it_local\n",
    "        if n_workers is None:\n",
    "            n_workers = psutil.cpu_count(logical=False)\n",
    "        if cohort_size is None:\n",
    "            cohort_size = n_workers\n",
    "        self.n_workers = n_workers\n",
    "        self.cohort_size = cohort_size\n",
    "        self.iid = iid\n",
    "        self.lr0 = lr0\n",
    "        self.lr_max = lr_max\n",
    "        self.lr_decay_coef = lr_decay_coef\n",
    "        self.lr_decay_power = lr_decay_power\n",
    "        self.it_start_decay = it_start_decay\n",
    "        self.batch_size = batch_size\n",
    "        self.losses = losses\n",
    "        \n",
    "    def step(self):\n",
    "        denom_const = 1 / self.lr0\n",
    "        lr_decayed = 1 / (denom_const + self.it_local*self.lr_decay_coef*max(0, self.it-self.it_start_decay)**self.lr_decay_power)\n",
    "        if lr_decayed < 0:\n",
    "            lr_decayed = np.inf\n",
    "        self.lr = min(lr_decayed, self.lr_max)\n",
    "        x_id = ray.put(self.x)\n",
    "        \n",
    "        if self.cohort_size == self.n_workers:\n",
    "            self.x = np.mean(ray.get([worker.run_local.remote(x_id, self.lr) for worker in self.workers]), axis=0)\n",
    "        else:\n",
    "            cohort = np.random.choice(self.n_workers, self.cohort_size, replace=False)\n",
    "            self.x = np.mean(ray.get([self.workers[i].run_local.remote(x_id, self.lr) for i in cohort]), axis=0)\n",
    "    \n",
    "    def init_run(self, *args, **kwargs):\n",
    "        super(LocalSgd, self).init_run(*args, **kwargs)\n",
    "        if self.it_start_decay is None and np.isfinite(self.it_max):\n",
    "            self.it_start_decay = self.it_max // 40 if np.isfinite(self.it_max) else 0\n",
    "        if self.lr0 is None:\n",
    "            self.lr0 = 1 / self.loss.batch_smoothness(batch_size)\n",
    "        if self.iid:\n",
    "            loss_id = ray.put(self.loss)\n",
    "            self.workers = [Worker.remote(shuffle=False, loss=loss_id, it_local=self.it_local, batch_size=self.batch_size) for _ in range(self.n_workers)]\n",
    "        else:\n",
    "            loss_ids = [ray.put(self.losses[i]) for i in range(self.n_workers)]\n",
    "            self.workers = [Worker.remote(shuffle=False, loss=loss, it_local=self.it_local, batch_size=self.batch_size) for loss in loss_ids]\n",
    "        \n",
    "    def update_trace(self, first_iterations=10):\n",
    "        super(LocalSgd, self).update_trace()\n",
    "        \n",
    "    def terminate_workers(self):\n",
    "        for worker in self.workers:\n",
    "            ray.kill(worker)"
   ]
  },
  {
   "cell_type": "markdown",
   "metadata": {
    "id": "IgbaUWC7lN1u"
   },
   "source": [
    "### FedRR"
   ]
  },
  {
   "cell_type": "code",
   "execution_count": 9,
   "metadata": {
    "id": "hQTuEMdmlKm1"
   },
   "outputs": [],
   "source": [
    "import math\n",
    "\n",
    "class LocalShuffling(StochasticOptimizer):\n",
    "    \"\"\"\n",
    "    Shuffling-based stochastic gradient descent with decreasing or constant learning rate.\n",
    "    For a formal description and convergence guarantees, see\n",
    "        https://arxiv.org/abs/2006.05988\n",
    "    \n",
    "    The method is sensitive to finishing the final epoch, so it will terminate earlier \n",
    "    than it_max if it_max is not divisible by the number of steps per epoch.\n",
    "    \n",
    "    Arguments:\n",
    "        reshuffle (bool, optional): whether to get a new permuation for every new epoch.\n",
    "            For convex problems, only a single permutation should suffice and it can run faster (default: False)\n",
    "        prox_every_it (bool, optional): whether to use proximal operation every iteration \n",
    "            or only at the end of an epoch. Theory supports the latter. Only used if the loss includes\n",
    "            a proximal regularizer (default: False)\n",
    "        lr0 (float, optional): an estimate of the inverse smoothness constant, this step-size\n",
    "            is used for the first epoch_start_decay epochs. If not given, it will be set\n",
    "            with the value in the loss.\n",
    "        lr_max (float, optional): a maximal step-size never to be exceeded (default: np.inf)\n",
    "        lr_decay_coef (float, optional): the coefficient in front of the number of finished epochs\n",
    "            in the denominator of step-size. For strongly convex problems, a good value\n",
    "            is mu/3, where mu is the strong convexity constant\n",
    "        lr_decay_power (float, optional): the power to exponentiate the number of finished epochs\n",
    "            in the denominator of step-size. For strongly convex problems, a good value is 1 (default: 1)\n",
    "        epoch_start_decay (int, optional): how many epochs the step-size is kept constant\n",
    "            By default, will be set to have about 2.5% of iterations with the step-size equal to lr0\n",
    "        batch_size (int, optional): the number of samples from the function to be used at each iteration\n",
    "    \"\"\"\n",
    "    def __init__(self, n_workers=None, iid=False, reshuffle=False, lr0=None, lr_max=np.inf, lr_decay_coef=0,\n",
    "                 lr_decay_power=1, epoch_start_decay=1, batch_size=1, \n",
    "                 losses=None, jumping=0, cohort_size=None, *args, **kwargs):\n",
    "        super(LocalShuffling, self).__init__(*args, **kwargs)\n",
    "        if n_workers is None:\n",
    "            n_workers = psutil.cpu_count(logical=False)\n",
    "        if cohort_size is None:\n",
    "            cohort_size = n_workers\n",
    "        self.n_workers = n_workers\n",
    "        self.cohort_size = cohort_size\n",
    "        self.iid = iid\n",
    "        self.reshuffle = reshuffle\n",
    "        self.lr0 = lr0\n",
    "        self.lr_max = lr_max\n",
    "        self.lr_decay_coef = lr_decay_coef\n",
    "        self.lr_decay_power = lr_decay_power\n",
    "        self.epoch_start_decay = epoch_start_decay\n",
    "        self.batch_size = batch_size\n",
    "        self.losses = losses\n",
    "        self.jumping = jumping\n",
    "        \n",
    "        if self.iid:\n",
    "            self.steps_per_epoch = math.ceil(self.loss.n/batch_size)\n",
    "        else:\n",
    "            self.steps_per_epoch = math.ceil(self.loss.n/batch_size/n_workers)\n",
    "        if epoch_start_decay is None and np.isfinite(self.epoch_max):\n",
    "            self.epoch_start_decay = 1 + self.epoch_max // 40\n",
    "        elif epoch_start_decay is None:\n",
    "            self.epoch_start_decay = 1\n",
    "        \n",
    "    def step(self):\n",
    "        if self.it%self.steps_per_epoch == 0 and self.reshuffle:\n",
    "            # Start new epoch\n",
    "            self.permutation = np.random.permutation(self.loss.n)\n",
    "            self.i = 0\n",
    "            self.sampled_permutations += 1\n",
    "        idx_perm = np.arange(self.i, min(self.loss.n, self.i+self.batch_size))\n",
    "        idx = self.permutation[idx_perm]\n",
    "        self.i += self.batch_size\n",
    "        # since the objective is 1/n sum_{i=1}^n f_i(x) + l2/2*||x||^2\n",
    "        # any incomplete minibatch should be normalized by batch_size\n",
    "        normalization = self.loss.n / self.steps_per_epoch\n",
    "        self.grad = self.loss.stochastic_gradient(self.x, idx=idx, normalization=normalization)\n",
    "        denom_const = 1 / self.lr0\n",
    "        lr_decayed = 1 / (denom_const + self.loss.n/self.batch_size*self.lr_decay_coef*max(0, self.finished_epochs-self.epoch_start_decay)**self.lr_decay_power)\n",
    "        self.lr = min(lr_decayed, self.lr_max)\n",
    "        x_id = ray.put(self.x)\n",
    "        if self.cohort_size == self.n_workers:\n",
    "            x_new = np.mean(ray.get([worker.run_local.remote(x_id, self.lr) for worker in self.workers]), axis=0)\n",
    "        else:\n",
    "            cohort = np.random.choice(self.n_workers, self.cohort_size, replace=False)\n",
    "            x_new = np.mean(ray.get([self.workers[i].run_local.remote(x_id, self.lr) for i in cohort]), axis=0)\n",
    "        if self.jumping:\n",
    "            full_grad_estim = (self.x - x_new) / self.lr\n",
    "            self.gd_lr = self.lr * (1 + self.jumping)\n",
    "            self.x = self.x - self.gd_lr * full_grad_estim\n",
    "            self.jumping_sum += self.jumping_coef\n",
    "        else:\n",
    "            self.x = x_new\n",
    "        self.finished_epochs += 1\n",
    "    \n",
    "    def init_run(self, *args, **kwargs):\n",
    "        super(LocalShuffling, self).init_run(*args, **kwargs)\n",
    "        if self.lr0 is None:\n",
    "            self.lr0 = 1 / self.loss.batch_smoothness(batch_size)\n",
    "        self.finished_epochs = 0\n",
    "        self.permutation = np.random.permutation(self.loss.n)\n",
    "        self.sampled_permutations = 1\n",
    "        self.epoch_max = self.it_max // self.steps_per_epoch\n",
    "        if self.iid:\n",
    "            loss_id = ray.put(self.loss)\n",
    "            self.workers = [Worker.remote(shuffle=True, loss=loss_id, it_local=None, batch_size=self.batch_size) for _ in range(self.n_workers)]\n",
    "        else:\n",
    "            loss_ids = [ray.put(self.losses[i]) for i in range(self.n_workers)]\n",
    "            self.workers = [Worker.remote(shuffle=True, loss=loss, it_local=None, batch_size=self.batch_size) for loss in loss_ids]\n",
    "        self.jumping_sum = 0\n",
    "        self.gd_lr = None\n",
    "        \n",
    "    def terminate_workers(self):\n",
    "        for worker in self.workers:\n",
    "            ray.kill(worker)"
   ]
  },
  {
   "cell_type": "markdown",
   "metadata": {
    "id": "T4gAjNNSpdf5"
   },
   "source": [
    "### Scaffold"
   ]
  },
  {
   "cell_type": "code",
   "execution_count": 10,
   "metadata": {
    "id": "hKtE5dTYpfW1"
   },
   "outputs": [],
   "source": [
    "class Scaffold(StochasticOptimizer):\n",
    "    \"\"\"\n",
    "    Scaffold (local SGD with variance control).\n",
    "    \n",
    "    Arguments:\n",
    "        lr (float, optional): an estimate of the inverse smoothness constant\n",
    "        lr_decay_coef (float, optional): the coefficient in front of the number of finished iterations\n",
    "            in the denominator of step-size. For strongly convex problems, a good value\n",
    "            is mu/2, where mu is the strong convexity constant\n",
    "        lr_decay_power (float, optional): the power to exponentiate the number of finished iterations\n",
    "            in the denominator of step-size. For strongly convex problems, a good value is 1 (default: 1)\n",
    "        it_start_decay (int, optional): how many iterations the step-size is kept constant\n",
    "            By default, will be set to have about 2.5% of iterations with the step-size equal to lr0\n",
    "        batch_size (int, optional): the number of samples from the function to be used at each iteration\n",
    "    \"\"\"\n",
    "    def __init__(self, it_local, n_workers=None, iid=False, lr0=None, lr_max=np.inf, \n",
    "                 lr_decay_coef=0, lr_decay_power=1, it_start_decay=None,\n",
    "                 batch_size=1, losses=None, global_lr=1., cohort_size=None, *args, **kwargs):\n",
    "        super(Scaffold, self).__init__(*args, **kwargs)\n",
    "        self.it_local = it_local\n",
    "        if n_workers is None:\n",
    "            n_workers = psutil.cpu_count(logical=False)\n",
    "        if cohort_size is None:\n",
    "            cohort_size = n_workers\n",
    "        self.n_workers = n_workers\n",
    "        self.cohort_size = cohort_size\n",
    "        self.iid = iid\n",
    "        self.lr0 = lr0\n",
    "        self.lr_max = lr_max\n",
    "        self.lr_decay_coef = lr_decay_coef\n",
    "        self.lr_decay_power = lr_decay_power\n",
    "        self.it_start_decay = it_start_decay\n",
    "        self.batch_size = batch_size\n",
    "        self.losses = losses\n",
    "        self.global_lr = global_lr\n",
    "        \n",
    "    def step(self):\n",
    "        denom_const = 1 / self.lr0\n",
    "        lr_decayed = 1 / (denom_const + self.it_local*self.lr_decay_coef*max(0, self.it-self.it_start_decay)**self.lr_decay_power)\n",
    "        if lr_decayed < 0:\n",
    "            lr_decayed = np.inf \n",
    "        self.lr = min(lr_decayed, self.lr_max)\n",
    "        x_id = ray.put(self.x)\n",
    "        c_id = ray.put(self.c)\n",
    "        if self.cohort_size == self.n_workers:\n",
    "            x_new = np.mean(ray.get([worker.run_scaffold.remote(x_id, self.lr, c_id) for worker in self.workers]), axis=0)\n",
    "            c_new = np.mean(ray.get([worker.get_control_var.remote() for worker in self.workers]), axis=0)\n",
    "        else:\n",
    "            cohort = np.random.choice(self.n_workers, self.cohort_size, replace=False)\n",
    "            x_new = np.mean(ray.get([self.workers[i].run_scaffold.remote(x_id, self.lr, c_id) for i in cohort]), axis=0)\n",
    "            c_new = np.mean(ray.get([self.workers[i].get_control_var.remote() for i in cohort]), axis=0)\n",
    "        if self.global_lr == 1:\n",
    "            self.x = x_new\n",
    "        else:\n",
    "            self.x += self.global_lr * (x_new - self.x)\n",
    "        self.c += self.cohort_size / self.n_workers * (c_new - self.c)\n",
    "    \n",
    "    def init_run(self, *args, **kwargs):\n",
    "        super(Scaffold, self).init_run(*args, **kwargs)\n",
    "        if self.it_start_decay is None and np.isfinite(self.it_max):\n",
    "            self.it_start_decay = self.it_max // 40 if np.isfinite(self.it_max) else 0\n",
    "        self.c = self.x * 0\n",
    "        if self.iid:\n",
    "            loss_id = ray.put(self.loss)\n",
    "            self.workers = [Worker.remote(shuffle=False, loss=loss_id, it_local=self.it_local, batch_size=self.batch_size) for _ in range(self.n_workers)]\n",
    "        else:\n",
    "            loss_ids = [ray.put(self.losses[i]) for i in range(self.n_workers)]\n",
    "            self.workers = [Worker.remote(shuffle=False, loss=loss, it_local=self.it_local, batch_size=self.batch_size) for loss in loss_ids]\n",
    "        \n",
    "    def terminate_workers(self):\n",
    "        for worker in self.workers:\n",
    "            ray.kill(worker)\n"
   ]
  },
  {
   "cell_type": "markdown",
   "metadata": {
    "id": "8SUSgZuEkEYX"
   },
   "source": [
    "## FedLin"
   ]
  },
  {
   "cell_type": "code",
   "execution_count": 11,
   "metadata": {
    "id": "vIAyzBQ-kDx0"
   },
   "outputs": [],
   "source": [
    "class Fedlin(StochasticOptimizer):\n",
    "    \"\"\"\n",
    "    Fedlin (local SGD with variance control and linear convergence).\n",
    "    \n",
    "    Arguments:\n",
    "        lr (float, optional): an estimate of the inverse smoothness constant\n",
    "        lr_decay_coef (float, optional): the coefficient in front of the number of finished iterations\n",
    "            in the denominator of step-size. For strongly convex problems, a good value\n",
    "            is mu/2, where mu is the strong convexity constant\n",
    "        lr_decay_power (float, optional): the power to exponentiate the number of finished iterations\n",
    "            in the denominator of step-size. For strongly convex problems, a good value is 1 (default: 1)\n",
    "        it_start_decay (int, optional): how many iterations the step-size is kept constant\n",
    "            By default, will be set to have about 2.5% of iterations with the step-size equal to lr0\n",
    "        batch_size (int, optional): the number of samples from the function to be used at each iteration\n",
    "    \"\"\"\n",
    "    def __init__(self, it_local, n_workers=None, iid=False, lr0=None, lr_max=np.inf, \n",
    "                 lr_decay_coef=0, lr_decay_power=1, it_start_decay=None,\n",
    "                 batch_size=1, losses=None, global_lr=1., cohort_size=None, *args, **kwargs):\n",
    "        super(Fedlin, self).__init__(*args, **kwargs)\n",
    "        self.it_local = it_local\n",
    "        if n_workers is None:\n",
    "            n_workers = psutil.cpu_count(logical=False)\n",
    "        if cohort_size is None:\n",
    "            cohort_size = n_workers\n",
    "        self.n_workers = n_workers\n",
    "        self.cohort_size = cohort_size\n",
    "        self.iid = iid\n",
    "        self.lr0 = lr0\n",
    "        self.lr_max = lr_max\n",
    "        self.lr_decay_coef = lr_decay_coef\n",
    "        self.lr_decay_power = lr_decay_power\n",
    "        self.it_start_decay = it_start_decay\n",
    "        self.batch_size = batch_size\n",
    "        self.losses = losses\n",
    "        self.global_lr = global_lr\n",
    "        \n",
    "    def step(self):\n",
    "        denom_const = 1 / self.lr0\n",
    "        lr_decayed = 1 / (denom_const + self.it_local*self.lr_decay_coef*max(0, self.it-self.it_start_decay)**self.lr_decay_power)\n",
    "        if lr_decayed < 0:\n",
    "            lr_decayed = np.inf \n",
    "        self.lr = min(lr_decayed, self.lr_max)\n",
    "        x_id = ray.put(self.x)\n",
    "        if self.cohort_size != self.n_workers:\n",
    "            raise ValueError(\"There is no theory for FedLin with partial participation. This feature is not implemented.\")\n",
    "            cohort = np.random.choice(self.n_workers, self.cohort_size, replace=False)\n",
    "        g = np.mean(ray.get([worker.get_fedlin_grad.remote(x_id) for worker in self.workers]), axis=0)\n",
    "        g_id = ray.put(g)\n",
    "        if self.cohort_size == self.n_workers:\n",
    "            self.x = np.mean(ray.get([worker.run_fedlin.remote(x_id, self.lr, g_id) for worker in self.workers]), axis=0)\n",
    "        else:\n",
    "            self.x = np.mean(ray.get([self.workers[i].run_fedlin.remote(x_id, self.lr, c_id) for i in cohort]), axis=0)\n",
    "    \n",
    "    def init_run(self, *args, **kwargs):\n",
    "        super(Fedlin, self).init_run(*args, **kwargs)\n",
    "        if self.it_start_decay is None and np.isfinite(self.it_max):\n",
    "            self.it_start_decay = self.it_max // 40 if np.isfinite(self.it_max) else 0\n",
    "        if self.iid:\n",
    "            loss_id = ray.put(self.loss)\n",
    "            self.workers = [Worker.remote(shuffle=False, loss=loss_id, it_local=self.it_local, batch_size=self.batch_size) for _ in range(self.n_workers)]\n",
    "        else:\n",
    "            loss_ids = [ray.put(self.losses[i]) for i in range(self.n_workers)]\n",
    "            self.workers = [Worker.remote(shuffle=False, loss=loss, it_local=self.it_local, batch_size=self.batch_size) for loss in loss_ids]\n",
    "        \n",
    "    def terminate_workers(self):\n",
    "        for worker in self.workers:\n",
    "            ray.kill(worker)\n"
   ]
  },
  {
   "cell_type": "markdown",
   "metadata": {
    "id": "Yph9Hgl3zcId"
   },
   "source": [
    "# Non-iid"
   ]
  },
  {
   "cell_type": "code",
   "execution_count": 26,
   "metadata": {
    "id": "Qgtv3nsH53_S"
   },
   "outputs": [],
   "source": [
    "cohort_size = 18 # CHANGE IF YOU WANT PARTIAL PARTICIPATION\n",
    "n_workers = 20\n",
    "n_seeds = 1\n",
    "batch_size = None"
   ]
  },
  {
   "cell_type": "code",
   "execution_count": 27,
   "metadata": {
    "colab": {
     "base_uri": "https://localhost:8080/"
    },
    "id": "iVFPQNTAzbKb",
    "outputId": "3194691d-0d16-43cb-967d-eca0e26aa039"
   },
   "outputs": [
    {
     "name": "stderr",
     "output_type": "stream",
     "text": [
      "/opt/anaconda3/lib/python3.8/site-packages/optmethods/loss/logistic_regression.py:44: UserWarning: The labels have only one unique value.\n",
      "  warnings.warn('The labels have only one unique value.')\n"
     ]
    }
   ],
   "source": [
    "# permutation = A[:, 0].A.squeeze().argsort()\n",
    "permutation = b.squeeze().argsort()\n",
    "\n",
    "losses = []\n",
    "idx = [0] + [(n * i) // n_workers for i in range(1, n_workers)] + [n]\n",
    "for i in range(n_workers):\n",
    "    idx_i = permutation[idx[i] : idx[i+1]]\n",
    "    # idx_i = range(idx[i], idx[i + 1])\n",
    "    loss_i = LogisticRegression(A[idx_i].A, b[idx_i], l1=0, l2=l2)\n",
    "    loss_i.computed_grads = 0\n",
    "    losses.append(loss_i)"
   ]
  },
  {
   "cell_type": "code",
   "execution_count": 28,
   "metadata": {
    "colab": {
     "base_uri": "https://localhost:8080/"
    },
    "id": "hp_s7Koz5ABp",
    "outputId": "f0973417-af19-4c6f-e807-b1d3b0dcb156"
   },
   "outputs": [
    {
     "name": "stdout",
     "output_type": "stream",
     "text": [
      "0.004939143752337777\n"
     ]
    }
   ],
   "source": [
    "grad_norms = [np.linalg.norm(loss_i.gradient(loss.x_opt))**2 for loss_i in losses]\n",
    "print(np.mean(grad_norms))"
   ]
  },
  {
   "cell_type": "code",
   "execution_count": null,
   "metadata": {
    "colab": {
     "base_uri": "https://localhost:8080/"
    },
    "id": "BrLnInbpi5yo",
    "outputId": "07e71989-3669-4037-9400-6c89385e7560"
   },
   "outputs": [
    {
     "name": "stderr",
     "output_type": "stream",
     "text": [
      "2022-01-24 01:08:20,302\tWARNING worker.py:1245 -- WARNING: 4 PYTHON worker processes have been started on node: 03708718d92137dbe6e211d3492bce38d91c748d5bf3ec2cb3e1a5fd with address: 172.28.0.2. This could be a result of using a large number of actors, or due to tasks blocked in ray.get() calls (see https://github.com/ray-project/ray/issues/3644 for some discussion of workarounds).\n",
      "2022-01-24 01:08:21,165\tWARNING worker.py:1245 -- WARNING: 5 PYTHON worker processes have been started on node: 03708718d92137dbe6e211d3492bce38d91c748d5bf3ec2cb3e1a5fd with address: 172.28.0.2. This could be a result of using a large number of actors, or due to tasks blocked in ray.get() calls (see https://github.com/ray-project/ray/issues/3644 for some discussion of workarounds).\n",
      "2022-01-24 01:08:22,061\tWARNING worker.py:1245 -- WARNING: 6 PYTHON worker processes have been started on node: 03708718d92137dbe6e211d3492bce38d91c748d5bf3ec2cb3e1a5fd with address: 172.28.0.2. This could be a result of using a large number of actors, or due to tasks blocked in ray.get() calls (see https://github.com/ray-project/ray/issues/3644 for some discussion of workarounds).\n",
      "2022-01-24 01:08:23,032\tWARNING worker.py:1245 -- WARNING: 7 PYTHON worker processes have been started on node: 03708718d92137dbe6e211d3492bce38d91c748d5bf3ec2cb3e1a5fd with address: 172.28.0.2. This could be a result of using a large number of actors, or due to tasks blocked in ray.get() calls (see https://github.com/ray-project/ray/issues/3644 for some discussion of workarounds).\n",
      "2022-01-24 01:08:23,876\tWARNING worker.py:1245 -- WARNING: 8 PYTHON worker processes have been started on node: 03708718d92137dbe6e211d3492bce38d91c748d5bf3ec2cb3e1a5fd with address: 172.28.0.2. This could be a result of using a large number of actors, or due to tasks blocked in ray.get() calls (see https://github.com/ray-project/ray/issues/3644 for some discussion of workarounds).\n",
      "2022-01-24 01:08:24,807\tWARNING worker.py:1245 -- WARNING: 9 PYTHON worker processes have been started on node: 03708718d92137dbe6e211d3492bce38d91c748d5bf3ec2cb3e1a5fd with address: 172.28.0.2. This could be a result of using a large number of actors, or due to tasks blocked in ray.get() calls (see https://github.com/ray-project/ray/issues/3644 for some discussion of workarounds).\n",
      "2022-01-24 01:08:25,741\tWARNING worker.py:1245 -- WARNING: 10 PYTHON worker processes have been started on node: 03708718d92137dbe6e211d3492bce38d91c748d5bf3ec2cb3e1a5fd with address: 172.28.0.2. This could be a result of using a large number of actors, or due to tasks blocked in ray.get() calls (see https://github.com/ray-project/ray/issues/3644 for some discussion of workarounds).\n",
      "2022-01-24 01:08:26,639\tWARNING worker.py:1245 -- WARNING: 11 PYTHON worker processes have been started on node: 03708718d92137dbe6e211d3492bce38d91c748d5bf3ec2cb3e1a5fd with address: 172.28.0.2. This could be a result of using a large number of actors, or due to tasks blocked in ray.get() calls (see https://github.com/ray-project/ray/issues/3644 for some discussion of workarounds).\n",
      "2022-01-24 01:08:27,587\tWARNING worker.py:1245 -- WARNING: 12 PYTHON worker processes have been started on node: 03708718d92137dbe6e211d3492bce38d91c748d5bf3ec2cb3e1a5fd with address: 172.28.0.2. This could be a result of using a large number of actors, or due to tasks blocked in ray.get() calls (see https://github.com/ray-project/ray/issues/3644 for some discussion of workarounds).\n"
     ]
    }
   ],
   "source": [
    "if batch_size is not None:\n",
    "    it_local = (n-1) // batch_size + 1\n",
    "    sgd_lr0 = 1 / loss.batch_smoothness(batch_size=batch_size) / it_local\n",
    "    it_max = n*5//(batch_size*it_local)\n",
    "else:\n",
    "    it_local = 20\n",
    "    sgd_lr0 = 1 / loss.smoothness\n",
    "    it_max = 100\n",
    "    \n",
    "sgd_decay_coef = l2 / 2\n",
    "sgd_lr_max = sgd_lr0\n",
    "sgd = LocalSgd(loss=loss, n_workers=n_workers, cohort_size=cohort_size, it_local=it_local, \n",
    "               lr_max=sgd_lr_max, lr0=sgd_lr0, lr_decay_coef=sgd_decay_coef, \n",
    "               it_start_decay=0, n_seeds=n_seeds, batch_size=batch_size, trace_len=200, iid=False, losses=losses)\n",
    "sgd.run(x0=x0, it_max=it_max)\n",
    "# sgd.trace.convert_its_to_epochs(batch_size=batch_size*it_local)\n",
    "sgd.trace.compute_loss_of_iterates()\n",
    "sgd.terminate_workers()"
   ]
  },
  {
   "cell_type": "code",
   "execution_count": null,
   "metadata": {
    "colab": {
     "base_uri": "https://localhost:8080/",
     "height": 375
    },
    "id": "IsVVweOwi58u",
    "outputId": "4aa12e14-5336-4660-869b-14910f888fe1"
   },
   "outputs": [
    {
     "ename": "ValueError",
     "evalue": "ignored",
     "output_type": "error",
     "traceback": [
      "\u001b[0;31m---------------------------------------------------------------------------\u001b[0m",
      "\u001b[0;31mValueError\u001b[0m                                Traceback (most recent call last)",
      "\u001b[0;32m<ipython-input-17-3d1ea90c3bd8>\u001b[0m in \u001b[0;36m<module>\u001b[0;34m()\u001b[0m\n\u001b[1;32m     12\u001b[0m scah = Scaffold(loss=loss, n_workers=n_workers, it_local=it_local, lr_max=scah_lr_max, lr0=scah_lr0, lr_decay_coef=scah_decay_coef, \n\u001b[1;32m     13\u001b[0m                it_start_decay=0, n_seeds=n_seeds, batch_size=batch_size, trace_len=200, iid=False, losses=losses)\n\u001b[0;32m---> 14\u001b[0;31m \u001b[0mscah\u001b[0m\u001b[0;34m.\u001b[0m\u001b[0mrun\u001b[0m\u001b[0;34m(\u001b[0m\u001b[0mx0\u001b[0m\u001b[0;34m=\u001b[0m\u001b[0mx0\u001b[0m\u001b[0;34m,\u001b[0m \u001b[0mit_max\u001b[0m\u001b[0;34m=\u001b[0m\u001b[0mit_max\u001b[0m\u001b[0;34m)\u001b[0m\u001b[0;34m\u001b[0m\u001b[0;34m\u001b[0m\u001b[0m\n\u001b[0m\u001b[1;32m     15\u001b[0m \u001b[0mscah\u001b[0m\u001b[0;34m.\u001b[0m\u001b[0mtrace\u001b[0m\u001b[0;34m.\u001b[0m\u001b[0mcompute_loss_of_iterates\u001b[0m\u001b[0;34m(\u001b[0m\u001b[0;34m)\u001b[0m\u001b[0;34m\u001b[0m\u001b[0;34m\u001b[0m\u001b[0m\n\u001b[1;32m     16\u001b[0m \u001b[0mscah\u001b[0m\u001b[0;34m.\u001b[0m\u001b[0mterminate_workers\u001b[0m\u001b[0;34m(\u001b[0m\u001b[0;34m)\u001b[0m\u001b[0;34m\u001b[0m\u001b[0;34m\u001b[0m\u001b[0m\n",
      "\u001b[0;32m/usr/local/lib/python3.7/dist-packages/optmethods/optimizer.py\u001b[0m in \u001b[0;36mrun\u001b[0;34m(self, *args, **kwargs)\u001b[0m\n\u001b[1;32m    163\u001b[0m             \u001b[0mself\u001b[0m\u001b[0;34m.\u001b[0m\u001b[0mseed\u001b[0m \u001b[0;34m=\u001b[0m \u001b[0mseed\u001b[0m\u001b[0;34m\u001b[0m\u001b[0;34m\u001b[0m\u001b[0m\n\u001b[1;32m    164\u001b[0m             \u001b[0mself\u001b[0m\u001b[0;34m.\u001b[0m\u001b[0mtrace\u001b[0m\u001b[0;34m.\u001b[0m\u001b[0minit_seed\u001b[0m\u001b[0;34m(\u001b[0m\u001b[0;34m)\u001b[0m\u001b[0;34m\u001b[0m\u001b[0;34m\u001b[0m\u001b[0m\n\u001b[0;32m--> 165\u001b[0;31m             \u001b[0msuper\u001b[0m\u001b[0;34m(\u001b[0m\u001b[0mStochasticOptimizer\u001b[0m\u001b[0;34m,\u001b[0m \u001b[0mself\u001b[0m\u001b[0;34m)\u001b[0m\u001b[0;34m.\u001b[0m\u001b[0mrun\u001b[0m\u001b[0;34m(\u001b[0m\u001b[0;34m*\u001b[0m\u001b[0margs\u001b[0m\u001b[0;34m,\u001b[0m \u001b[0;34m**\u001b[0m\u001b[0mkwargs\u001b[0m\u001b[0;34m)\u001b[0m\u001b[0;34m\u001b[0m\u001b[0;34m\u001b[0m\u001b[0m\n\u001b[0m\u001b[1;32m    166\u001b[0m             \u001b[0mself\u001b[0m\u001b[0;34m.\u001b[0m\u001b[0mtrace\u001b[0m\u001b[0;34m.\u001b[0m\u001b[0mappend_seed_results\u001b[0m\u001b[0;34m(\u001b[0m\u001b[0mseed\u001b[0m\u001b[0;34m)\u001b[0m\u001b[0;34m\u001b[0m\u001b[0;34m\u001b[0m\u001b[0m\n\u001b[1;32m    167\u001b[0m             \u001b[0mself\u001b[0m\u001b[0;34m.\u001b[0m\u001b[0mfinished_seeds\u001b[0m\u001b[0;34m.\u001b[0m\u001b[0mappend\u001b[0m\u001b[0;34m(\u001b[0m\u001b[0mseed\u001b[0m\u001b[0;34m)\u001b[0m\u001b[0;34m\u001b[0m\u001b[0;34m\u001b[0m\u001b[0m\n",
      "\u001b[0;32m/usr/local/lib/python3.7/dist-packages/optmethods/optimizer.py\u001b[0m in \u001b[0;36mrun\u001b[0;34m(self, x0, t_max, it_max, ls_it_max)\u001b[0m\n\u001b[1;32m     55\u001b[0m                 \u001b[0mself\u001b[0m\u001b[0;34m.\u001b[0m\u001b[0mls_it_max\u001b[0m \u001b[0;34m=\u001b[0m \u001b[0mit_max\u001b[0m\u001b[0;34m\u001b[0m\u001b[0;34m\u001b[0m\u001b[0m\n\u001b[1;32m     56\u001b[0m             \u001b[0;32mif\u001b[0m \u001b[0;32mnot\u001b[0m \u001b[0mself\u001b[0m\u001b[0;34m.\u001b[0m\u001b[0minitialized\u001b[0m\u001b[0;34m:\u001b[0m\u001b[0;34m\u001b[0m\u001b[0;34m\u001b[0m\u001b[0m\n\u001b[0;32m---> 57\u001b[0;31m                 \u001b[0mself\u001b[0m\u001b[0;34m.\u001b[0m\u001b[0minit_run\u001b[0m\u001b[0;34m(\u001b[0m\u001b[0mx0\u001b[0m\u001b[0;34m)\u001b[0m\u001b[0;34m\u001b[0m\u001b[0;34m\u001b[0m\u001b[0m\n\u001b[0m\u001b[1;32m     58\u001b[0m                 \u001b[0mself\u001b[0m\u001b[0;34m.\u001b[0m\u001b[0minitialized\u001b[0m \u001b[0;34m=\u001b[0m \u001b[0;32mTrue\u001b[0m\u001b[0;34m\u001b[0m\u001b[0;34m\u001b[0m\u001b[0m\n\u001b[1;32m     59\u001b[0m \u001b[0;34m\u001b[0m\u001b[0m\n",
      "\u001b[0;32m<ipython-input-10-0d74d9636332>\u001b[0m in \u001b[0;36minit_run\u001b[0;34m(self, *args, **kwargs)\u001b[0m\n\u001b[1;32m     65\u001b[0m             \u001b[0mself\u001b[0m\u001b[0;34m.\u001b[0m\u001b[0mworkers\u001b[0m \u001b[0;34m=\u001b[0m \u001b[0;34m[\u001b[0m\u001b[0mWorker\u001b[0m\u001b[0;34m.\u001b[0m\u001b[0mremote\u001b[0m\u001b[0;34m(\u001b[0m\u001b[0mshuffle\u001b[0m\u001b[0;34m=\u001b[0m\u001b[0;32mFalse\u001b[0m\u001b[0;34m,\u001b[0m \u001b[0mloss\u001b[0m\u001b[0;34m=\u001b[0m\u001b[0mloss_id\u001b[0m\u001b[0;34m,\u001b[0m \u001b[0mit_local\u001b[0m\u001b[0;34m=\u001b[0m\u001b[0mself\u001b[0m\u001b[0;34m.\u001b[0m\u001b[0mit_local\u001b[0m\u001b[0;34m,\u001b[0m \u001b[0mbatch_size\u001b[0m\u001b[0;34m=\u001b[0m\u001b[0mself\u001b[0m\u001b[0;34m.\u001b[0m\u001b[0mbatch_size\u001b[0m\u001b[0;34m)\u001b[0m \u001b[0;32mfor\u001b[0m \u001b[0m_\u001b[0m \u001b[0;32min\u001b[0m \u001b[0mrange\u001b[0m\u001b[0;34m(\u001b[0m\u001b[0mself\u001b[0m\u001b[0;34m.\u001b[0m\u001b[0mn_workers\u001b[0m\u001b[0;34m)\u001b[0m\u001b[0;34m]\u001b[0m\u001b[0;34m\u001b[0m\u001b[0;34m\u001b[0m\u001b[0m\n\u001b[1;32m     66\u001b[0m         \u001b[0;32melse\u001b[0m\u001b[0;34m:\u001b[0m\u001b[0;34m\u001b[0m\u001b[0;34m\u001b[0m\u001b[0m\n\u001b[0;32m---> 67\u001b[0;31m             \u001b[0mloss_ids\u001b[0m \u001b[0;34m=\u001b[0m \u001b[0;34m[\u001b[0m\u001b[0mray\u001b[0m\u001b[0;34m.\u001b[0m\u001b[0mput\u001b[0m\u001b[0;34m(\u001b[0m\u001b[0mself\u001b[0m\u001b[0;34m.\u001b[0m\u001b[0mlosses\u001b[0m\u001b[0;34m[\u001b[0m\u001b[0mi\u001b[0m\u001b[0;34m]\u001b[0m\u001b[0;34m)\u001b[0m \u001b[0;32mfor\u001b[0m \u001b[0mi\u001b[0m \u001b[0;32min\u001b[0m \u001b[0mrange\u001b[0m\u001b[0;34m(\u001b[0m\u001b[0mself\u001b[0m\u001b[0;34m.\u001b[0m\u001b[0mn_workers\u001b[0m\u001b[0;34m)\u001b[0m\u001b[0;34m]\u001b[0m\u001b[0;34m\u001b[0m\u001b[0;34m\u001b[0m\u001b[0m\n\u001b[0m\u001b[1;32m     68\u001b[0m             \u001b[0mself\u001b[0m\u001b[0;34m.\u001b[0m\u001b[0mworkers\u001b[0m \u001b[0;34m=\u001b[0m \u001b[0;34m[\u001b[0m\u001b[0mWorker\u001b[0m\u001b[0;34m.\u001b[0m\u001b[0mremote\u001b[0m\u001b[0;34m(\u001b[0m\u001b[0mshuffle\u001b[0m\u001b[0;34m=\u001b[0m\u001b[0;32mFalse\u001b[0m\u001b[0;34m,\u001b[0m \u001b[0mloss\u001b[0m\u001b[0;34m=\u001b[0m\u001b[0mloss\u001b[0m\u001b[0;34m,\u001b[0m \u001b[0mit_local\u001b[0m\u001b[0;34m=\u001b[0m\u001b[0mself\u001b[0m\u001b[0;34m.\u001b[0m\u001b[0mit_local\u001b[0m\u001b[0;34m,\u001b[0m \u001b[0mbatch_size\u001b[0m\u001b[0;34m=\u001b[0m\u001b[0mself\u001b[0m\u001b[0;34m.\u001b[0m\u001b[0mbatch_size\u001b[0m\u001b[0;34m)\u001b[0m \u001b[0;32mfor\u001b[0m \u001b[0mloss\u001b[0m \u001b[0;32min\u001b[0m \u001b[0mloss_ids\u001b[0m\u001b[0;34m]\u001b[0m\u001b[0;34m\u001b[0m\u001b[0;34m\u001b[0m\u001b[0m\n\u001b[1;32m     69\u001b[0m \u001b[0;34m\u001b[0m\u001b[0m\n",
      "\u001b[0;32m<ipython-input-10-0d74d9636332>\u001b[0m in \u001b[0;36m<listcomp>\u001b[0;34m(.0)\u001b[0m\n\u001b[1;32m     65\u001b[0m             \u001b[0mself\u001b[0m\u001b[0;34m.\u001b[0m\u001b[0mworkers\u001b[0m \u001b[0;34m=\u001b[0m \u001b[0;34m[\u001b[0m\u001b[0mWorker\u001b[0m\u001b[0;34m.\u001b[0m\u001b[0mremote\u001b[0m\u001b[0;34m(\u001b[0m\u001b[0mshuffle\u001b[0m\u001b[0;34m=\u001b[0m\u001b[0;32mFalse\u001b[0m\u001b[0;34m,\u001b[0m \u001b[0mloss\u001b[0m\u001b[0;34m=\u001b[0m\u001b[0mloss_id\u001b[0m\u001b[0;34m,\u001b[0m \u001b[0mit_local\u001b[0m\u001b[0;34m=\u001b[0m\u001b[0mself\u001b[0m\u001b[0;34m.\u001b[0m\u001b[0mit_local\u001b[0m\u001b[0;34m,\u001b[0m \u001b[0mbatch_size\u001b[0m\u001b[0;34m=\u001b[0m\u001b[0mself\u001b[0m\u001b[0;34m.\u001b[0m\u001b[0mbatch_size\u001b[0m\u001b[0;34m)\u001b[0m \u001b[0;32mfor\u001b[0m \u001b[0m_\u001b[0m \u001b[0;32min\u001b[0m \u001b[0mrange\u001b[0m\u001b[0;34m(\u001b[0m\u001b[0mself\u001b[0m\u001b[0;34m.\u001b[0m\u001b[0mn_workers\u001b[0m\u001b[0;34m)\u001b[0m\u001b[0;34m]\u001b[0m\u001b[0;34m\u001b[0m\u001b[0;34m\u001b[0m\u001b[0m\n\u001b[1;32m     66\u001b[0m         \u001b[0;32melse\u001b[0m\u001b[0;34m:\u001b[0m\u001b[0;34m\u001b[0m\u001b[0;34m\u001b[0m\u001b[0m\n\u001b[0;32m---> 67\u001b[0;31m             \u001b[0mloss_ids\u001b[0m \u001b[0;34m=\u001b[0m \u001b[0;34m[\u001b[0m\u001b[0mray\u001b[0m\u001b[0;34m.\u001b[0m\u001b[0mput\u001b[0m\u001b[0;34m(\u001b[0m\u001b[0mself\u001b[0m\u001b[0;34m.\u001b[0m\u001b[0mlosses\u001b[0m\u001b[0;34m[\u001b[0m\u001b[0mi\u001b[0m\u001b[0;34m]\u001b[0m\u001b[0;34m)\u001b[0m \u001b[0;32mfor\u001b[0m \u001b[0mi\u001b[0m \u001b[0;32min\u001b[0m \u001b[0mrange\u001b[0m\u001b[0;34m(\u001b[0m\u001b[0mself\u001b[0m\u001b[0;34m.\u001b[0m\u001b[0mn_workers\u001b[0m\u001b[0;34m)\u001b[0m\u001b[0;34m]\u001b[0m\u001b[0;34m\u001b[0m\u001b[0;34m\u001b[0m\u001b[0m\n\u001b[0m\u001b[1;32m     68\u001b[0m             \u001b[0mself\u001b[0m\u001b[0;34m.\u001b[0m\u001b[0mworkers\u001b[0m \u001b[0;34m=\u001b[0m \u001b[0;34m[\u001b[0m\u001b[0mWorker\u001b[0m\u001b[0;34m.\u001b[0m\u001b[0mremote\u001b[0m\u001b[0;34m(\u001b[0m\u001b[0mshuffle\u001b[0m\u001b[0;34m=\u001b[0m\u001b[0;32mFalse\u001b[0m\u001b[0;34m,\u001b[0m \u001b[0mloss\u001b[0m\u001b[0;34m=\u001b[0m\u001b[0mloss\u001b[0m\u001b[0;34m,\u001b[0m \u001b[0mit_local\u001b[0m\u001b[0;34m=\u001b[0m\u001b[0mself\u001b[0m\u001b[0;34m.\u001b[0m\u001b[0mit_local\u001b[0m\u001b[0;34m,\u001b[0m \u001b[0mbatch_size\u001b[0m\u001b[0;34m=\u001b[0m\u001b[0mself\u001b[0m\u001b[0;34m.\u001b[0m\u001b[0mbatch_size\u001b[0m\u001b[0;34m)\u001b[0m \u001b[0;32mfor\u001b[0m \u001b[0mloss\u001b[0m \u001b[0;32min\u001b[0m \u001b[0mloss_ids\u001b[0m\u001b[0;34m]\u001b[0m\u001b[0;34m\u001b[0m\u001b[0;34m\u001b[0m\u001b[0m\n\u001b[1;32m     69\u001b[0m \u001b[0;34m\u001b[0m\u001b[0m\n",
      "\u001b[0;32m/usr/local/lib/python3.7/dist-packages/ray/_private/client_mode_hook.py\u001b[0m in \u001b[0;36mwrapper\u001b[0;34m(*args, **kwargs)\u001b[0m\n\u001b[1;32m     98\u001b[0m     \u001b[0;34m@\u001b[0m\u001b[0mwraps\u001b[0m\u001b[0;34m(\u001b[0m\u001b[0mfunc\u001b[0m\u001b[0;34m)\u001b[0m\u001b[0;34m\u001b[0m\u001b[0;34m\u001b[0m\u001b[0m\n\u001b[1;32m     99\u001b[0m     \u001b[0;32mdef\u001b[0m \u001b[0mwrapper\u001b[0m\u001b[0;34m(\u001b[0m\u001b[0;34m*\u001b[0m\u001b[0margs\u001b[0m\u001b[0;34m,\u001b[0m \u001b[0;34m**\u001b[0m\u001b[0mkwargs\u001b[0m\u001b[0;34m)\u001b[0m\u001b[0;34m:\u001b[0m\u001b[0;34m\u001b[0m\u001b[0;34m\u001b[0m\u001b[0m\n\u001b[0;32m--> 100\u001b[0;31m         \u001b[0;32mif\u001b[0m \u001b[0mclient_mode_should_convert\u001b[0m\u001b[0;34m(\u001b[0m\u001b[0mauto_init\u001b[0m\u001b[0;34m=\u001b[0m\u001b[0mauto_init\u001b[0m\u001b[0;34m)\u001b[0m\u001b[0;34m:\u001b[0m\u001b[0;34m\u001b[0m\u001b[0;34m\u001b[0m\u001b[0m\n\u001b[0m\u001b[1;32m    101\u001b[0m             \u001b[0;31m# Legacy code\u001b[0m\u001b[0;34m\u001b[0m\u001b[0;34m\u001b[0m\u001b[0;34m\u001b[0m\u001b[0m\n\u001b[1;32m    102\u001b[0m             \u001b[0;31m# we only convert init function if RAY_CLIENT_MODE=1\u001b[0m\u001b[0;34m\u001b[0m\u001b[0;34m\u001b[0m\u001b[0;34m\u001b[0m\u001b[0m\n",
      "\u001b[0;32m/usr/local/lib/python3.7/dist-packages/ray/_private/client_mode_hook.py\u001b[0m in \u001b[0;36mclient_mode_should_convert\u001b[0;34m(auto_init)\u001b[0m\n\u001b[1;32m    122\u001b[0m             \u001b[0;32mand\u001b[0m \u001b[0;32mnot\u001b[0m \u001b[0mray\u001b[0m\u001b[0;34m.\u001b[0m\u001b[0mis_initialized\u001b[0m\u001b[0;34m(\u001b[0m\u001b[0;34m)\u001b[0m\u001b[0;34m\u001b[0m\u001b[0;34m\u001b[0m\u001b[0m\n\u001b[1;32m    123\u001b[0m         ):\n\u001b[0;32m--> 124\u001b[0;31m             \u001b[0mray\u001b[0m\u001b[0;34m.\u001b[0m\u001b[0minit\u001b[0m\u001b[0;34m(\u001b[0m\u001b[0;34m)\u001b[0m\u001b[0;34m\u001b[0m\u001b[0;34m\u001b[0m\u001b[0m\n\u001b[0m\u001b[1;32m    125\u001b[0m \u001b[0;34m\u001b[0m\u001b[0m\n\u001b[1;32m    126\u001b[0m     \u001b[0;31m# `is_client_mode_enabled_by_default` is used for testing with\u001b[0m\u001b[0;34m\u001b[0m\u001b[0;34m\u001b[0m\u001b[0;34m\u001b[0m\u001b[0m\n",
      "\u001b[0;32m/usr/local/lib/python3.7/dist-packages/ray/_private/client_mode_hook.py\u001b[0m in \u001b[0;36mwrapper\u001b[0;34m(*args, **kwargs)\u001b[0m\n\u001b[1;32m    103\u001b[0m             \u001b[0;32mif\u001b[0m \u001b[0mfunc\u001b[0m\u001b[0;34m.\u001b[0m\u001b[0m__name__\u001b[0m \u001b[0;34m!=\u001b[0m \u001b[0;34m\"init\"\u001b[0m \u001b[0;32mor\u001b[0m \u001b[0mis_client_mode_enabled_by_default\u001b[0m\u001b[0;34m:\u001b[0m\u001b[0;34m\u001b[0m\u001b[0;34m\u001b[0m\u001b[0m\n\u001b[1;32m    104\u001b[0m                 \u001b[0;32mreturn\u001b[0m \u001b[0mgetattr\u001b[0m\u001b[0;34m(\u001b[0m\u001b[0mray\u001b[0m\u001b[0;34m,\u001b[0m \u001b[0mfunc\u001b[0m\u001b[0;34m.\u001b[0m\u001b[0m__name__\u001b[0m\u001b[0;34m)\u001b[0m\u001b[0;34m(\u001b[0m\u001b[0;34m*\u001b[0m\u001b[0margs\u001b[0m\u001b[0;34m,\u001b[0m \u001b[0;34m**\u001b[0m\u001b[0mkwargs\u001b[0m\u001b[0;34m)\u001b[0m\u001b[0;34m\u001b[0m\u001b[0;34m\u001b[0m\u001b[0m\n\u001b[0;32m--> 105\u001b[0;31m         \u001b[0;32mreturn\u001b[0m \u001b[0mfunc\u001b[0m\u001b[0;34m(\u001b[0m\u001b[0;34m*\u001b[0m\u001b[0margs\u001b[0m\u001b[0;34m,\u001b[0m \u001b[0;34m**\u001b[0m\u001b[0mkwargs\u001b[0m\u001b[0;34m)\u001b[0m\u001b[0;34m\u001b[0m\u001b[0;34m\u001b[0m\u001b[0m\n\u001b[0m\u001b[1;32m    106\u001b[0m \u001b[0;34m\u001b[0m\u001b[0m\n\u001b[1;32m    107\u001b[0m     \u001b[0;32mreturn\u001b[0m \u001b[0mwrapper\u001b[0m\u001b[0;34m\u001b[0m\u001b[0;34m\u001b[0m\u001b[0m\n",
      "\u001b[0;32m/usr/local/lib/python3.7/dist-packages/ray/worker.py\u001b[0m in \u001b[0;36minit\u001b[0;34m(address, num_cpus, num_gpus, resources, object_store_memory, local_mode, ignore_reinit_error, include_dashboard, dashboard_host, dashboard_port, job_config, configure_logging, logging_level, logging_format, log_to_driver, namespace, runtime_env, storage, _enable_object_reconstruction, _redis_max_memory, _plasma_directory, _node_ip_address, _driver_object_store_memory, _memory, _redis_password, _temp_dir, _metrics_export_port, _system_config, _tracing_startup_hook, **kwargs)\u001b[0m\n\u001b[1;32m   1021\u001b[0m         \u001b[0;31m# isn't called.\u001b[0m\u001b[0;34m\u001b[0m\u001b[0;34m\u001b[0m\u001b[0;34m\u001b[0m\u001b[0m\n\u001b[1;32m   1022\u001b[0m         _global_node = ray.node.Node(\n\u001b[0;32m-> 1023\u001b[0;31m             \u001b[0mhead\u001b[0m\u001b[0;34m=\u001b[0m\u001b[0;32mTrue\u001b[0m\u001b[0;34m,\u001b[0m \u001b[0mshutdown_at_exit\u001b[0m\u001b[0;34m=\u001b[0m\u001b[0;32mFalse\u001b[0m\u001b[0;34m,\u001b[0m \u001b[0mspawn_reaper\u001b[0m\u001b[0;34m=\u001b[0m\u001b[0;32mTrue\u001b[0m\u001b[0;34m,\u001b[0m \u001b[0mray_params\u001b[0m\u001b[0;34m=\u001b[0m\u001b[0mray_params\u001b[0m\u001b[0;34m\u001b[0m\u001b[0;34m\u001b[0m\u001b[0m\n\u001b[0m\u001b[1;32m   1024\u001b[0m         )\n\u001b[1;32m   1025\u001b[0m     \u001b[0;32melse\u001b[0m\u001b[0;34m:\u001b[0m\u001b[0;34m\u001b[0m\u001b[0;34m\u001b[0m\u001b[0m\n",
      "\u001b[0;32m/usr/local/lib/python3.7/dist-packages/ray/node.py\u001b[0m in \u001b[0;36m__init__\u001b[0;34m(self, ray_params, head, shutdown_at_exit, spawn_reaper, connect_only)\u001b[0m\n\u001b[1;32m    299\u001b[0m \u001b[0;34m\u001b[0m\u001b[0m\n\u001b[1;32m    300\u001b[0m         \u001b[0;32mif\u001b[0m \u001b[0;32mnot\u001b[0m \u001b[0mconnect_only\u001b[0m\u001b[0;34m:\u001b[0m\u001b[0;34m\u001b[0m\u001b[0;34m\u001b[0m\u001b[0m\n\u001b[0;32m--> 301\u001b[0;31m             \u001b[0mself\u001b[0m\u001b[0;34m.\u001b[0m\u001b[0mstart_ray_processes\u001b[0m\u001b[0;34m(\u001b[0m\u001b[0;34m)\u001b[0m\u001b[0;34m\u001b[0m\u001b[0;34m\u001b[0m\u001b[0m\n\u001b[0m\u001b[1;32m    302\u001b[0m             \u001b[0;31m# we should update the address info after the node has been started\u001b[0m\u001b[0;34m\u001b[0m\u001b[0;34m\u001b[0m\u001b[0;34m\u001b[0m\u001b[0m\n\u001b[1;32m    303\u001b[0m             \u001b[0;32mtry\u001b[0m\u001b[0;34m:\u001b[0m\u001b[0;34m\u001b[0m\u001b[0;34m\u001b[0m\u001b[0m\n",
      "\u001b[0;32m/usr/local/lib/python3.7/dist-packages/ray/node.py\u001b[0m in \u001b[0;36mstart_ray_processes\u001b[0;34m(self)\u001b[0m\n\u001b[1;32m   1128\u001b[0m         \u001b[0;31m# Make sure we don't call `determine_plasma_store_config` multiple\u001b[0m\u001b[0;34m\u001b[0m\u001b[0;34m\u001b[0m\u001b[0;34m\u001b[0m\u001b[0m\n\u001b[1;32m   1129\u001b[0m         \u001b[0;31m# times to avoid printing multiple warnings.\u001b[0m\u001b[0;34m\u001b[0m\u001b[0;34m\u001b[0m\u001b[0;34m\u001b[0m\u001b[0m\n\u001b[0;32m-> 1130\u001b[0;31m         \u001b[0mresource_spec\u001b[0m \u001b[0;34m=\u001b[0m \u001b[0mself\u001b[0m\u001b[0;34m.\u001b[0m\u001b[0mget_resource_spec\u001b[0m\u001b[0;34m(\u001b[0m\u001b[0;34m)\u001b[0m\u001b[0;34m\u001b[0m\u001b[0;34m\u001b[0m\u001b[0m\n\u001b[0m\u001b[1;32m   1131\u001b[0m         (\n\u001b[1;32m   1132\u001b[0m             \u001b[0mplasma_directory\u001b[0m\u001b[0;34m,\u001b[0m\u001b[0;34m\u001b[0m\u001b[0;34m\u001b[0m\u001b[0m\n",
      "\u001b[0;32m/usr/local/lib/python3.7/dist-packages/ray/node.py\u001b[0m in \u001b[0;36mget_resource_spec\u001b[0;34m(self)\u001b[0m\n\u001b[1;32m    479\u001b[0m                 \u001b[0mresources\u001b[0m\u001b[0;34m,\u001b[0m\u001b[0;34m\u001b[0m\u001b[0;34m\u001b[0m\u001b[0m\n\u001b[1;32m    480\u001b[0m                 \u001b[0mself\u001b[0m\u001b[0;34m.\u001b[0m\u001b[0m_ray_params\u001b[0m\u001b[0;34m.\u001b[0m\u001b[0mredis_max_memory\u001b[0m\u001b[0;34m,\u001b[0m\u001b[0;34m\u001b[0m\u001b[0;34m\u001b[0m\u001b[0m\n\u001b[0;32m--> 481\u001b[0;31m             ).resolve(is_head=self.head, node_ip_address=self.node_ip_address)\n\u001b[0m\u001b[1;32m    482\u001b[0m         \u001b[0;32mreturn\u001b[0m \u001b[0mself\u001b[0m\u001b[0;34m.\u001b[0m\u001b[0m_resource_spec\u001b[0m\u001b[0;34m\u001b[0m\u001b[0;34m\u001b[0m\u001b[0m\n\u001b[1;32m    483\u001b[0m \u001b[0;34m\u001b[0m\u001b[0m\n",
      "\u001b[0;32m/usr/local/lib/python3.7/dist-packages/ray/_private/resource_spec.py\u001b[0m in \u001b[0;36mresolve\u001b[0;34m(self, is_head, node_ip_address)\u001b[0m\n\u001b[1;32m    195\u001b[0m \u001b[0;34m\u001b[0m\u001b[0m\n\u001b[1;32m    196\u001b[0m         \u001b[0;31m# Choose a default object store size.\u001b[0m\u001b[0;34m\u001b[0m\u001b[0;34m\u001b[0m\u001b[0;34m\u001b[0m\u001b[0m\n\u001b[0;32m--> 197\u001b[0;31m         \u001b[0msystem_memory\u001b[0m \u001b[0;34m=\u001b[0m \u001b[0mray\u001b[0m\u001b[0;34m.\u001b[0m\u001b[0m_private\u001b[0m\u001b[0;34m.\u001b[0m\u001b[0mutils\u001b[0m\u001b[0;34m.\u001b[0m\u001b[0mget_system_memory\u001b[0m\u001b[0;34m(\u001b[0m\u001b[0;34m)\u001b[0m\u001b[0;34m\u001b[0m\u001b[0;34m\u001b[0m\u001b[0m\n\u001b[0m\u001b[1;32m    198\u001b[0m         \u001b[0mavail_memory\u001b[0m \u001b[0;34m=\u001b[0m \u001b[0mray\u001b[0m\u001b[0;34m.\u001b[0m\u001b[0m_private\u001b[0m\u001b[0;34m.\u001b[0m\u001b[0mutils\u001b[0m\u001b[0;34m.\u001b[0m\u001b[0mestimate_available_memory\u001b[0m\u001b[0;34m(\u001b[0m\u001b[0;34m)\u001b[0m\u001b[0;34m\u001b[0m\u001b[0;34m\u001b[0m\u001b[0m\n\u001b[1;32m    199\u001b[0m         \u001b[0mobject_store_memory\u001b[0m \u001b[0;34m=\u001b[0m \u001b[0mself\u001b[0m\u001b[0;34m.\u001b[0m\u001b[0mobject_store_memory\u001b[0m\u001b[0;34m\u001b[0m\u001b[0;34m\u001b[0m\u001b[0m\n",
      "\u001b[0;32m/usr/local/lib/python3.7/dist-packages/ray/_private/utils.py\u001b[0m in \u001b[0;36mget_system_memory\u001b[0;34m()\u001b[0m\n\u001b[1;32m    434\u001b[0m     \u001b[0;32melif\u001b[0m \u001b[0mos\u001b[0m\u001b[0;34m.\u001b[0m\u001b[0mpath\u001b[0m\u001b[0;34m.\u001b[0m\u001b[0mexists\u001b[0m\u001b[0;34m(\u001b[0m\u001b[0mmemory_limit_filename_v2\u001b[0m\u001b[0;34m)\u001b[0m\u001b[0;34m:\u001b[0m\u001b[0;34m\u001b[0m\u001b[0;34m\u001b[0m\u001b[0m\n\u001b[1;32m    435\u001b[0m         \u001b[0;32mwith\u001b[0m \u001b[0mopen\u001b[0m\u001b[0;34m(\u001b[0m\u001b[0mmemory_limit_filename_v2\u001b[0m\u001b[0;34m,\u001b[0m \u001b[0;34m\"r\"\u001b[0m\u001b[0;34m)\u001b[0m \u001b[0;32mas\u001b[0m \u001b[0mf\u001b[0m\u001b[0;34m:\u001b[0m\u001b[0;34m\u001b[0m\u001b[0;34m\u001b[0m\u001b[0m\n\u001b[0;32m--> 436\u001b[0;31m             \u001b[0mdocker_limit\u001b[0m \u001b[0;34m=\u001b[0m \u001b[0mint\u001b[0m\u001b[0;34m(\u001b[0m\u001b[0mf\u001b[0m\u001b[0;34m.\u001b[0m\u001b[0mread\u001b[0m\u001b[0;34m(\u001b[0m\u001b[0;34m)\u001b[0m\u001b[0;34m)\u001b[0m\u001b[0;34m\u001b[0m\u001b[0;34m\u001b[0m\u001b[0m\n\u001b[0m\u001b[1;32m    437\u001b[0m \u001b[0;34m\u001b[0m\u001b[0m\n\u001b[1;32m    438\u001b[0m     \u001b[0;31m# Use psutil if it is available.\u001b[0m\u001b[0;34m\u001b[0m\u001b[0;34m\u001b[0m\u001b[0;34m\u001b[0m\u001b[0m\n",
      "\u001b[0;31mValueError\u001b[0m: invalid literal for int() with base 10: 'max\\n'"
     ]
    }
   ],
   "source": [
    "if batch_size is not None:\n",
    "    it_local = rr.steps_per_epoch\n",
    "    scah_lr0 = 1 / loss.batch_smoothness(batch_size=batch_size) / it_local\n",
    "    it_max=n*5//(batch_size*it_local)\n",
    "    scah_decay_coef = l2 / 2\n",
    "else:\n",
    "    it_local = 300 # use the value used for Local SGD\n",
    "    scah_lr0 = 1 / loss.smoothness\n",
    "    it_max = 10000 # use the value used for Local SGD\n",
    "    scah_decay_coef = 0 # no need to decrease the stepsize if full gradients are used\n",
    "scah_lr_max = scah_lr0\n",
    "scah = Scaffold(loss=loss, n_workers=n_workers, it_local=it_local, lr_max=scah_lr_max, lr0=scah_lr0, lr_decay_coef=scah_decay_coef, \n",
    "               it_start_decay=0, n_seeds=n_seeds, batch_size=batch_size, trace_len=200, iid=False, losses=losses)\n",
    "scah.run(x0=x0, it_max=it_max)\n",
    "scah.trace.compute_loss_of_iterates()\n",
    "scah.terminate_workers()"
   ]
  },
  {
   "cell_type": "markdown",
   "metadata": {
    "id": "wUvVOo2Dzyvb"
   },
   "source": [
    "## Results for theoretical stepsizes (1 / (L * H))"
   ]
  },
  {
   "cell_type": "code",
   "execution_count": null,
   "metadata": {
    "colab": {
     "base_uri": "https://localhost:8080/",
     "height": 406
    },
    "id": "bUAjyOA3zvHa",
    "outputId": "a3f3b9e3-da2f-459f-c3a4-96c1be9e0c9f"
   },
   "outputs": [
    {
     "data": {
      "text/plain": [
       "<matplotlib.legend.Legend at 0x7fc6f2299750>"
      ]
     },
     "execution_count": 31,
     "metadata": {},
     "output_type": "execute_result"
    },
    {
     "data": {
      "image/png": "[encoded data removed]",
      "text/plain": [
       "<Figure size 648x432 with 1 Axes>"
      ]
     },
     "metadata": {},
     "output_type": "display_data"
    }
   ],
   "source": [
    "sgd.trace.plot_losses(label='Local SGD', marker=',')\n",
    "scah.trace.plot_losses(label='Scaffold', marker='o')\n",
    "if batch_size is not None:\n",
    "    rr.trace.plot_losses(label='FedRR', marker='*', color='red')\n",
    "plt.yscale('log')\n",
    "plt.ylabel(r'$f(x)-f_*$')\n",
    "plt.legend()"
   ]
  },
  {
   "cell_type": "code",
   "execution_count": 15,
   "metadata": {
    "id": "nKWkvnATzu_D"
   },
   "outputs": [],
   "source": [
    "@ray.remote\n",
    "class Worker:\n",
    "    def __init__(self, shuffle=True, prox_skip=False, loss=None, it_local=None, batch_size=1):\n",
    "        self.loss = loss\n",
    "        self.shuffle = shuffle\n",
    "        self.prox_skip = prox_skip\n",
    "        self.it_local = it_local\n",
    "        self.batch_size = batch_size\n",
    "        self.c = None\n",
    "        self.h = None\n",
    "        self.rng_skip = np.random.default_rng(42) # random number generator for random synchronizations\n",
    "    \n",
    "    def run_local(self, x, lr):\n",
    "        self.x = x * 1.\n",
    "        if self.shuffle:\n",
    "            self.run_local_shuffle(lr)\n",
    "        elif self.prox_skip:\n",
    "            self.run_prox_skip(lr)\n",
    "        else:\n",
    "            self.run_local_sgd(lr)\n",
    "        return self.x\n",
    "    \n",
    "    def run_local_shuffle(self, lr):\n",
    "        permutation = np.random.permutation(self.loss.n)\n",
    "        i = 0\n",
    "        while i < self.loss.n:\n",
    "            i_max = min(self.loss.n, i + self.batch_size)\n",
    "            idx = permutation[i:i_max]\n",
    "            self.x -= lr * self.loss.stochastic_gradient(self.x, idx=idx)\n",
    "            i += self.batch_size\n",
    "    \n",
    "    def run_local_sgd(self, lr):\n",
    "        for i in range(self.it_local):\n",
    "            if self.batch_size is None:\n",
    "                self.x -= lr * self.loss.gradient(self.x)\n",
    "            else:\n",
    "                self.x -= lr * self.loss.stochastic_gradient(self.x, batch_size=self.batch_size)\n",
    "    \n",
    "    def run_scaffold(self, x, lr, c):\n",
    "        # as in the original scaffold paper, we use their Option II\n",
    "        self.x = x * 1.\n",
    "        if self.c is None:\n",
    "            self.c = self.x * 0. #initialize zero vector of the same dimension\n",
    "        for i in range(self.it_local):\n",
    "            if self.batch_size is None:\n",
    "                g = self.loss.gradient(self.x)\n",
    "            else:\n",
    "                g = self.loss.stochastic_gradient(self.x, batch_size=self.batch_size)\n",
    "            self.x -= lr * (g - self.c + c)\n",
    "        self.c += 1 / (self.it_local * lr) * (x - self.x) - c\n",
    "        return self.x\n",
    "\n",
    "    def run_prox_skip(self, lr):\n",
    "        p = 1 / self.it_local\n",
    "        if self.h is None:\n",
    "            # first iteration\n",
    "            self.h = self.x * 0. # initialize zero vector of the same dimension\n",
    "        else:\n",
    "            # update the gradient estimate \n",
    "            self.h += p / lr * (self.x - self.x_before_averaing)\n",
    "        it_local = self.rng_skip.geometric(p=p) # since all workers use the same random seed, this number is the same for all of them\n",
    "\n",
    "        for i in range(it_local):\n",
    "            if self.batch_size is None:\n",
    "                g = self.loss.gradient(self.x)\n",
    "            else:\n",
    "                g = self.loss.stochastic_gradient(self.x, batch_size=self.batch_size)\n",
    "            self.x -= lr * (g - self.h)\n",
    "        self.x_before_averaing = self.x * 1.\n",
    "\n",
    "    def run_fedlin(self, x, lr, g):\n",
    "        self.x = x * 1.\n",
    "        for i in range(self.it_local):\n",
    "            if self.batch_size is None:\n",
    "                grad = self.loss.gradient(self.x)\n",
    "            else:\n",
    "                grad = self.loss.stochastic_gradient(self.x, batch_size=self.batch_size)\n",
    "            self.x -= lr * (grad - self.g + g)\n",
    "        return self.x\n",
    "    \n",
    "    def get_control_var(self):\n",
    "        return self.c\n",
    "    \n",
    "    def get_fedlin_grad(self, x):\n",
    "        if self.batch_size is None:\n",
    "            self.g = self.loss.gradient(x)\n",
    "        else:\n",
    "            self.g = self.loss.stochastic_gradient(x, batch_size=self.batch_size)\n",
    "        return self.g"
   ]
  },
  {
   "cell_type": "code",
   "execution_count": 15,
   "metadata": {
    "id": "ht76OAyxO6uw"
   },
   "outputs": [],
   "source": [
    "class ProxSkip(StochasticOptimizer):\n",
    "    \"\"\"\n",
    "    Stochastic gradient descent with decreasing or constant learning rate.\n",
    "    \n",
    "    Arguments:\n",
    "        lr (float, optional): an estimate of the inverse smoothness constant\n",
    "        lr_decay_coef (float, optional): the coefficient in front of the number of finished iterations\n",
    "            in the denominator of step-size. For strongly convex problems, a good value\n",
    "            is mu/2, where mu is the strong convexity constant\n",
    "        lr_decay_power (float, optional): the power to exponentiate the number of finished iterations\n",
    "            in the denominator of step-size. For strongly convex problems, a good value is 1 (default: 1)\n",
    "        it_start_decay (int, optional): how many iterations the step-size is kept constant\n",
    "            By default, will be set to have about 2.5% of iterations with the step-size equal to lr0\n",
    "        batch_size (int, optional): the number of samples from the function to be used at each iteration\n",
    "    \"\"\"\n",
    "    def __init__(self, it_local, n_workers=None, cohort_size=None, iid=False, lr0=None, lr_max=np.inf, lr_decay_coef=0,\n",
    "                 lr_decay_power=1, it_start_decay=None, batch_size=1, losses=None, *args, **kwargs):\n",
    "        super(ProxSkip, self).__init__(*args, **kwargs)\n",
    "        self.it_local = it_local\n",
    "        if n_workers is None:\n",
    "            n_workers = psutil.cpu_count(logical=False)\n",
    "        if cohort_size is None:\n",
    "            cohort_size = n_workers\n",
    "        self.n_workers = n_workers\n",
    "        self.cohort_size = cohort_size\n",
    "        self.iid = iid\n",
    "        self.lr0 = lr0\n",
    "        self.lr_max = lr_max\n",
    "        self.lr_decay_coef = lr_decay_coef\n",
    "        self.lr_decay_power = lr_decay_power\n",
    "        self.it_start_decay = it_start_decay\n",
    "        self.batch_size = batch_size\n",
    "        self.losses = losses\n",
    "        \n",
    "    def step(self):\n",
    "        denom_const = 1 / self.lr0\n",
    "        lr_decayed = 1 / (denom_const + self.it_local*self.lr_decay_coef*max(0, self.it-self.it_start_decay)**self.lr_decay_power)\n",
    "        if lr_decayed < 0:\n",
    "            lr_decayed = np.inf\n",
    "        self.lr = min(lr_decayed, self.lr_max)\n",
    "        x_id = ray.put(self.x)\n",
    "        \n",
    "        if self.cohort_size == self.n_workers:\n",
    "            self.x = np.mean(ray.get([worker.run_local.remote(x_id, self.lr) for worker in self.workers]), axis=0)\n",
    "        else:\n",
    "            cohort = np.random.choice(self.n_workers, self.cohort_size, replace=False)\n",
    "            self.x = np.mean(ray.get([self.workers[i].run_local.remote(x_id, self.lr) for i in cohort]), axis=0)\n",
    "    \n",
    "    def init_run(self, *args, **kwargs):\n",
    "        super(ProxSkip, self).init_run(*args, **kwargs)\n",
    "        if self.it_start_decay is None and np.isfinite(self.it_max):\n",
    "            self.it_start_decay = self.it_max // 40 if np.isfinite(self.it_max) else 0\n",
    "        if self.lr0 is None:\n",
    "            self.lr0 = 1 / self.loss.batch_smoothness(batch_size)\n",
    "        if self.iid:\n",
    "            loss_id = ray.put(self.loss)\n",
    "            self.workers = [Worker.remote(shuffle=False, prox_skip=True, loss=loss_id, it_local=self.it_local, batch_size=self.batch_size) for _ in range(self.n_workers)]\n",
    "        else:\n",
    "            loss_ids = [ray.put(self.losses[i]) for i in range(self.n_workers)]\n",
    "            self.workers = [Worker.remote(shuffle=False, prox_skip=True, loss=loss, it_local=self.it_local, batch_size=self.batch_size) for loss in loss_ids]\n",
    "        \n",
    "    def update_trace(self, first_iterations=10):\n",
    "        super(ProxSkip, self).update_trace()\n",
    "        \n",
    "    def terminate_workers(self):\n",
    "        for worker in self.workers:\n",
    "            ray.kill(worker)"
   ]
  },
  {
   "cell_type": "code",
   "execution_count": 16,
   "metadata": {
    "id": "2KlovjSxKPGA"
   },
   "outputs": [
    {
     "ename": "NameError",
     "evalue": "name 'it_local' is not defined",
     "output_type": "error",
     "traceback": [
      "\u001b[0;31m---------------------------------------------------------------------------\u001b[0m",
      "\u001b[0;31mNameError\u001b[0m                                 Traceback (most recent call last)",
      "\u001b[0;32m<ipython-input-16-bba1543197b8>\u001b[0m in \u001b[0;36m<module>\u001b[0;34m\u001b[0m\n\u001b[1;32m      5\u001b[0m     \u001b[0mskip_decay_coef\u001b[0m \u001b[0;34m=\u001b[0m \u001b[0ml2\u001b[0m \u001b[0;34m/\u001b[0m \u001b[0;36m2\u001b[0m\u001b[0;34m\u001b[0m\u001b[0;34m\u001b[0m\u001b[0m\n\u001b[1;32m      6\u001b[0m \u001b[0;32melse\u001b[0m\u001b[0;34m:\u001b[0m\u001b[0;34m\u001b[0m\u001b[0;34m\u001b[0m\u001b[0m\n\u001b[0;32m----> 7\u001b[0;31m     \u001b[0mit_local\u001b[0m \u001b[0;34m=\u001b[0m \u001b[0mit_local\u001b[0m \u001b[0;31m# same as for other methods\u001b[0m\u001b[0;34m\u001b[0m\u001b[0;34m\u001b[0m\u001b[0m\n\u001b[0m\u001b[1;32m      8\u001b[0m     \u001b[0mskip_lr0\u001b[0m \u001b[0;34m=\u001b[0m \u001b[0;36m1\u001b[0m \u001b[0;34m/\u001b[0m \u001b[0mloss\u001b[0m\u001b[0;34m.\u001b[0m\u001b[0msmoothness\u001b[0m\u001b[0;34m\u001b[0m\u001b[0;34m\u001b[0m\u001b[0m\n\u001b[1;32m      9\u001b[0m     \u001b[0mit_max\u001b[0m \u001b[0;34m=\u001b[0m \u001b[0mit_max\u001b[0m \u001b[0;31m# same as before\u001b[0m\u001b[0;34m\u001b[0m\u001b[0;34m\u001b[0m\u001b[0m\n",
      "\u001b[0;31mNameError\u001b[0m: name 'it_local' is not defined"
     ]
    }
   ],
   "source": [
    "if batch_size is not None:\n",
    "    it_local = (n-1) // batch_size + 1\n",
    "    skip_lr0 = 1 / loss.batch_smoothness(batch_size=batch_size) / it_local\n",
    "    it_max = n*5//(batch_size*it_local)\n",
    "    skip_decay_coef = l2 / 2\n",
    "else:\n",
    "    it_local = it_local # same as for other methods\n",
    "    skip_lr0 = 1 / loss.smoothness\n",
    "    it_max = it_max # same as before\n",
    "    skip_decay_coef = 0. # With full gradients, we don't need to decrease the stepsize\n",
    "\n",
    "skip_lr_max = skip_lr0\n",
    "skip = ProxSkip(loss=loss, n_workers=n_workers, cohort_size=cohort_size, it_local=it_local, \n",
    "               lr_max=skip_lr_max, lr0=skip_lr0, lr_decay_coef=skip_decay_coef, \n",
    "               it_start_decay=0, n_seeds=n_seeds, batch_size=batch_size, trace_len=200, iid=False, losses=losses)\n",
    "skip.run(x0=x0, it_max=it_max)\n",
    "# sgd.trace.convert_its_to_epochs(batch_size=batch_size*it_local)\n",
    "skip.trace.compute_loss_of_iterates()\n",
    "skip.terminate_workers()"
   ]
  },
  {
   "cell_type": "code",
   "execution_count": null,
   "metadata": {
    "id": "5Xy0Z_z5oxFc"
   },
   "outputs": [],
   "source": [
    "if batch_size is not None:\n",
    "    it_local = rr.steps_per_epoch\n",
    "    fedlin_lr0 = 1 / loss.batch_smoothness(batch_size=batch_size) / it_local\n",
    "    it_max=n*5//(batch_size*it_local)\n",
    "    fedlin_decay_coef = l2 / 2\n",
    "else:\n",
    "    it_local = it_local # use the value used for Local SGD\n",
    "    fedlin_lr0 = 1 / loss.smoothness\n",
    "    it_max = it_max # use the value used for Local SGD\n",
    "    fedlin_decay_coef = 0 # no need to decrease the stepsize if full gradients are used\n",
    "fedlin_lr_max = fedlin_lr0\n",
    "fedlin = Fedlin(loss=loss, n_workers=n_workers, it_local=it_local, lr_max=fedlin_lr_max, \n",
    "                lr0=fedlin_lr0, lr_decay_coef=fedlin_decay_coef, it_start_decay=0, \n",
    "                n_seeds=n_seeds, batch_size=batch_size, trace_len=200, iid=False, losses=losses)\n",
    "fedlin.run(x0=x0, it_max=it_max)\n",
    "fedlin.trace.compute_loss_of_iterates()\n",
    "fedlin.terminate_workers()"
   ]
  },
  {
   "cell_type": "code",
   "execution_count": null,
   "metadata": {
    "colab": {
     "base_uri": "https://localhost:8080/",
     "height": 406
    },
    "id": "UJU0OAkoKPAv",
    "outputId": "b391b5ab-4b42-4f7d-b72d-07d1f530b631"
   },
   "outputs": [
    {
     "data": {
      "text/plain": [
       "<matplotlib.legend.Legend at 0x7ff9f08ff990>"
      ]
     },
     "execution_count": 26,
     "metadata": {},
     "output_type": "execute_result"
    },
    {
     "data": {
      "image/png": "[encoded data removed]",
      "text/plain": [
       "<Figure size 648x432 with 1 Axes>"
      ]
     },
     "metadata": {},
     "output_type": "display_data"
    }
   ],
   "source": [
    "sgd.trace.plot_losses(label='Local GD', marker=',')\n",
    "scah.trace.plot_losses(label='Scaffold', marker='o')\n",
    "fedlin.trace.plot_losses(label='FedLin', marker='^')\n",
    "skip.trace.plot_losses(label='ProxSkip', marker='*', color='red')\n",
    "plt.yscale('log')\n",
    "plt.ylabel(r'$f(x)-f_*$')\n",
    "plt.legend()"
   ]
  },
  {
   "cell_type": "code",
   "execution_count": null,
   "metadata": {
    "colab": {
     "base_uri": "https://localhost:8080/"
    },
    "id": "01aKaofeKO56",
    "outputId": "eb8814c1-4e4f-4a1c-f180-1072ecaa674e"
   },
   "outputs": [
    {
     "data": {
      "text/plain": [
       "2.400603932609272"
      ]
     },
     "execution_count": 9,
     "metadata": {},
     "output_type": "execute_result"
    }
   ],
   "source": [
    "loss.batch_smoothness(16)"
   ]
  },
  {
   "cell_type": "code",
   "execution_count": null,
   "metadata": {
    "colab": {
     "base_uri": "https://localhost:8080/"
    },
    "id": "CkpyZZUwKOtm",
    "outputId": "aeaaa64b-9164-49ca-98e2-673d7608e333"
   },
   "outputs": [
    {
     "data": {
      "text/plain": [
       "0.6611993844944798"
      ]
     },
     "execution_count": 10,
     "metadata": {},
     "output_type": "execute_result"
    }
   ],
   "source": [
    "loss.smoothness"
   ]
  },
  {
   "cell_type": "code",
   "execution_count": 17,
   "metadata": {
    "id": "xazcrCsDC9iV"
   },
   "outputs": [],
   "source": [
    "class ProxSkip(StochasticOptimizer):\n",
    "    \"\"\"\n",
    "    Stochastic gradient descent with decreasing or constant learning rate.\n",
    "    \n",
    "    Arguments:\n",
    "        lr (float, optional): an estimate of the inverse smoothness constant\n",
    "        lr_decay_coef (float, optional): the coefficient in front of the number of finished iterations\n",
    "            in the denominator of step-size. For strongly convex problems, a good value\n",
    "            is mu/2, where mu is the strong convexity constant\n",
    "        lr_decay_power (float, optional): the power to exponentiate the number of finished iterations\n",
    "            in the denominator of step-size. For strongly convex problems, a good value is 1 (default: 1)\n",
    "        it_start_decay (int, optional): how many iterations the step-size is kept constant\n",
    "            By default, will be set to have about 2.5% of iterations with the step-size equal to lr0\n",
    "        batch_size (int, optional): the number of samples from the function to be used at each iteration\n",
    "    \"\"\"\n",
    "    def __init__(self, it_local, n_workers=None, cohort_size=None, iid=False, lr0=None, lr_max=np.inf, lr_decay_coef=0,\n",
    "                 lr_decay_power=1, it_start_decay=None, batch_size=1, losses=None, *args, **kwargs):\n",
    "        super(ProxSkip, self).__init__(*args, **kwargs)\n",
    "        self.it_local = it_local\n",
    "        if n_workers is None:\n",
    "            n_workers = psutil.cpu_count(logical=False)\n",
    "        if cohort_size is None:\n",
    "            cohort_size = n_workers\n",
    "        self.n_workers = n_workers\n",
    "        self.cohort_size = cohort_size\n",
    "        self.iid = iid\n",
    "        self.lr0 = lr0\n",
    "        self.lr_max = lr_max\n",
    "        self.lr_decay_coef = lr_decay_coef\n",
    "        self.lr_decay_power = lr_decay_power\n",
    "        self.it_start_decay = it_start_decay\n",
    "        self.batch_size = batch_size\n",
    "        self.losses = losses\n",
    "        \n",
    "    def step(self):\n",
    "        denom_const = 1 / self.lr0\n",
    "        lr_decayed = 1 / (denom_const + self.it_local*self.lr_decay_coef*max(0, self.it-self.it_start_decay)**self.lr_decay_power)\n",
    "        if lr_decayed < 0:\n",
    "            lr_decayed = np.inf\n",
    "        self.lr = min(lr_decayed, self.lr_max)\n",
    "        x_id = ray.put(self.x)\n",
    "        \n",
    "        if self.cohort_size == self.n_workers:\n",
    "            self.x = np.mean(ray.get([worker.run_local.remote(x_id, self.lr) for worker in self.workers]), axis=0)\n",
    "        else:\n",
    "            cohort = np.random.choice(self.n_workers, self.cohort_size, replace=False)\n",
    "            self.x = np.mean(ray.get([self.workers[i].run_local.remote(x_id, self.lr) for i in cohort]), axis=0)\n",
    "    \n",
    "    def init_run(self, *args, **kwargs):\n",
    "        super(ProxSkip, self).init_run(*args, **kwargs)\n",
    "        if self.it_start_decay is None and np.isfinite(self.it_max):\n",
    "            self.it_start_decay = self.it_max // 40 if np.isfinite(self.it_max) else 0\n",
    "        if self.lr0 is None:\n",
    "            self.lr0 = 1 / self.loss.batch_smoothness(batch_size)\n",
    "        if self.iid:\n",
    "            loss_id = ray.put(self.loss)\n",
    "            self.workers = [Worker.remote(shuffle=False, prox_skip=True, loss=loss_id, it_local=self.it_local, batch_size=self.batch_size) for _ in range(self.n_workers)]\n",
    "        else:\n",
    "            loss_ids = [ray.put(self.losses[i]) for i in range(self.n_workers)]\n",
    "            self.workers = [Worker.remote(shuffle=False, prox_skip=True, loss=loss, it_local=self.it_local, batch_size=self.batch_size) for loss in loss_ids]\n",
    "        \n",
    "    def update_trace(self, first_iterations=10):\n",
    "        super(ProxSkip, self).update_trace()\n",
    "        \n",
    "    def terminate_workers(self):\n",
    "        for worker in self.workers:\n",
    "            ray.kill(worker)"
   ]
  },
  {
   "cell_type": "code",
   "execution_count": 17,
   "metadata": {},
   "outputs": [],
   "source": [
    "def abu_grad(list_x_0,list_y_0,eta_x,eta_y,beta_y,theta,L_x,T,M,K):\n",
    "    history = []\n",
    "    x = copy.deepcopy(list_x_0)\n",
    "    history.append(x)\n",
    "    y = copy.deepcopy(list_y_0)\n",
    "    hat_y = copy.deepcopy(list_y_0)\n",
    "    x_upd = copy.deepcopy(list_x_0)\n",
    "    y_upd = copy.deepcopy(list_y_0)\n",
    "    h = copy.deepcopy(list_y_0)\n",
    "    m = copy.deepcopy(list_y_0)\n",
    "    for t in range(T):\n",
    "        v = copy.deepcopy(x)\n",
    "        z = copy.deepcopy(list_x_0)\n",
    "        for i in range(M):\n",
    "            z[i] = x[i] - eta_x*aggr(hat_y,i)\n",
    "            for k in range(K):\n",
    "                v[i] = v[i] - (1/(L_x+(1/eta_x)))*(grad_f(v,i,losses)+(1/eta_x)*(v[i] - z[i]))\n",
    "        \n",
    "            x_upd[i] = x[i] - eta_x*(grad_f(v,i,losses)+aggr(hat_y,i))\n",
    "            h[i] = aggr(y,i)+grad_f(v,i,losses)\n",
    "            m[i] = x[i] - beta_y*h[i]\n",
    "    \n",
    "        for i in range(M):\n",
    "            y_upd[i] = y[i]+eta_y*aggr(m,i)\n",
    "            hat_y[i] = y_upd[i]+theta*(y_upd[i] - y[i])\n",
    "        \n",
    "        \n",
    "        y = copy.deepcopy(y_upd)\n",
    "        x = copy.deepcopy(x_upd)\n",
    "        history.append(x)\n",
    "        \n",
    "    return x,y,history\n",
    "            \n",
    "        "
   ]
  },
  {
   "cell_type": "code",
   "execution_count": 18,
   "metadata": {},
   "outputs": [],
   "source": [
    "list_x_0 = [x0]*n_workers"
   ]
  },
  {
   "cell_type": "code",
   "execution_count": 19,
   "metadata": {},
   "outputs": [],
   "source": [
    "list_y_0 = [x0]*n_workers"
   ]
  },
  {
   "cell_type": "code",
   "execution_count": 20,
   "metadata": {},
   "outputs": [],
   "source": [
    "list_hat_y = [x0]*n_workers"
   ]
  },
  {
   "cell_type": "code",
   "execution_count": 21,
   "metadata": {},
   "outputs": [],
   "source": [
    "eta_x = 1/(4*(loss.smoothness*l2)**0.5)"
   ]
  },
  {
   "cell_type": "code",
   "execution_count": 22,
   "metadata": {},
   "outputs": [],
   "source": [
    "eta_y = ((loss.smoothness*l2)**0.5)/(8*n_workers*n_workers)"
   ]
  },
  {
   "cell_type": "code",
   "execution_count": 23,
   "metadata": {},
   "outputs": [
    {
     "data": {
      "text/plain": [
       "2.066112108331796e-06"
      ]
     },
     "execution_count": 23,
     "metadata": {},
     "output_type": "execute_result"
    }
   ],
   "source": [
    "eta_y"
   ]
  },
  {
   "cell_type": "code",
   "execution_count": 24,
   "metadata": {},
   "outputs": [],
   "source": [
    "beta_y = min(1/loss.smoothness,1/(2*eta_y))"
   ]
  },
  {
   "cell_type": "code",
   "execution_count": 25,
   "metadata": {},
   "outputs": [
    {
     "data": {
      "text/plain": [
       "1.5125026311002856"
      ]
     },
     "execution_count": 25,
     "metadata": {},
     "output_type": "execute_result"
    }
   ],
   "source": [
    "beta_y"
   ]
  },
  {
   "cell_type": "code",
   "execution_count": 26,
   "metadata": {},
   "outputs": [],
   "source": [
    "theta = max( 2/(2+l2*eta_x) , 1-(n*n*beta_y*eta_y))"
   ]
  },
  {
   "cell_type": "code",
   "execution_count": 27,
   "metadata": {},
   "outputs": [
    {
     "data": {
      "text/plain": [
       "0.9987515605493134"
      ]
     },
     "execution_count": 27,
     "metadata": {},
     "output_type": "execute_result"
    }
   ],
   "source": [
    "theta"
   ]
  },
  {
   "cell_type": "code",
   "execution_count": 28,
   "metadata": {},
   "outputs": [],
   "source": [
    "K_GD = 9*(1+(loss.smoothness/l2)**0.5)"
   ]
  },
  {
   "cell_type": "code",
   "execution_count": 29,
   "metadata": {},
   "outputs": [
    {
     "data": {
      "text/plain": [
       "909.0"
      ]
     },
     "execution_count": 29,
     "metadata": {},
     "output_type": "execute_result"
    }
   ],
   "source": [
    "K_GD"
   ]
  },
  {
   "cell_type": "code",
   "execution_count": 30,
   "metadata": {},
   "outputs": [],
   "source": [
    "import numpy as np"
   ]
  },
  {
   "cell_type": "code",
   "execution_count": 31,
   "metadata": {},
   "outputs": [],
   "source": [
    "def aggr(list_vec,my_index):\n",
    "    res = len(list_vec)*(list_vec[my_index] - np.mean(list_vec,axis=0))\n",
    "    return res"
   ]
  },
  {
   "cell_type": "code",
   "execution_count": 32,
   "metadata": {},
   "outputs": [],
   "source": [
    "def grad_f(list_vec,my_index,losses):\n",
    "    grad = losses[my_index].gradient(list_vec[my_index])\n",
    "    return grad"
   ]
  },
  {
   "cell_type": "code",
   "execution_count": 34,
   "metadata": {},
   "outputs": [],
   "source": [
    "x_f,y_f, history_f = abu_grad(list_x_0,list_y_0,eta_x,eta_y,beta_y,theta,loss.smoothness,4000,n_workers,int(K_GD))"
   ]
  },
  {
   "cell_type": "code",
   "execution_count": 35,
   "metadata": {},
   "outputs": [],
   "source": [
    "loss_hist = []\n",
    "for t in range(len(history_f)):\n",
    "    mean_vec = np.array(np.mean(history_f[t],axis=0))\n",
    "    loss_t = loss._value(mean_vec)\n",
    "    loss_hist.append(loss_t - loss.f_opt)"
   ]
  },
  {
   "cell_type": "code",
   "execution_count": 36,
   "metadata": {},
   "outputs": [
    {
     "data": {
      "image/png": "[encoded data removed]",
      "text/plain": [
       "<Figure size 648x432 with 1 Axes>"
      ]
     },
     "metadata": {},
     "output_type": "display_data"
    }
   ],
   "source": [
    "plt.plot(range(4001),loss_hist)\n",
    "plt.yscale('log')"
   ]
  },
  {
   "cell_type": "code",
   "execution_count": 75,
   "metadata": {},
   "outputs": [
    {
     "data": {
      "text/plain": [
       "(300,)"
      ]
     },
     "execution_count": 75,
     "metadata": {},
     "output_type": "execute_result"
    }
   ],
   "source": [
    "np.array(np.mean(history_f[-1],axis=0)).shape"
   ]
  },
  {
   "cell_type": "code",
   "execution_count": 33,
   "metadata": {},
   "outputs": [],
   "source": [
    "import copy"
   ]
  },
  {
   "cell_type": "code",
   "execution_count": 30,
   "metadata": {},
   "outputs": [
    {
     "data": {
      "text/plain": [
       "Text(0.5, 0, 'Communication rounds')"
      ]
     },
     "execution_count": 30,
     "metadata": {},
     "output_type": "execute_result"
    },
    {
     "data": {
      "image/png": "[encoded data removed]",
      "text/plain": [
       "<Figure size 648x432 with 1 Axes>"
      ]
     },
     "metadata": {},
     "output_type": "display_data"
    }
   ],
   "source": [
    "\n",
    "skip.trace.plot_losses(label='ProxSkip', color='red')\n",
    "# rest.trace.plot_losses(label='NAG', color='blue')\n",
    "# nest_true.trace.plot_losses(label='NAG', color='blue')\n",
    "# plt.plot(loss_hist,label = 'APDA',color = 'green')\n",
    "# plt.plot(loss_hist_f_a,label = 'acc-APDA',color = 'orange')\n",
    "plt.ylim(bottom = 10**(-9))\n",
    "plt.xlim(right = 1000)\n",
    "plt.xlim(left = -20)\n",
    "plt.yscale('log')\n",
    "plt.legend(loc='best')\n",
    "plt.xlabel('Communication rounds')\n",
    "# plt.savefig('ProxSKipvsNAG.pdf')"
   ]
  },
  {
   "cell_type": "code",
   "execution_count": 29,
   "metadata": {},
   "outputs": [],
   "source": [
    "if batch_size is not None:\n",
    "    it_local = (n-1) // batch_size + 1\n",
    "    skip_lr0 = 1 / loss.batch_smoothness(batch_size=batch_size) / it_local\n",
    "    it_max = n*5//(batch_size*it_local)\n",
    "    skip_decay_coef = l2 / 2\n",
    "else:\n",
    "    it_local = 30 # same as for other methods\n",
    "    skip_lr0 = 1 / (10*loss.smoothness)\n",
    "    it_max = 1000 # same as before\n",
    "    skip_decay_coef = 0. # With full gradients, we don't need to decrease the stepsize\n",
    "\n",
    "skip_lr_max = skip_lr0\n",
    "skip = ProxSkip(loss=loss, n_workers=n_workers, cohort_size=cohort_size, it_local=it_local, \n",
    "               lr_max=skip_lr_max, lr0=skip_lr0, lr_decay_coef=skip_decay_coef, \n",
    "               it_start_decay=0, n_seeds=n_seeds, batch_size=batch_size, trace_len=200, iid=False, losses=losses)\n",
    "skip.run(x0=x0, it_max=it_max)\n",
    "# sgd.trace.convert_its_to_epochs(batch_size=batch_size*it_local)\n",
    "skip.trace.compute_loss_of_iterates()\n",
    "skip.terminate_workers()"
   ]
  },
  {
   "cell_type": "code",
   "execution_count": 57,
   "metadata": {},
   "outputs": [],
   "source": [
    "def acc_abu_grad(list_x_0,list_y_0,eta_x,eta_y,beta_y,theta,L_x,T,M,K):\n",
    "    history = []\n",
    "    x = copy.deepcopy(list_x_0)\n",
    "    history.append(x)\n",
    "    y = copy.deepcopy(list_y_0)\n",
    "    hat_y = copy.deepcopy(list_y_0)\n",
    "    x_upd = copy.deepcopy(list_x_0)\n",
    "    y_upd = copy.deepcopy(list_y_0)\n",
    "    h = copy.deepcopy(list_y_0)\n",
    "    m = copy.deepcopy(list_y_0)\n",
    "    for t in range(T):\n",
    "        v = copy.deepcopy(x)\n",
    "        v_upd = copy.deepcopy(x)\n",
    "        w = copy.deepcopy(x)\n",
    "        w_upd = copy.deepcopy(x)\n",
    "        z = copy.deepcopy(list_x_0)\n",
    "        for i in range(M):\n",
    "            z[i] = x[i] - eta_x*aggr(hat_y,i)\n",
    "            \n",
    "            for k in range(int(K/2)):\n",
    "                v_upd[i] = w[i] - (1/(L_x+(1/eta_x)))*(grad_f(w,i,losses)+(1/eta_x)*(w[i] - z[i]))\n",
    "                a = (L_x+1/eta_x)**0.5 - (l2+1/eta_x)**0.5\n",
    "                b = (L_x+1/eta_x)**0.5 + (l2+1/eta_x)**0.5\n",
    "                w_upd[i] = v_upd[i] + (a/b)*(v_upd[i] - v[i])\n",
    "                v[i] = copy.deepcopy(v_upd[i])\n",
    "                w[i] = copy.deepcopy(w_upd[i])\n",
    "            \n",
    "            for k in range(int(K/2)):\n",
    "                v[i] = v[i] - (1/(L_x+(1/eta_x)))*(grad_f(v,i,losses)+(1/eta_x)*(v[i] - z[i]))\n",
    "        \n",
    "            x_upd[i] = x[i] - eta_x*(grad_f(v,i,losses)+aggr(hat_y,i))\n",
    "            h[i] = aggr(y,i)+grad_f(v,i,losses)\n",
    "            m[i] = x[i] - beta_y*h[i]\n",
    "    \n",
    "        for i in range(M):\n",
    "            y_upd[i] = y[i]+eta_y*aggr(m,i)\n",
    "            hat_y[i] = y_upd[i]+theta*(y_upd[i] - y[i])\n",
    "        \n",
    "        \n",
    "        y = copy.deepcopy(y_upd)\n",
    "        x = copy.deepcopy(x_upd)\n",
    "        history.append(x)\n",
    "        \n",
    "    return x,y,history"
   ]
  },
  {
   "cell_type": "code",
   "execution_count": 64,
   "metadata": {},
   "outputs": [],
   "source": [
    "K_nest = ((20*64)**(1/3))*((1+(loss.smoothness/l2)**(0.5))**(2/3))"
   ]
  },
  {
   "cell_type": "code",
   "execution_count": 66,
   "metadata": {},
   "outputs": [
    {
     "data": {
      "text/plain": [
       "909.0"
      ]
     },
     "execution_count": 66,
     "metadata": {},
     "output_type": "execute_result"
    }
   ],
   "source": [
    "K_GD"
   ]
  },
  {
   "cell_type": "code",
   "execution_count": 67,
   "metadata": {},
   "outputs": [],
   "source": [
    "x_f_a,y_f_a,history_f_a = acc_abu_grad(list_x_0,list_y_0,eta_x,eta_y,beta_y,theta,loss.smoothness,3000,n_workers,K_nest)"
   ]
  },
  {
   "cell_type": "code",
   "execution_count": 68,
   "metadata": {},
   "outputs": [],
   "source": [
    "loss_hist_f_a = []\n",
    "for t in range(len(history_f_a)):\n",
    "    mean_vec_a = np.array(np.mean(history_f_a[t],axis=0))\n",
    "    loss_t_a = loss._value(mean_vec_a)\n",
    "    loss_hist_f_a.append(loss_t_a - loss.f_opt)"
   ]
  },
  {
   "cell_type": "code",
   "execution_count": 71,
   "metadata": {},
   "outputs": [],
   "source": [
    "loss_hist_f_a_upd = []\n",
    "for t in range(len(history_f_a)):\n",
    "    mean_vec_a = np.array(np.mean(history_f_a[t],axis=0))\n",
    "    for k in range(int(K_nest)):\n",
    "        loss_t_a = loss._value(mean_vec_a)\n",
    "        loss_hist_f_a_upd.append(loss_t_a - loss.f_opt)"
   ]
  },
  {
   "cell_type": "code",
   "execution_count": 74,
   "metadata": {},
   "outputs": [],
   "source": [
    "loss_hist_ff_upd = []\n",
    "for t in range(len(history_f)):\n",
    "    mean_vec_a = np.array(np.mean(history_f[t],axis=0))\n",
    "    loss_t_a = loss._value(mean_vec_a)\n",
    "    for k in range(int(K_GD)):\n",
    "        loss_hist_ff_upd.append(loss_t_a - loss.f_opt)"
   ]
  },
  {
   "cell_type": "code",
   "execution_count": 87,
   "metadata": {
    "scrolled": false
   },
   "outputs": [
    {
     "data": {
      "image/png": "[encoded data removed]",
      "text/plain": [
       "<Figure size 648x432 with 1 Axes>"
      ]
     },
     "metadata": {},
     "output_type": "display_data"
    }
   ],
   "source": [
    "plt.plot(loss_hist_f_a_upd,label = 'APDA-NAG',color = 'orange')\n",
    "plt.plot(loss_hist_ff_upd,label = 'APDA-GD',color = 'red')\n",
    "plt.legend(loc='best')\n",
    "plt.yscale('log')\n",
    "plt.ylim(bottom = 10**(-9))\n",
    "plt.xlim(right = 2.5*10**(6))\n",
    "plt.xlim(left = -20000)\n",
    "plt.xlabel('Total iterations')\n",
    "plt.ylabel('$ f(x) - f^*$')\n",
    "plt.savefig('APDA_total.pdf')\n"
   ]
  },
  {
   "cell_type": "code",
   "execution_count": 20,
   "metadata": {},
   "outputs": [],
   "source": [
    "from optmethods.first_order import Nesterov\n",
    "nest_true = Nesterov(loss=loss, strongly_convex=True, mu=loss.l2, label='Nesterov acceleration')\n",
    "nest_true_tr = nest_true.run(x0=x0, it_max=10000)\n",
    "nest_true_tr.compute_loss_of_iterates()"
   ]
  },
  {
   "cell_type": "code",
   "execution_count": 21,
   "metadata": {},
   "outputs": [],
   "source": [
    "nest_true.loss_vals = []"
   ]
  },
  {
   "cell_type": "code",
   "execution_count": 99,
   "metadata": {},
   "outputs": [],
   "source": [
    "x_f_1,y_f_1, history_f_1 = abu_grad(list_x_0,list_y_0,4*eta_x,eta_y,beta_y,theta,loss.smoothness,1500,n_workers,int(K_GD))"
   ]
  },
  {
   "cell_type": "code",
   "execution_count": null,
   "metadata": {},
   "outputs": [],
   "source": []
  }
 ],
 "metadata": {
  "colab": {
   "collapsed_sections": [],
   "name": "fed-learning.ipynb",
   "provenance": []
  },
  "kernelspec": {
   "display_name": "Python 3",
   "language": "python",
   "name": "python3"
  },
  "language_info": {
   "codemirror_mode": {
    "name": "ipython",
    "version": 3
   },
   "file_extension": ".py",
   "mimetype": "text/x-python",
   "name": "python",
   "nbconvert_exporter": "python",
   "pygments_lexer": "ipython3",
   "version": "3.8.5"
  }
 },
 "nbformat": 4,
 "nbformat_minor": 1
}
